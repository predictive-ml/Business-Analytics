{
 "cells": [
  {
   "cell_type": "markdown",
   "metadata": {},
   "source": [
    "# SECRID  DATA ANALYSIS PROJECT\n",
    "\n",
    "\n",
    "<span style=\"color: gray; font-size:1em;\">January-2020</span>\n",
    "\n",
    "\n",
    "## Table of Contents\n",
    "* [Introduction](#introduction)\n",
    "* [Section One - Import Data into IDE](#import_data)\n",
    "    * [Part I - Gathering Data](#gather_data)\n",
    "    * [Part II - Assessing Data](#assess_data)\n",
    "    * [Part III - Cleaning Data](#clean_data)\n",
    "* [Section Two - Product Item Analysis](#items)\n",
    "    * [Item I - Miniwallet Analysis](#miniwallet)\n",
    "    * [Part II - Slimwallet Analysis](#slimwallet)\n",
    "    * [Part III - Twinwallet Analysis](#twinwallet) \n",
    "    \n"
   ]
  },
  {
   "cell_type": "markdown",
   "metadata": {},
   "source": [
    "<a id='introduction'></a>\n",
    "## Introduction\n",
    "\n",
    "SECRID is a business entity based in the Netherlands. It produces, stocks and sells designer wallets, particularly leather based wallets in more than 100 countries all over the world.\n",
    "\n",
    "This notebook explores SECRID miniwallet sales data\n"
   ]
  },
  {
   "cell_type": "markdown",
   "metadata": {},
   "source": [
    "<a id='#import_data'></a>\n",
    "## Section One : Import Data into IDE"
   ]
  },
  {
   "cell_type": "markdown",
   "metadata": {},
   "source": [
    "<a id='gather_data'></a>\n",
    "## Part I : Gathering Data"
   ]
  },
  {
   "cell_type": "code",
   "execution_count": 1,
   "metadata": {},
   "outputs": [],
   "source": [
    "# load required libraries\n",
    "import numpy as np\n",
    "import pandas as pd\n",
    "from pandas import DataFrame\n",
    "from pandas import read_excel\n",
    "\n",
    "import zipfile\n",
    "import xlsxwriter\n",
    "\n",
    "import seaborn as sns\n",
    "# Use seaborn style defaults and set the default figure size\n",
    "sns.set(rc={'figure.figsize':(11, 4)})\n",
    "\n",
    "import matplotlib.pyplot as plt\n",
    "%matplotlib inline\n",
    "import matplotlib.ticker as ticker\n",
    "from matplotlib import pyplot as plt\n",
    "from matplotlib import dates as mpl_dates\n",
    "from pandas.plotting import register_matplotlib_converters\n",
    "register_matplotlib_converters()\n",
    "plt.style.use('seaborn')\n",
    "\n",
    "import six\n",
    "\n",
    "from datetime import datetime, timedelta\n",
    "\n",
    "# environment settings:\n",
    "pd.options.display.float_format = '{:.2f}'.format\n",
    "pd.set_option('display.max_column',None)\n",
    "pd.set_option('display.max_rows',None)\n",
    "pd.set_option('display.max_seq_items',None)\n",
    "pd.set_option('display.max_colwidth', 500)\n",
    "pd.set_option('expand_frame_repr', True)\n"
   ]
  },
  {
   "cell_type": "markdown",
   "metadata": {},
   "source": [
    "### Load .xlxs files"
   ]
  },
  {
   "cell_type": "code",
   "execution_count": 2,
   "metadata": {},
   "outputs": [],
   "source": [
    "#load sales 2015 \n",
    "df1 = pd.read_excel('SECRID DATA.xlsx',0) #load first spreadsheet of SECRID DATA.xlxs "
   ]
  },
  {
   "cell_type": "code",
   "execution_count": 3,
   "metadata": {},
   "outputs": [],
   "source": [
    "# #load sales 2016 \n",
    "df2 = pd.read_excel('SECRID DATA.xlsx',1) #load second spreadsheet of SECRID DATA.xlxs"
   ]
  },
  {
   "cell_type": "code",
   "execution_count": 4,
   "metadata": {},
   "outputs": [],
   "source": [
    "#load sales 2017\n",
    "df3 = pd.read_excel('SECRID DATA.xlsx',2)  #load third spreadsheet ofSECRID DATA.xlxs"
   ]
  },
  {
   "cell_type": "code",
   "execution_count": 5,
   "metadata": {},
   "outputs": [],
   "source": [
    "#load sales 2018\n",
    "df4 = pd.read_excel('SECRID DATA.xlsx',3)  #load fourth spreadsheet of SECRID DATA.xlxs"
   ]
  },
  {
   "cell_type": "code",
   "execution_count": 6,
   "metadata": {},
   "outputs": [],
   "source": [
    "#load sales 2019\n",
    "df5 = pd.read_excel('SECRID DATA.xlsx',4)  #load fifth spreadsheet of SECRID DATA.xlxs"
   ]
  },
  {
   "cell_type": "code",
   "execution_count": 7,
   "metadata": {},
   "outputs": [],
   "source": [
    "#load product data\n",
    "df6 = pd.read_excel('SECRID DATA.xlsx',5) #load sixth spreadsheet of SECRID DATA.xlxs"
   ]
  },
  {
   "cell_type": "code",
   "execution_count": 8,
   "metadata": {},
   "outputs": [],
   "source": [
    "#combine df4 and df5  into one complete dataframe 'df' for miniwallet data\n",
    "df = pd.concat([df1, df2, df3, df4, df5]) "
   ]
  },
  {
   "cell_type": "markdown",
   "metadata": {},
   "source": [
    "<a id='assess_data'></a>\n",
    "## Part II - Assessing  Data"
   ]
  },
  {
   "cell_type": "code",
   "execution_count": null,
   "metadata": {
    "scrolled": true
   },
   "outputs": [],
   "source": [
    "df.head() #preview first five rows"
   ]
  },
  {
   "cell_type": "code",
   "execution_count": null,
   "metadata": {},
   "outputs": [],
   "source": [
    "df.tail() #preview last five rows"
   ]
  },
  {
   "cell_type": "code",
   "execution_count": 9,
   "metadata": {},
   "outputs": [
    {
     "data": {
      "text/plain": [
       "(1609533, 18)"
      ]
     },
     "execution_count": 9,
     "metadata": {},
     "output_type": "execute_result"
    }
   ],
   "source": [
    "# Check size of the dataframe \n",
    "df.shape "
   ]
  },
  {
   "cell_type": "code",
   "execution_count": null,
   "metadata": {
    "scrolled": true
   },
   "outputs": [],
   "source": [
    "# list names of columns in dataframe\n",
    "df.columns "
   ]
  },
  {
   "cell_type": "code",
   "execution_count": null,
   "metadata": {
    "scrolled": true
   },
   "outputs": [],
   "source": [
    "# View info of the dataframe \n",
    "df.info()"
   ]
  },
  {
   "cell_type": "code",
   "execution_count": null,
   "metadata": {},
   "outputs": [],
   "source": [
    "# view some of the core statistics about columns\n",
    "df.describe(include='all')"
   ]
  },
  {
   "cell_type": "code",
   "execution_count": null,
   "metadata": {},
   "outputs": [],
   "source": [
    "# check the Data types (dtypes) of each column in Dataframe\n",
    "df.dtypes "
   ]
  },
  {
   "cell_type": "code",
   "execution_count": null,
   "metadata": {},
   "outputs": [],
   "source": [
    "# Total sum of duplicate rows\n",
    "df.duplicated().sum() # returns a Boolean Series with True value for each duplicated row and sums them"
   ]
  },
  {
   "cell_type": "code",
   "execution_count": null,
   "metadata": {},
   "outputs": [],
   "source": [
    "#return the number of unique elements in each column\n",
    "print(df.nunique()) "
   ]
  },
  {
   "cell_type": "code",
   "execution_count": null,
   "metadata": {},
   "outputs": [],
   "source": [
    "df.count() #returns the number of non-missing values for each column or row"
   ]
  },
  {
   "cell_type": "code",
   "execution_count": null,
   "metadata": {},
   "outputs": [],
   "source": [
    "#Total missing values(NaN) in a DataFrame\n",
    "df.isnull().sum().sum()"
   ]
  },
  {
   "cell_type": "code",
   "execution_count": null,
   "metadata": {},
   "outputs": [],
   "source": [
    "#Count number of NaN for each column in DataFrame\n",
    "print(df.isnull().sum()) "
   ]
  },
  {
   "cell_type": "markdown",
   "metadata": {},
   "source": [
    "<a id='issues'></a>\n",
    "**Quality issues**\n",
    " * Rename column names to have clear, descriptive names in small letters according to best practice. Column 'name' can be renamed to 'customer_name' and column 'material' can be renamed to 'type_of_material'\n",
    " * Set to columns to appropriate category data type: 'internal_id', 'document_number', 'customer_name', 'customer _category', 'retailer_role', 'shipping_country', 'item', 'display_name', 'pim_category','type_of_material', \n",
    "   'pim_colour', 'wsl', 'while_stock_lasts' and 'cardprotector_colour' "
   ]
  },
  {
   "cell_type": "markdown",
   "metadata": {},
   "source": [
    "<a id='clean_data'></a>\n",
    "## Part III - Cleaning Data"
   ]
  },
  {
   "cell_type": "code",
   "execution_count": 10,
   "metadata": {},
   "outputs": [],
   "source": [
    "# Create copy of original DataFrame\n",
    "df_clean = df.copy()"
   ]
  },
  {
   "cell_type": "code",
   "execution_count": 11,
   "metadata": {},
   "outputs": [],
   "source": [
    "#Fixing messy column names\n",
    "df_clean.columns = df_clean.columns.str.strip().str.lower().str.replace(' ', '_').str.replace('(', '').str.replace(')', '')"
   ]
  },
  {
   "cell_type": "code",
   "execution_count": 12,
   "metadata": {},
   "outputs": [],
   "source": [
    "# change column names using rename function\n",
    "df_clean.rename(columns={                                                 \n",
    "                         'name':'customer_name',\n",
    "                         'wsl_+':'wsl',\n",
    "                         'material':'type_of_material' }, \n",
    "                 inplace=True)"
   ]
  },
  {
   "cell_type": "markdown",
   "metadata": {},
   "source": [
    "**Test**"
   ]
  },
  {
   "cell_type": "code",
   "execution_count": 13,
   "metadata": {},
   "outputs": [
    {
     "data": {
      "text/plain": [
       "Index(['internal_id', 'document_number', 'date', 'customer_name',\n",
       "       'customer_category', 'retailer_role', 'shipping_country', 'item',\n",
       "       'display_name', 'quantity', 'amount', 'amount_foreign_currency',\n",
       "       'pim_category', 'type_of_material', 'pim_colour', 'wsl',\n",
       "       'while_stock_lasts', 'cardprotector_colour'],\n",
       "      dtype='object')"
      ]
     },
     "execution_count": 13,
     "metadata": {},
     "output_type": "execute_result"
    }
   ],
   "source": [
    "df_clean.columns #List of column names in df_clean Dataframe"
   ]
  },
  {
   "cell_type": "markdown",
   "metadata": {},
   "source": [
    "**Define**\n",
    "<br>Set appropriate data types for fields mentioned in the [Quality issues](#issues) "
   ]
  },
  {
   "cell_type": "code",
   "execution_count": 14,
   "metadata": {},
   "outputs": [],
   "source": [
    "# use .astype to change data type of dataframe columns\n",
    "df_clean = df_clean.astype({\"internal_id\":'category',\"document_number\":'category', \"customer_name\":'category', \"customer_category\":'category', \"retailer_role\":'category', \"shipping_country\":'category', \"item\":'category',\"display_name\":'category', \"pim_category\":'category', \"type_of_material\":'category', \"pim_colour\":'category',\"wsl\":'category', \"while_stock_lasts\":'category', \"cardprotector_colour\":'category'})"
   ]
  },
  {
   "cell_type": "markdown",
   "metadata": {},
   "source": [
    "**Test**"
   ]
  },
  {
   "cell_type": "code",
   "execution_count": null,
   "metadata": {},
   "outputs": [],
   "source": [
    "df_clean.info()"
   ]
  },
  {
   "cell_type": "code",
   "execution_count": null,
   "metadata": {},
   "outputs": [],
   "source": [
    "# view some of the core statistics about columns\n",
    "df_clean.describe(include='all')"
   ]
  },
  {
   "cell_type": "markdown",
   "metadata": {},
   "source": [
    "### content structure of sales dataset\n",
    "The sales data contains 18 columns (variables) and 1,609,533 rows (entries). \n",
    "This is evidence that 1,609,533 sale transactions were completed in the January 2015 – July 2019 period for SECRID business. The dataset contained features about:\n",
    "\n",
    "* Products for sale: item, display_name, pim_category, pim_colour, type_of_material and cardprotector_colour\n",
    "* The country the item was shipped to : shipping_country  \n",
    "* Customer data:  customer_name, customer_category and retailer_role\n",
    "* Sale transactions: internal_id, document_number, quantity, amount, amount(foreign_currency) and date\n",
    "\n",
    "\n",
    "### Detected Missing Values\n",
    "A null value is a value in a field that appears to be blank. A null value is a field with no value. \n",
    "The table below indicates the number and  the resulting percentage of missing values per column.\n",
    "\n",
    "| Variable Name  | Value Count| Number Of Missing Values| % Of Missing Values\n",
    "| -------------  | ------------- |------------- |-------------\n",
    "| internal_id    | 1,609,533  |0 |0%\n",
    "| document_number| 1,609,533  |0 |0%\n",
    "| date            | 1,609,533  |0 |0%\n",
    "| customer_name  | 1,609,533  |0 |0%\n",
    "| customer_category  | 1,604,118  |5,415     |0.34%\n",
    "| retailer_role      | 45,994     |1,563,539 |97.14%\n",
    "| shipping_country   | 1,603,431  |6,102     |0.38%\n",
    "| item               | 1,609,533  |0 |0%\n",
    "| display_name       | 1,609,533  |0 |0%\n",
    "| quantity           | 1,609,533  |0 |0%\n",
    "| amount             | 1,609,533  |0 |0%\n",
    "| amount(foreign_currency)| 1,609,533 |0     |0%\n",
    "| type_of_material        | 1,608,493 |1,040 |0.065%\n",
    "| pim_category            | 1,608,493 |1,040 |0.065%\n",
    "| pim_colour              | 1,603,475 |6,058 |0.38%\n",
    "| wsl_+                   | 1,609,533 |0     |0%\n",
    "| while_stock_lasts       | 1,609,533 |0     |0%\n",
    "| cardprotector_colour    | 1,556,521 |53,012|3.29%\n",
    "\n",
    "\n"
   ]
  },
  {
   "cell_type": "markdown",
   "metadata": {},
   "source": [
    "<a id='items'></a>\n",
    "# PRODUCT ITEM ANALYSIS"
   ]
  },
  {
   "cell_type": "code",
   "execution_count": 15,
   "metadata": {},
   "outputs": [],
   "source": [
    "#create new column 'year' that registered year sale transaction was held\n",
    "df_clean['year'] = df_clean.date.dt.year"
   ]
  },
  {
   "cell_type": "code",
   "execution_count": 16,
   "metadata": {},
   "outputs": [
    {
     "data": {
      "text/html": [
       "<div>\n",
       "<style scoped>\n",
       "    .dataframe tbody tr th:only-of-type {\n",
       "        vertical-align: middle;\n",
       "    }\n",
       "\n",
       "    .dataframe tbody tr th {\n",
       "        vertical-align: top;\n",
       "    }\n",
       "\n",
       "    .dataframe thead th {\n",
       "        text-align: right;\n",
       "    }\n",
       "</style>\n",
       "<table border=\"1\" class=\"dataframe\">\n",
       "  <thead>\n",
       "    <tr style=\"text-align: right;\">\n",
       "      <th></th>\n",
       "      <th>internal_id</th>\n",
       "      <th>document_number</th>\n",
       "      <th>date</th>\n",
       "      <th>customer_name</th>\n",
       "      <th>customer_category</th>\n",
       "      <th>retailer_role</th>\n",
       "      <th>shipping_country</th>\n",
       "      <th>item</th>\n",
       "      <th>display_name</th>\n",
       "      <th>quantity</th>\n",
       "      <th>amount</th>\n",
       "      <th>amount_foreign_currency</th>\n",
       "      <th>pim_category</th>\n",
       "      <th>type_of_material</th>\n",
       "      <th>pim_colour</th>\n",
       "      <th>wsl</th>\n",
       "      <th>while_stock_lasts</th>\n",
       "      <th>cardprotector_colour</th>\n",
       "      <th>year</th>\n",
       "    </tr>\n",
       "  </thead>\n",
       "  <tbody>\n",
       "    <tr>\n",
       "      <td>0</td>\n",
       "      <td>24560</td>\n",
       "      <td>I-1510000</td>\n",
       "      <td>2015-01-05</td>\n",
       "      <td>C-9855 SkilledIn</td>\n",
       "      <td>Promotional sales - End user</td>\n",
       "      <td>NaN</td>\n",
       "      <td>Netherlands</td>\n",
       "      <td>TA-Brown</td>\n",
       "      <td>Twinwallet Amazon Brown</td>\n",
       "      <td>1</td>\n",
       "      <td>54.26</td>\n",
       "      <td>54.26</td>\n",
       "      <td>Twinwallet</td>\n",
       "      <td>Amazon</td>\n",
       "      <td>Brown</td>\n",
       "      <td>No</td>\n",
       "      <td>No</td>\n",
       "      <td>Silver</td>\n",
       "      <td>2015</td>\n",
       "    </tr>\n",
       "    <tr>\n",
       "      <td>1</td>\n",
       "      <td>24580</td>\n",
       "      <td>I-1510001</td>\n",
       "      <td>2015-01-05</td>\n",
       "      <td>C-9255 Rubino di vittorio E Sergio Della Rocca &amp; C. SNC attn. Spimar</td>\n",
       "      <td>Leather goods</td>\n",
       "      <td>NaN</td>\n",
       "      <td>Italy</td>\n",
       "      <td>C-Black</td>\n",
       "      <td>Cardprotector Black</td>\n",
       "      <td>1</td>\n",
       "      <td>11.20</td>\n",
       "      <td>11.20</td>\n",
       "      <td>Cardprotector</td>\n",
       "      <td>Aluminium</td>\n",
       "      <td>Black</td>\n",
       "      <td>No</td>\n",
       "      <td>No</td>\n",
       "      <td>Black</td>\n",
       "      <td>2015</td>\n",
       "    </tr>\n",
       "    <tr>\n",
       "      <td>2</td>\n",
       "      <td>24580</td>\n",
       "      <td>I-1510001</td>\n",
       "      <td>2015-01-05</td>\n",
       "      <td>C-9255 Rubino di vittorio E Sergio Della Rocca &amp; C. SNC attn. Spimar</td>\n",
       "      <td>Leather goods</td>\n",
       "      <td>NaN</td>\n",
       "      <td>Italy</td>\n",
       "      <td>C-Blue</td>\n",
       "      <td>Cardprotector Blue</td>\n",
       "      <td>2</td>\n",
       "      <td>22.40</td>\n",
       "      <td>22.40</td>\n",
       "      <td>Cardprotector</td>\n",
       "      <td>Aluminium</td>\n",
       "      <td>Blue</td>\n",
       "      <td>No</td>\n",
       "      <td>No</td>\n",
       "      <td>Blue</td>\n",
       "      <td>2015</td>\n",
       "    </tr>\n",
       "    <tr>\n",
       "      <td>3</td>\n",
       "      <td>24580</td>\n",
       "      <td>I-1510001</td>\n",
       "      <td>2015-01-05</td>\n",
       "      <td>C-9255 Rubino di vittorio E Sergio Della Rocca &amp; C. SNC attn. Spimar</td>\n",
       "      <td>Leather goods</td>\n",
       "      <td>NaN</td>\n",
       "      <td>Italy</td>\n",
       "      <td>C-Red</td>\n",
       "      <td>Cardprotector Red</td>\n",
       "      <td>2</td>\n",
       "      <td>22.40</td>\n",
       "      <td>22.40</td>\n",
       "      <td>Cardprotector</td>\n",
       "      <td>Aluminium</td>\n",
       "      <td>Red</td>\n",
       "      <td>No</td>\n",
       "      <td>No</td>\n",
       "      <td>Red</td>\n",
       "      <td>2015</td>\n",
       "    </tr>\n",
       "    <tr>\n",
       "      <td>4</td>\n",
       "      <td>24580</td>\n",
       "      <td>I-1510001</td>\n",
       "      <td>2015-01-05</td>\n",
       "      <td>C-9255 Rubino di vittorio E Sergio Della Rocca &amp; C. SNC attn. Spimar</td>\n",
       "      <td>Leather goods</td>\n",
       "      <td>NaN</td>\n",
       "      <td>Italy</td>\n",
       "      <td>C-Titanium</td>\n",
       "      <td>Cardprotector Titanium Color</td>\n",
       "      <td>2</td>\n",
       "      <td>22.40</td>\n",
       "      <td>22.40</td>\n",
       "      <td>Cardprotector</td>\n",
       "      <td>Aluminium</td>\n",
       "      <td>Titanium</td>\n",
       "      <td>No</td>\n",
       "      <td>No</td>\n",
       "      <td>Titanium</td>\n",
       "      <td>2015</td>\n",
       "    </tr>\n",
       "  </tbody>\n",
       "</table>\n",
       "</div>"
      ],
      "text/plain": [
       "  internal_id document_number       date  \\\n",
       "0       24560       I-1510000 2015-01-05   \n",
       "1       24580       I-1510001 2015-01-05   \n",
       "2       24580       I-1510001 2015-01-05   \n",
       "3       24580       I-1510001 2015-01-05   \n",
       "4       24580       I-1510001 2015-01-05   \n",
       "\n",
       "                                                          customer_name  \\\n",
       "0                                                      C-9855 SkilledIn   \n",
       "1  C-9255 Rubino di vittorio E Sergio Della Rocca & C. SNC attn. Spimar   \n",
       "2  C-9255 Rubino di vittorio E Sergio Della Rocca & C. SNC attn. Spimar   \n",
       "3  C-9255 Rubino di vittorio E Sergio Della Rocca & C. SNC attn. Spimar   \n",
       "4  C-9255 Rubino di vittorio E Sergio Della Rocca & C. SNC attn. Spimar   \n",
       "\n",
       "              customer_category retailer_role shipping_country        item  \\\n",
       "0  Promotional sales - End user           NaN      Netherlands    TA-Brown   \n",
       "1                 Leather goods           NaN            Italy     C-Black   \n",
       "2                 Leather goods           NaN            Italy      C-Blue   \n",
       "3                 Leather goods           NaN            Italy       C-Red   \n",
       "4                 Leather goods           NaN            Italy  C-Titanium   \n",
       "\n",
       "                   display_name  quantity  amount  amount_foreign_currency  \\\n",
       "0       Twinwallet Amazon Brown         1   54.26                    54.26   \n",
       "1           Cardprotector Black         1   11.20                    11.20   \n",
       "2            Cardprotector Blue         2   22.40                    22.40   \n",
       "3             Cardprotector Red         2   22.40                    22.40   \n",
       "4  Cardprotector Titanium Color         2   22.40                    22.40   \n",
       "\n",
       "    pim_category type_of_material pim_colour wsl while_stock_lasts  \\\n",
       "0     Twinwallet           Amazon      Brown  No                No   \n",
       "1  Cardprotector        Aluminium      Black  No                No   \n",
       "2  Cardprotector        Aluminium       Blue  No                No   \n",
       "3  Cardprotector        Aluminium        Red  No                No   \n",
       "4  Cardprotector        Aluminium   Titanium  No                No   \n",
       "\n",
       "  cardprotector_colour  year  \n",
       "0               Silver  2015  \n",
       "1                Black  2015  \n",
       "2                 Blue  2015  \n",
       "3                  Red  2015  \n",
       "4             Titanium  2015  "
      ]
     },
     "execution_count": 16,
     "metadata": {},
     "output_type": "execute_result"
    }
   ],
   "source": [
    "df_clean.head()"
   ]
  },
  {
   "cell_type": "markdown",
   "metadata": {},
   "source": [
    "<a id='miniwallet'></a>\n",
    "## MINIWALLET ANALYSIS"
   ]
  },
  {
   "cell_type": "code",
   "execution_count": 17,
   "metadata": {},
   "outputs": [],
   "source": [
    "# filter to only category of interest ('Miniwallet')\n",
    "miniwalletdf =df_clean[(df_clean.pim_category == 'Miniwallet')]"
   ]
  },
  {
   "cell_type": "code",
   "execution_count": 18,
   "metadata": {},
   "outputs": [],
   "source": [
    "# rows with positive values in Quantity column and Amount column\n",
    "miniwalletdf= miniwalletdf[(miniwalletdf.amount>0) & (miniwalletdf.quantity>0)]"
   ]
  },
  {
   "cell_type": "code",
   "execution_count": 19,
   "metadata": {
    "scrolled": true
   },
   "outputs": [
    {
     "data": {
      "text/html": [
       "<div>\n",
       "<style scoped>\n",
       "    .dataframe tbody tr th:only-of-type {\n",
       "        vertical-align: middle;\n",
       "    }\n",
       "\n",
       "    .dataframe tbody tr th {\n",
       "        vertical-align: top;\n",
       "    }\n",
       "\n",
       "    .dataframe thead th {\n",
       "        text-align: right;\n",
       "    }\n",
       "</style>\n",
       "<table border=\"1\" class=\"dataframe\">\n",
       "  <thead>\n",
       "    <tr style=\"text-align: right;\">\n",
       "      <th></th>\n",
       "      <th>internal_id</th>\n",
       "      <th>document_number</th>\n",
       "      <th>date</th>\n",
       "      <th>customer_name</th>\n",
       "      <th>customer_category</th>\n",
       "      <th>retailer_role</th>\n",
       "      <th>shipping_country</th>\n",
       "      <th>item</th>\n",
       "      <th>display_name</th>\n",
       "      <th>quantity</th>\n",
       "      <th>amount</th>\n",
       "      <th>amount_foreign_currency</th>\n",
       "      <th>pim_category</th>\n",
       "      <th>type_of_material</th>\n",
       "      <th>pim_colour</th>\n",
       "      <th>wsl</th>\n",
       "      <th>while_stock_lasts</th>\n",
       "      <th>cardprotector_colour</th>\n",
       "      <th>year</th>\n",
       "    </tr>\n",
       "  </thead>\n",
       "  <tbody>\n",
       "    <tr>\n",
       "      <td>12</td>\n",
       "      <td>30196</td>\n",
       "      <td>I-1510002</td>\n",
       "      <td>2015-01-06</td>\n",
       "      <td>C-6496 Eug Hoffman</td>\n",
       "      <td>Leather goods</td>\n",
       "      <td>NaN</td>\n",
       "      <td>Luxembourg</td>\n",
       "      <td>M-Black</td>\n",
       "      <td>Miniwallet Original Black</td>\n",
       "      <td>4</td>\n",
       "      <td>91.60</td>\n",
       "      <td>91.60</td>\n",
       "      <td>Miniwallet</td>\n",
       "      <td>Original</td>\n",
       "      <td>Black</td>\n",
       "      <td>No</td>\n",
       "      <td>No</td>\n",
       "      <td>Silver</td>\n",
       "      <td>2015</td>\n",
       "    </tr>\n",
       "    <tr>\n",
       "      <td>13</td>\n",
       "      <td>30196</td>\n",
       "      <td>I-1510002</td>\n",
       "      <td>2015-01-06</td>\n",
       "      <td>C-6496 Eug Hoffman</td>\n",
       "      <td>Leather goods</td>\n",
       "      <td>NaN</td>\n",
       "      <td>Luxembourg</td>\n",
       "      <td>M-Dark brown</td>\n",
       "      <td>Miniwallet Original Dark Brown</td>\n",
       "      <td>3</td>\n",
       "      <td>68.70</td>\n",
       "      <td>68.70</td>\n",
       "      <td>Miniwallet</td>\n",
       "      <td>Original</td>\n",
       "      <td>Dark brown</td>\n",
       "      <td>No</td>\n",
       "      <td>No</td>\n",
       "      <td>Silver</td>\n",
       "      <td>2015</td>\n",
       "    </tr>\n",
       "    <tr>\n",
       "      <td>14</td>\n",
       "      <td>30196</td>\n",
       "      <td>I-1510002</td>\n",
       "      <td>2015-01-06</td>\n",
       "      <td>C-6496 Eug Hoffman</td>\n",
       "      <td>Leather goods</td>\n",
       "      <td>NaN</td>\n",
       "      <td>Luxembourg</td>\n",
       "      <td>MV-Black</td>\n",
       "      <td>Miniwallet Vintage Black</td>\n",
       "      <td>4</td>\n",
       "      <td>91.60</td>\n",
       "      <td>91.60</td>\n",
       "      <td>Miniwallet</td>\n",
       "      <td>Vintage</td>\n",
       "      <td>Black</td>\n",
       "      <td>No</td>\n",
       "      <td>No</td>\n",
       "      <td>Black</td>\n",
       "      <td>2015</td>\n",
       "    </tr>\n",
       "    <tr>\n",
       "      <td>15</td>\n",
       "      <td>30196</td>\n",
       "      <td>I-1510002</td>\n",
       "      <td>2015-01-06</td>\n",
       "      <td>C-6496 Eug Hoffman</td>\n",
       "      <td>Leather goods</td>\n",
       "      <td>NaN</td>\n",
       "      <td>Luxembourg</td>\n",
       "      <td>MV-Blue Silver</td>\n",
       "      <td>Miniwallet Vintage Blue</td>\n",
       "      <td>1</td>\n",
       "      <td>22.90</td>\n",
       "      <td>22.90</td>\n",
       "      <td>Miniwallet</td>\n",
       "      <td>Vintage</td>\n",
       "      <td>Blue</td>\n",
       "      <td>No</td>\n",
       "      <td>No</td>\n",
       "      <td>Silver</td>\n",
       "      <td>2015</td>\n",
       "    </tr>\n",
       "    <tr>\n",
       "      <td>16</td>\n",
       "      <td>30196</td>\n",
       "      <td>I-1510002</td>\n",
       "      <td>2015-01-06</td>\n",
       "      <td>C-6496 Eug Hoffman</td>\n",
       "      <td>Leather goods</td>\n",
       "      <td>NaN</td>\n",
       "      <td>Luxembourg</td>\n",
       "      <td>MV-Cognac</td>\n",
       "      <td>Miniwallet Vintage Cognac</td>\n",
       "      <td>3</td>\n",
       "      <td>68.70</td>\n",
       "      <td>68.70</td>\n",
       "      <td>Miniwallet</td>\n",
       "      <td>Vintage</td>\n",
       "      <td>Brown</td>\n",
       "      <td>No</td>\n",
       "      <td>No</td>\n",
       "      <td>Silver</td>\n",
       "      <td>2015</td>\n",
       "    </tr>\n",
       "  </tbody>\n",
       "</table>\n",
       "</div>"
      ],
      "text/plain": [
       "   internal_id document_number       date       customer_name  \\\n",
       "12       30196       I-1510002 2015-01-06  C-6496 Eug Hoffman   \n",
       "13       30196       I-1510002 2015-01-06  C-6496 Eug Hoffman   \n",
       "14       30196       I-1510002 2015-01-06  C-6496 Eug Hoffman   \n",
       "15       30196       I-1510002 2015-01-06  C-6496 Eug Hoffman   \n",
       "16       30196       I-1510002 2015-01-06  C-6496 Eug Hoffman   \n",
       "\n",
       "   customer_category retailer_role shipping_country            item  \\\n",
       "12     Leather goods           NaN       Luxembourg         M-Black   \n",
       "13     Leather goods           NaN       Luxembourg    M-Dark brown   \n",
       "14     Leather goods           NaN       Luxembourg        MV-Black   \n",
       "15     Leather goods           NaN       Luxembourg  MV-Blue Silver   \n",
       "16     Leather goods           NaN       Luxembourg       MV-Cognac   \n",
       "\n",
       "                      display_name  quantity  amount  amount_foreign_currency  \\\n",
       "12       Miniwallet Original Black         4   91.60                    91.60   \n",
       "13  Miniwallet Original Dark Brown         3   68.70                    68.70   \n",
       "14        Miniwallet Vintage Black         4   91.60                    91.60   \n",
       "15         Miniwallet Vintage Blue         1   22.90                    22.90   \n",
       "16       Miniwallet Vintage Cognac         3   68.70                    68.70   \n",
       "\n",
       "   pim_category type_of_material  pim_colour wsl while_stock_lasts  \\\n",
       "12   Miniwallet         Original       Black  No                No   \n",
       "13   Miniwallet         Original  Dark brown  No                No   \n",
       "14   Miniwallet          Vintage       Black  No                No   \n",
       "15   Miniwallet          Vintage        Blue  No                No   \n",
       "16   Miniwallet          Vintage       Brown  No                No   \n",
       "\n",
       "   cardprotector_colour  year  \n",
       "12               Silver  2015  \n",
       "13               Silver  2015  \n",
       "14                Black  2015  \n",
       "15               Silver  2015  \n",
       "16               Silver  2015  "
      ]
     },
     "execution_count": 19,
     "metadata": {},
     "output_type": "execute_result"
    }
   ],
   "source": [
    "miniwalletdf.head() #preview first five rows"
   ]
  },
  {
   "cell_type": "code",
   "execution_count": null,
   "metadata": {},
   "outputs": [],
   "source": [
    "miniwalletdf.type_of_material.describe() #overview of variable; count, unique, top,freq"
   ]
  },
  {
   "cell_type": "code",
   "execution_count": null,
   "metadata": {},
   "outputs": [],
   "source": [
    "#Types of leather used in production of miniwallet\n",
    "print (miniwalletdf.type_of_material.cat.categories) # Get list of categories in categorical variable"
   ]
  },
  {
   "cell_type": "code",
   "execution_count": null,
   "metadata": {},
   "outputs": [],
   "source": [
    "miniwalletdf.display_name.value_counts() #transactions per display name"
   ]
  },
  {
   "cell_type": "code",
   "execution_count": null,
   "metadata": {},
   "outputs": [],
   "source": [
    "print(miniwalletdf.isnull().sum()) # check for mising values in miniwalletdf"
   ]
  },
  {
   "cell_type": "code",
   "execution_count": 20,
   "metadata": {},
   "outputs": [],
   "source": [
    "#Total quantity of items sold and corresponding revenue generated per 'miniwallet' item.\n",
    "miniwallet_items= miniwalletdf.groupby(\n",
    "   ['display_name']\n",
    ").agg(\n",
    "    {\n",
    "         'amount':sum,    # Sum revenue per customer\n",
    "         'quantity': sum  # get the sum of items sold per year\n",
    "         \n",
    "    }\n",
    ")\n",
    "\n",
    "miniwallet_items.sort_values(by=['amount'], inplace=True, ascending=False) "
   ]
  },
  {
   "cell_type": "code",
   "execution_count": 22,
   "metadata": {},
   "outputs": [
    {
     "data": {
      "text/html": [
       "<div>\n",
       "<style scoped>\n",
       "    .dataframe tbody tr th:only-of-type {\n",
       "        vertical-align: middle;\n",
       "    }\n",
       "\n",
       "    .dataframe tbody tr th {\n",
       "        vertical-align: top;\n",
       "    }\n",
       "\n",
       "    .dataframe thead th {\n",
       "        text-align: right;\n",
       "    }\n",
       "</style>\n",
       "<table border=\"1\" class=\"dataframe\">\n",
       "  <thead>\n",
       "    <tr style=\"text-align: right;\">\n",
       "      <th></th>\n",
       "      <th>amount</th>\n",
       "      <th>quantity</th>\n",
       "    </tr>\n",
       "    <tr>\n",
       "      <th>display_name</th>\n",
       "      <th></th>\n",
       "      <th></th>\n",
       "    </tr>\n",
       "  </thead>\n",
       "  <tbody>\n",
       "    <tr>\n",
       "      <td>Miniwallet Original Black</td>\n",
       "      <td>10031289.43</td>\n",
       "      <td>445285</td>\n",
       "    </tr>\n",
       "    <tr>\n",
       "      <td>Miniwallet Vintage Black</td>\n",
       "      <td>7656124.06</td>\n",
       "      <td>336362</td>\n",
       "    </tr>\n",
       "    <tr>\n",
       "      <td>Miniwallet Vintage Brown</td>\n",
       "      <td>7562415.69</td>\n",
       "      <td>334856</td>\n",
       "    </tr>\n",
       "    <tr>\n",
       "      <td>Miniwallet Vintage Chocolate</td>\n",
       "      <td>4521212.76</td>\n",
       "      <td>196919</td>\n",
       "    </tr>\n",
       "    <tr>\n",
       "      <td>Miniwallet Original Dark Brown</td>\n",
       "      <td>2949940.00</td>\n",
       "      <td>130085</td>\n",
       "    </tr>\n",
       "  </tbody>\n",
       "</table>\n",
       "</div>"
      ],
      "text/plain": [
       "                                    amount  quantity\n",
       "display_name                                        \n",
       "Miniwallet Original Black      10031289.43    445285\n",
       "Miniwallet Vintage Black        7656124.06    336362\n",
       "Miniwallet Vintage Brown        7562415.69    334856\n",
       "Miniwallet Vintage Chocolate    4521212.76    196919\n",
       "Miniwallet Original Dark Brown  2949940.00    130085"
      ]
     },
     "execution_count": 22,
     "metadata": {},
     "output_type": "execute_result"
    }
   ],
   "source": [
    "miniwallet_items.head()"
   ]
  },
  {
   "cell_type": "code",
   "execution_count": 23,
   "metadata": {},
   "outputs": [],
   "source": [
    "# PIVOT TABLE\n",
    "product_table = pd.pivot_table(miniwalletdf, index=\"display_name\",columns='year',\n",
    "                              values =[\"amount\",\"quantity\"],aggfunc=sum, margins=True)\n",
    "\n",
    "product_table.sort_values(by=('amount','All'), ascending=False, inplace= True)"
   ]
  },
  {
   "cell_type": "code",
   "execution_count": 25,
   "metadata": {},
   "outputs": [
    {
     "data": {
      "text/html": [
       "<div>\n",
       "<style scoped>\n",
       "    .dataframe tbody tr th:only-of-type {\n",
       "        vertical-align: middle;\n",
       "    }\n",
       "\n",
       "    .dataframe tbody tr th {\n",
       "        vertical-align: top;\n",
       "    }\n",
       "\n",
       "    .dataframe thead tr th {\n",
       "        text-align: left;\n",
       "    }\n",
       "\n",
       "    .dataframe thead tr:last-of-type th {\n",
       "        text-align: right;\n",
       "    }\n",
       "</style>\n",
       "<table border=\"1\" class=\"dataframe\">\n",
       "  <thead>\n",
       "    <tr>\n",
       "      <th></th>\n",
       "      <th colspan=\"6\" halign=\"left\">amount</th>\n",
       "      <th colspan=\"6\" halign=\"left\">quantity</th>\n",
       "    </tr>\n",
       "    <tr>\n",
       "      <th>year</th>\n",
       "      <th>2015</th>\n",
       "      <th>2016</th>\n",
       "      <th>2017</th>\n",
       "      <th>2018</th>\n",
       "      <th>2019</th>\n",
       "      <th>All</th>\n",
       "      <th>2015</th>\n",
       "      <th>2016</th>\n",
       "      <th>2017</th>\n",
       "      <th>2018</th>\n",
       "      <th>2019</th>\n",
       "      <th>All</th>\n",
       "    </tr>\n",
       "    <tr>\n",
       "      <th>display_name</th>\n",
       "      <th></th>\n",
       "      <th></th>\n",
       "      <th></th>\n",
       "      <th></th>\n",
       "      <th></th>\n",
       "      <th></th>\n",
       "      <th></th>\n",
       "      <th></th>\n",
       "      <th></th>\n",
       "      <th></th>\n",
       "      <th></th>\n",
       "      <th></th>\n",
       "    </tr>\n",
       "  </thead>\n",
       "  <tbody>\n",
       "    <tr>\n",
       "      <td>All</td>\n",
       "      <td>7640767.46</td>\n",
       "      <td>12788547.47</td>\n",
       "      <td>19105985.67</td>\n",
       "      <td>24533341.64</td>\n",
       "      <td>13717442.09</td>\n",
       "      <td>77786084.33</td>\n",
       "      <td>345635.00</td>\n",
       "      <td>550526.00</td>\n",
       "      <td>811785.00</td>\n",
       "      <td>1020926.00</td>\n",
       "      <td>559589.00</td>\n",
       "      <td>3288461</td>\n",
       "    </tr>\n",
       "    <tr>\n",
       "      <td>Miniwallet Original Black</td>\n",
       "      <td>1599384.69</td>\n",
       "      <td>2185042.38</td>\n",
       "      <td>2451277.69</td>\n",
       "      <td>2603448.83</td>\n",
       "      <td>1192135.84</td>\n",
       "      <td>10031289.43</td>\n",
       "      <td>75143.00</td>\n",
       "      <td>96678.00</td>\n",
       "      <td>107809.00</td>\n",
       "      <td>113730.00</td>\n",
       "      <td>51925.00</td>\n",
       "      <td>445285</td>\n",
       "    </tr>\n",
       "    <tr>\n",
       "      <td>Miniwallet Vintage Black</td>\n",
       "      <td>1191610.59</td>\n",
       "      <td>1567755.09</td>\n",
       "      <td>1850371.60</td>\n",
       "      <td>2133114.81</td>\n",
       "      <td>913271.97</td>\n",
       "      <td>7656124.06</td>\n",
       "      <td>54055.00</td>\n",
       "      <td>68662.00</td>\n",
       "      <td>80953.00</td>\n",
       "      <td>93025.00</td>\n",
       "      <td>39667.00</td>\n",
       "      <td>336362</td>\n",
       "    </tr>\n",
       "    <tr>\n",
       "      <td>Miniwallet Vintage Brown</td>\n",
       "      <td>1798526.06</td>\n",
       "      <td>1732866.12</td>\n",
       "      <td>1690950.91</td>\n",
       "      <td>1638341.16</td>\n",
       "      <td>701731.44</td>\n",
       "      <td>7562415.69</td>\n",
       "      <td>81577.00</td>\n",
       "      <td>76492.00</td>\n",
       "      <td>74501.00</td>\n",
       "      <td>71904.00</td>\n",
       "      <td>30382.00</td>\n",
       "      <td>334856</td>\n",
       "    </tr>\n",
       "    <tr>\n",
       "      <td>Miniwallet Vintage Chocolate</td>\n",
       "      <td>148.07</td>\n",
       "      <td>1040080.08</td>\n",
       "      <td>1366693.95</td>\n",
       "      <td>1455563.65</td>\n",
       "      <td>658727.01</td>\n",
       "      <td>4521212.76</td>\n",
       "      <td>7.00</td>\n",
       "      <td>45341.00</td>\n",
       "      <td>59552.00</td>\n",
       "      <td>63460.00</td>\n",
       "      <td>28559.00</td>\n",
       "      <td>196919</td>\n",
       "    </tr>\n",
       "  </tbody>\n",
       "</table>\n",
       "</div>"
      ],
      "text/plain": [
       "                                 amount                                      \\\n",
       "year                               2015        2016        2017        2018   \n",
       "display_name                                                                  \n",
       "All                          7640767.46 12788547.47 19105985.67 24533341.64   \n",
       "Miniwallet Original Black    1599384.69  2185042.38  2451277.69  2603448.83   \n",
       "Miniwallet Vintage Black     1191610.59  1567755.09  1850371.60  2133114.81   \n",
       "Miniwallet Vintage Brown     1798526.06  1732866.12  1690950.91  1638341.16   \n",
       "Miniwallet Vintage Chocolate     148.07  1040080.08  1366693.95  1455563.65   \n",
       "\n",
       "                                                      quantity            \\\n",
       "year                                2019         All      2015      2016   \n",
       "display_name                                                               \n",
       "All                          13717442.09 77786084.33 345635.00 550526.00   \n",
       "Miniwallet Original Black     1192135.84 10031289.43  75143.00  96678.00   \n",
       "Miniwallet Vintage Black       913271.97  7656124.06  54055.00  68662.00   \n",
       "Miniwallet Vintage Brown       701731.44  7562415.69  81577.00  76492.00   \n",
       "Miniwallet Vintage Chocolate   658727.01  4521212.76      7.00  45341.00   \n",
       "\n",
       "                                                                      \n",
       "year                              2017       2018      2019      All  \n",
       "display_name                                                          \n",
       "All                          811785.00 1020926.00 559589.00  3288461  \n",
       "Miniwallet Original Black    107809.00  113730.00  51925.00   445285  \n",
       "Miniwallet Vintage Black      80953.00   93025.00  39667.00   336362  \n",
       "Miniwallet Vintage Brown      74501.00   71904.00  30382.00   334856  \n",
       "Miniwallet Vintage Chocolate  59552.00   63460.00  28559.00   196919  "
      ]
     },
     "execution_count": 25,
     "metadata": {},
     "output_type": "execute_result"
    }
   ],
   "source": [
    "product_table.head()"
   ]
  },
  {
   "cell_type": "code",
   "execution_count": null,
   "metadata": {},
   "outputs": [],
   "source": []
  },
  {
   "cell_type": "markdown",
   "metadata": {},
   "source": [
    "## MINIWALLET COLLECTIONS "
   ]
  },
  {
   "cell_type": "markdown",
   "metadata": {},
   "source": [
    "### TIMELESS COLLECTION DATAFRAME"
   ]
  },
  {
   "cell_type": "code",
   "execution_count": null,
   "metadata": {},
   "outputs": [],
   "source": [
    "timeless_list = [\"Original\",\"Vintage\",\"Dutch Martin\",\"Vegetable Tanned\"]"
   ]
  },
  {
   "cell_type": "code",
   "execution_count": null,
   "metadata": {},
   "outputs": [],
   "source": [
    "timelessdisplay = miniwalletdf[ miniwalletdf.type_of_material.isin(timeless_list)]"
   ]
  },
  {
   "cell_type": "code",
   "execution_count": null,
   "metadata": {},
   "outputs": [],
   "source": [
    "timelessdisplay.display_name.value_counts() # missing Miniwallet Vegan Soft Touch Black\n",
    "                                            # includes Slimallet Perforated Cognac and Slimwallet Perforated Black"
   ]
  },
  {
   "cell_type": "code",
   "execution_count": null,
   "metadata": {},
   "outputs": [],
   "source": [
    "#Miniwallet Vegan Soft Touch Black subset dataframe\n",
    "vegansoft_black = miniwalletdf[miniwalletdf.display_name.str.contains(\"Miniwallet Vegan Soft Touch Black\")]"
   ]
  },
  {
   "cell_type": "code",
   "execution_count": null,
   "metadata": {},
   "outputs": [],
   "source": [
    "vegansoft_black.head()"
   ]
  },
  {
   "cell_type": "code",
   "execution_count": null,
   "metadata": {},
   "outputs": [],
   "source": [
    "# combine two dataframes\n",
    "miniwallettimelessdesign = pd.concat([timelessdisplay,vegansoft_black])"
   ]
  },
  {
   "cell_type": "code",
   "execution_count": null,
   "metadata": {},
   "outputs": [],
   "source": [
    "# delete all rows with display_name 'Slimallet Perforated Cognac and Slimwallet Perforated Black'\n",
    "miniwallettimelessdesign = miniwallettimelessdesign[~miniwallettimelessdesign.display_name.str.contains(\"Slimwallet\")]"
   ]
  },
  {
   "cell_type": "code",
   "execution_count": null,
   "metadata": {},
   "outputs": [],
   "source": [
    "#insert new column with one value 'tm'\n",
    "miniwallettimelessdesign['design']='tm'"
   ]
  },
  {
   "cell_type": "code",
   "execution_count": null,
   "metadata": {},
   "outputs": [],
   "source": [
    "miniwallettimelessdesign.tail()"
   ]
  },
  {
   "cell_type": "code",
   "execution_count": null,
   "metadata": {},
   "outputs": [],
   "source": [
    "timelessdesign= miniwallettimelessdesign.groupby(\n",
    "   ['display_name']\n",
    ").agg(\n",
    "    {\n",
    "         'amount':sum,    # Sum revenue per customer\n",
    "         'quantity': sum  # get the sum of items sold per year\n",
    "         \n",
    "    }\n",
    ")\n",
    "\n",
    "timelessdesign.sort_values(by=['amount'], inplace=True, ascending=False)"
   ]
  },
  {
   "cell_type": "code",
   "execution_count": null,
   "metadata": {},
   "outputs": [],
   "source": [
    "timelessdesign"
   ]
  },
  {
   "cell_type": "code",
   "execution_count": null,
   "metadata": {},
   "outputs": [],
   "source": [
    "#export to csv\n",
    "miniwallettimelessdesign.to_csv('timelessdesign.csv', index = None, header=True)"
   ]
  },
  {
   "cell_type": "code",
   "execution_count": null,
   "metadata": {},
   "outputs": [],
   "source": [
    "sum(amount for amount in miniwallettimelessdesign.amount if amount>0)"
   ]
  },
  {
   "cell_type": "markdown",
   "metadata": {},
   "source": [
    "### FASHIONABLE COLLECTION DATAFRAME"
   ]
  },
  {
   "cell_type": "code",
   "execution_count": null,
   "metadata": {},
   "outputs": [],
   "source": [
    "fashionable_list = [\"Crisple\",\"Cleo\",\"Prism\",\"Nile\",\"Vegetable Tanned Stitched\",\"Ornament\",\"Metallic\",\"Indigo\"]"
   ]
  },
  {
   "cell_type": "code",
   "execution_count": null,
   "metadata": {},
   "outputs": [],
   "source": [
    "fashinabledisplay = miniwalletdf[ miniwalletdf.type_of_material.isin(fashionable_list)]"
   ]
  },
  {
   "cell_type": "code",
   "execution_count": null,
   "metadata": {},
   "outputs": [],
   "source": [
    "fashinabledisplay.head()"
   ]
  },
  {
   "cell_type": "code",
   "execution_count": null,
   "metadata": {},
   "outputs": [],
   "source": [
    "fashinabledisplay.display_name.value_counts()"
   ]
  },
  {
   "cell_type": "code",
   "execution_count": null,
   "metadata": {},
   "outputs": [],
   "source": [
    "matte = miniwalletdf[(miniwalletdf.display_name == 'Miniwallet Matte Black & Yellow') | (miniwalletdf.display_name == 'Miniwallet Matte Purple') | (miniwalletdf.display_name == 'Miniwallet Matte Black & Red')]"
   ]
  },
  {
   "cell_type": "code",
   "execution_count": null,
   "metadata": {},
   "outputs": [],
   "source": [
    "matte.display_name.value_counts()"
   ]
  },
  {
   "cell_type": "code",
   "execution_count": null,
   "metadata": {},
   "outputs": [],
   "source": [
    "rango = miniwalletdf[(miniwalletdf.display_name == 'Miniwallet Rango Green') | (miniwalletdf.display_name == 'Miniwallet Rango Red-Bordeaux') | (miniwalletdf.display_name == 'Miniwallet Rango Violet-Violet')]"
   ]
  },
  {
   "cell_type": "code",
   "execution_count": null,
   "metadata": {},
   "outputs": [],
   "source": [
    "rango.display_name.value_counts()"
   ]
  },
  {
   "cell_type": "code",
   "execution_count": null,
   "metadata": {},
   "outputs": [],
   "source": [
    "diamond = miniwalletdf[(miniwalletdf.display_name == 'Miniwallet Diamond Black')] "
   ]
  },
  {
   "cell_type": "code",
   "execution_count": null,
   "metadata": {},
   "outputs": [],
   "source": [
    "diamond.display_name.value_counts()"
   ]
  },
  {
   "cell_type": "code",
   "execution_count": null,
   "metadata": {},
   "outputs": [],
   "source": [
    "optical = miniwalletdf[(miniwalletdf.display_name == 'Miniwallet Optical Black')] "
   ]
  },
  {
   "cell_type": "code",
   "execution_count": null,
   "metadata": {},
   "outputs": [],
   "source": [
    "optical.display_name.value_counts()"
   ]
  },
  {
   "cell_type": "code",
   "execution_count": null,
   "metadata": {},
   "outputs": [],
   "source": [
    "cubic = miniwalletdf[(miniwalletdf.display_name == 'Miniwallet Cubic Black-Blue')] "
   ]
  },
  {
   "cell_type": "code",
   "execution_count": null,
   "metadata": {},
   "outputs": [],
   "source": [
    "cubic.display_name.value_counts()"
   ]
  },
  {
   "cell_type": "code",
   "execution_count": null,
   "metadata": {},
   "outputs": [],
   "source": [
    "dash = miniwalletdf[(miniwalletdf.display_name == 'Miniwallet Dash Navy')] "
   ]
  },
  {
   "cell_type": "code",
   "execution_count": null,
   "metadata": {},
   "outputs": [],
   "source": [
    "dash.display_name.value_counts()"
   ]
  },
  {
   "cell_type": "code",
   "execution_count": null,
   "metadata": {},
   "outputs": [],
   "source": [
    "miniwalletfashionabledesign = pd.concat([fashinabledisplay,matte,rango,diamond,optical,cubic,dash])"
   ]
  },
  {
   "cell_type": "code",
   "execution_count": null,
   "metadata": {},
   "outputs": [],
   "source": [
    "#insert new column with one value 'fsh'\n",
    "miniwalletfashionabledesign['design']='fsh'"
   ]
  },
  {
   "cell_type": "code",
   "execution_count": null,
   "metadata": {},
   "outputs": [],
   "source": [
    "miniwalletfashionabledesign.head()"
   ]
  },
  {
   "cell_type": "code",
   "execution_count": null,
   "metadata": {},
   "outputs": [],
   "source": [
    "miniwalletfashionabledesign.display_name.value_counts()"
   ]
  },
  {
   "cell_type": "code",
   "execution_count": null,
   "metadata": {},
   "outputs": [],
   "source": [
    "sum(amount for amount in miniwalletfashionabledesign.amount)"
   ]
  },
  {
   "cell_type": "code",
   "execution_count": null,
   "metadata": {},
   "outputs": [],
   "source": [
    "fashionabledesign= miniwalletfashionabledesign.groupby(\n",
    "   ['display_name']\n",
    ").agg(\n",
    "    {\n",
    "         'amount':sum,    # Sum revenue per customer\n",
    "         'quantity': sum  # get the sum of items sold per year\n",
    "         \n",
    "    }\n",
    ")\n",
    "\n",
    "fashionabledesign.sort_values(by=['amount'], inplace=True, ascending=False) "
   ]
  },
  {
   "cell_type": "code",
   "execution_count": null,
   "metadata": {},
   "outputs": [],
   "source": [
    "fashionabledesign"
   ]
  },
  {
   "cell_type": "markdown",
   "metadata": {},
   "source": [
    "## COMBINED TIMELESS AND FASHIONABLE DESIGN DATAFRAMES"
   ]
  },
  {
   "cell_type": "code",
   "execution_count": null,
   "metadata": {},
   "outputs": [],
   "source": [
    "miniwalletdesign =  pd.concat([miniwallettimelessdesign, miniwalletfashionabledesign])"
   ]
  },
  {
   "cell_type": "code",
   "execution_count": null,
   "metadata": {},
   "outputs": [],
   "source": [
    "miniwalletdesign.head()"
   ]
  },
  {
   "cell_type": "code",
   "execution_count": null,
   "metadata": {},
   "outputs": [],
   "source": [
    "miniwalletdesign.tail()"
   ]
  },
  {
   "cell_type": "code",
   "execution_count": null,
   "metadata": {},
   "outputs": [],
   "source": [
    "sum(amount for amount in miniwalletdesign.amount)"
   ]
  },
  {
   "cell_type": "code",
   "execution_count": null,
   "metadata": {},
   "outputs": [],
   "source": [
    "#export to csv\n",
    "miniwalletdesign.to_csv('miniwalletdesign.csv', index = None, header=True)"
   ]
  },
  {
   "cell_type": "code",
   "execution_count": null,
   "metadata": {},
   "outputs": [],
   "source": [
    "rankrevenuedesign= miniwalletdesign.groupby(\n",
    "   ['design']\n",
    ").agg(\n",
    "    {\n",
    "         'amount':sum,    # Sum revenue per customer\n",
    "         'quantity': sum  # get the sum of items sold per year\n",
    "         \n",
    "    }\n",
    ")\n",
    "\n",
    "rankrevenuedesign.sort_values(by=['amount'], inplace=True, ascending=False) "
   ]
  },
  {
   "cell_type": "code",
   "execution_count": null,
   "metadata": {},
   "outputs": [],
   "source": [
    "rankrevenuedesign"
   ]
  },
  {
   "cell_type": "markdown",
   "metadata": {},
   "source": [
    "### NETHERLANDS MINIWALLET ANALYSIS"
   ]
  },
  {
   "cell_type": "code",
   "execution_count": null,
   "metadata": {},
   "outputs": [],
   "source": [
    "#filter miniwalletdesign for items only sold in the netherlands."
   ]
  },
  {
   "cell_type": "code",
   "execution_count": null,
   "metadata": {},
   "outputs": [],
   "source": [
    "# filter to only country of interest ('Miniwallet')\n",
    "miniwalletdesign =miniwalletdesign[(miniwalletdesign.shipping_country == 'Netherlands')]"
   ]
  },
  {
   "cell_type": "code",
   "execution_count": null,
   "metadata": {},
   "outputs": [],
   "source": [
    "miniwalletdesign.shipping_country.value_counts()"
   ]
  },
  {
   "cell_type": "code",
   "execution_count": null,
   "metadata": {},
   "outputs": [],
   "source": [
    "netherlandsrankrevenuedesign= miniwalletdesign.groupby(\n",
    "   ['design']\n",
    ").agg(\n",
    "    {\n",
    "         'amount':sum,    # Sum revenue per customer\n",
    "         'quantity': sum  # get the sum of items sold per year\n",
    "         \n",
    "    }\n",
    ")\n",
    "\n",
    "netherlandsrankrevenuedesign.sort_values(by=['amount'], inplace=True, ascending=False) "
   ]
  },
  {
   "cell_type": "code",
   "execution_count": null,
   "metadata": {},
   "outputs": [],
   "source": []
  },
  {
   "cell_type": "code",
   "execution_count": null,
   "metadata": {},
   "outputs": [],
   "source": [
    "netherlandsrankrevenuedesign"
   ]
  },
  {
   "cell_type": "code",
   "execution_count": null,
   "metadata": {},
   "outputs": [],
   "source": [
    "# netherlands timeless breakdown\n",
    "miniwallettimelessdesign = miniwallettimelessdesign[(miniwallettimelessdesign.shipping_country == 'Netherlands')]"
   ]
  },
  {
   "cell_type": "code",
   "execution_count": null,
   "metadata": {},
   "outputs": [],
   "source": [
    "miniwallettimelessdesign.head()"
   ]
  },
  {
   "cell_type": "code",
   "execution_count": null,
   "metadata": {},
   "outputs": [],
   "source": [
    "sum(amount for amount in miniwallettimelessdesign.amount)"
   ]
  },
  {
   "cell_type": "code",
   "execution_count": null,
   "metadata": {},
   "outputs": [],
   "source": [
    "netherlandstimelessdesign= miniwallettimelessdesign.groupby(\n",
    "   ['display_name']\n",
    ").agg(\n",
    "    {\n",
    "         'amount':sum,    # Sum revenue per customer\n",
    "         'quantity': sum  # get the sum of items sold per year\n",
    "         \n",
    "    }\n",
    ")\n",
    "\n",
    "netherlandstimelessdesign.sort_values(by=['amount'], inplace=True, ascending=False) "
   ]
  },
  {
   "cell_type": "code",
   "execution_count": null,
   "metadata": {},
   "outputs": [],
   "source": [
    "netherlandstimelessdesign"
   ]
  },
  {
   "cell_type": "code",
   "execution_count": null,
   "metadata": {},
   "outputs": [],
   "source": [
    "# netherlands fashionable breakdown\n",
    "miniwalletfashionabledesign = miniwalletfashionabledesign[(miniwalletfashionabledesign.shipping_country == 'Netherlands')]"
   ]
  },
  {
   "cell_type": "code",
   "execution_count": null,
   "metadata": {},
   "outputs": [],
   "source": [
    "miniwalletfashionabledesign.head()"
   ]
  },
  {
   "cell_type": "code",
   "execution_count": null,
   "metadata": {},
   "outputs": [],
   "source": [
    "sum(amount for amount in miniwalletfashionabledesign.amount)"
   ]
  },
  {
   "cell_type": "code",
   "execution_count": null,
   "metadata": {},
   "outputs": [],
   "source": [
    "netherlandsfashionabledesign= miniwalletfashionabledesign.groupby(\n",
    "   ['display_name']\n",
    ").agg(\n",
    "    {\n",
    "         'amount':sum,    # Sum revenue per customer\n",
    "         'quantity': sum  # get the sum of items sold per year\n",
    "         \n",
    "    }\n",
    ")\n",
    "\n",
    "netherlandsfashionabledesign.sort_values(by=['amount'], inplace=True, ascending=False) "
   ]
  },
  {
   "cell_type": "code",
   "execution_count": null,
   "metadata": {},
   "outputs": [],
   "source": [
    "netherlandsfashionabledesign"
   ]
  },
  {
   "cell_type": "code",
   "execution_count": null,
   "metadata": {},
   "outputs": [],
   "source": []
  }
 ],
 "metadata": {
  "kernelspec": {
   "display_name": "Python 3",
   "language": "python",
   "name": "python3"
  },
  "language_info": {
   "codemirror_mode": {
    "name": "ipython",
    "version": 3
   },
   "file_extension": ".py",
   "mimetype": "text/x-python",
   "name": "python",
   "nbconvert_exporter": "python",
   "pygments_lexer": "ipython3",
   "version": "3.7.4"
  }
 },
 "nbformat": 4,
 "nbformat_minor": 4
}
