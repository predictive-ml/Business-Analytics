{
 "cells": [
  {
   "cell_type": "markdown",
   "metadata": {},
   "source": [
    "# TOP 3 REVENUE GENERATING CUSTOMER COLLECTION ANALYSIS\n",
    "\n",
    "\n",
    "<span style=\"color: gray; font-size:1em;\">January-2020</span>\n",
    "\n",
    "\n",
    "## Table of Contents\n",
    "* [Objective](#objective)\n",
    "\n",
    "* [Section One - Import Data into IDE](#import_data)\n",
    "    * [Part I - Gathering Data](#gather_data)\n",
    "    * [Part II - Assessing Data](#assess_data)\n",
    "    * [Part III - Cleaning Data](#clean_data)\n",
    "    \n",
    "* [Section Two - Dataset of Interest](#dataset)\n",
    "\n",
    "    * [Variable 1 - display name](#display_name)\n",
    "\n",
    "    * [Variable 2 - type of material](#material)\n",
    "     * [Vintage Analysis](#vintage)\n",
    "     * [Original Analysis](#original)\n",
    "     * [Matte Analysis](#matte)\n",
    "     * [combined collection dataset](#collectionsdf)\n",
    "     \n",
    "    * [Variable 3 - shipping country](#shipping_country)\n",
    "     * [Germany collections dataframe](#germany)\n",
    "     * [Germany Vintage Analysis](#germanyvintage)\n",
    "     * [Germany Original Analysis](#germanyoriginal)\n",
    "     * [Germany Matte Analysis](#germanymatte)\n",
    "     \n",
    "    * [Variable 4 - Customer Name](#customer_name)\n",
    "     * [Top three customers in Germany](#top3)\n",
    "     * [Top revenue generating customer in Germany ](#topcustomer)\n",
    "     * [Second Top revenue generating customer in Germany ](#secondtopcustomer)\n",
    "     * [Third Top revenue generating customer in Germany ](#thirdtopcustomer)\n",
    "   \n",
    "    \n",
    "  \n",
    "    \n"
   ]
  },
  {
   "cell_type": "markdown",
   "metadata": {},
   "source": [
    "<a id='objective'></a>\n",
    "## Objective\n",
    "\n",
    "SECRID is a business entity based in the Netherlands. It produces, stocks and sells designer wallets, particularly leather based wallets in more than 100 countries all over the world.\n",
    "\n",
    "The objective of this notebook is to inspect the trend of sales data for the 2015 to 2019 calendar years and compare Vintage, Original and Matte product collections of the top three (3) revenue generating customers in Germany.\n",
    "\n"
   ]
  },
  {
   "cell_type": "markdown",
   "metadata": {},
   "source": [
    "<a id='#import_data'></a>\n",
    "## Section One : Import Data into IDE"
   ]
  },
  {
   "cell_type": "markdown",
   "metadata": {},
   "source": [
    "<a id='gather_data'></a>\n",
    "## Part I : Gathering Data"
   ]
  },
  {
   "cell_type": "code",
   "execution_count": 1,
   "metadata": {},
   "outputs": [],
   "source": [
    "# load required libraries\n",
    "import numpy as np\n",
    "import pandas as pd\n",
    "from pandas import DataFrame\n",
    "from pandas import read_excel\n",
    "\n",
    "import zipfile\n",
    "import xlsxwriter\n",
    "\n",
    "import seaborn as sns\n",
    "# Use seaborn style defaults and set the default figure size\n",
    "sns.set(rc={'figure.figsize':(11, 4)})\n",
    "\n",
    "import matplotlib.pyplot as plt\n",
    "%matplotlib inline\n",
    "import matplotlib.ticker as ticker\n",
    "from matplotlib import pyplot as plt\n",
    "from matplotlib import dates as mpl_dates\n",
    "from pandas.plotting import register_matplotlib_converters\n",
    "register_matplotlib_converters()\n",
    "plt.style.use('seaborn')\n",
    "\n",
    "import six\n",
    "import calendar\n",
    "from datetime import datetime, timedelta\n",
    "\n",
    "# environment settings:\n",
    "pd.options.display.float_format = '{:.2f}'.format\n",
    "pd.set_option('display.max_column',None)\n",
    "pd.set_option('display.max_rows',None)\n",
    "pd.set_option('display.max_seq_items',None)\n",
    "pd.set_option('display.max_colwidth', 500)\n",
    "pd.set_option('expand_frame_repr', True)\n"
   ]
  },
  {
   "cell_type": "markdown",
   "metadata": {},
   "source": [
    "### Load .xlxs files"
   ]
  },
  {
   "cell_type": "code",
   "execution_count": 2,
   "metadata": {},
   "outputs": [],
   "source": [
    "#load sales 2015 \n",
    "df1 = pd.read_excel('SECRID_DATA.xlsx',0) #load first spreadsheet of SECRID DATA.xlxs "
   ]
  },
  {
   "cell_type": "markdown",
   "metadata": {},
   "source": [
    "**Test** "
   ]
  },
  {
   "cell_type": "code",
   "execution_count": null,
   "metadata": {},
   "outputs": [],
   "source": [
    "df1.head()# preview the first 5 rows"
   ]
  },
  {
   "cell_type": "code",
   "execution_count": 3,
   "metadata": {},
   "outputs": [],
   "source": [
    "#load sales 2016 \n",
    "df2 = pd.read_excel('SECRID_DATA.xlsx',1) #load second spreadsheet of SECRID DATA.xlxs"
   ]
  },
  {
   "cell_type": "markdown",
   "metadata": {},
   "source": [
    "**Test** "
   ]
  },
  {
   "cell_type": "code",
   "execution_count": null,
   "metadata": {},
   "outputs": [],
   "source": [
    "df2.head()# preview the first 5 rows"
   ]
  },
  {
   "cell_type": "code",
   "execution_count": 4,
   "metadata": {},
   "outputs": [],
   "source": [
    "#load sales 2017\n",
    "df3 = pd.read_excel('SECRID_DATA.xlsx',2)  #load third spreadsheet ofSECRID DATA.xlxs"
   ]
  },
  {
   "cell_type": "markdown",
   "metadata": {},
   "source": [
    "**Test** "
   ]
  },
  {
   "cell_type": "code",
   "execution_count": null,
   "metadata": {},
   "outputs": [],
   "source": [
    "df3.head()# preview the first 5 rows"
   ]
  },
  {
   "cell_type": "code",
   "execution_count": 5,
   "metadata": {},
   "outputs": [],
   "source": [
    "#load sales 2018\n",
    "df4 = pd.read_excel('SECRID_DATA.xlsx',3)  #load fourth spreadsheet of SECRID DATA.xlxs"
   ]
  },
  {
   "cell_type": "markdown",
   "metadata": {},
   "source": [
    "**Test** "
   ]
  },
  {
   "cell_type": "code",
   "execution_count": null,
   "metadata": {},
   "outputs": [],
   "source": [
    "df4.head()# preview the first 5 rows"
   ]
  },
  {
   "cell_type": "code",
   "execution_count": 6,
   "metadata": {},
   "outputs": [],
   "source": [
    "#load sales 2019\n",
    "df5 = pd.read_excel('SECRID_DATA.xlsx',4)  #load fifth spreadsheet of SECRID DATA.xlxs"
   ]
  },
  {
   "cell_type": "markdown",
   "metadata": {},
   "source": [
    "**Test** "
   ]
  },
  {
   "cell_type": "code",
   "execution_count": null,
   "metadata": {},
   "outputs": [],
   "source": [
    "df5.head()# preview the first 5 rows"
   ]
  },
  {
   "cell_type": "code",
   "execution_count": 7,
   "metadata": {},
   "outputs": [],
   "source": [
    "#combine df1 - df5  into one complete dataframe 'df'\n",
    "df = pd.concat([df1, df2, df3, df4, df5]) "
   ]
  },
  {
   "cell_type": "markdown",
   "metadata": {},
   "source": [
    "<a id='assess_data'></a>\n",
    "## Part II - Assessing  Data"
   ]
  },
  {
   "cell_type": "code",
   "execution_count": null,
   "metadata": {
    "scrolled": true
   },
   "outputs": [],
   "source": [
    "df.head() #preview first five rows"
   ]
  },
  {
   "cell_type": "code",
   "execution_count": null,
   "metadata": {},
   "outputs": [],
   "source": [
    "df.tail() #preview last five rows"
   ]
  },
  {
   "cell_type": "code",
   "execution_count": 8,
   "metadata": {},
   "outputs": [
    {
     "data": {
      "text/plain": [
       "(2021470, 24)"
      ]
     },
     "execution_count": 8,
     "metadata": {},
     "output_type": "execute_result"
    }
   ],
   "source": [
    "# Check size of the dataframe \n",
    "df.shape "
   ]
  },
  {
   "cell_type": "code",
   "execution_count": null,
   "metadata": {
    "scrolled": true
   },
   "outputs": [],
   "source": [
    "# list names of columns in dataframe\n",
    "df.columns "
   ]
  },
  {
   "cell_type": "code",
   "execution_count": null,
   "metadata": {
    "scrolled": true
   },
   "outputs": [],
   "source": [
    "# View info of the dataframe \n",
    "df.info()"
   ]
  },
  {
   "cell_type": "code",
   "execution_count": null,
   "metadata": {},
   "outputs": [],
   "source": [
    "# view some of the core statistics about columns\n",
    "df.describe(include='all')"
   ]
  },
  {
   "cell_type": "code",
   "execution_count": null,
   "metadata": {},
   "outputs": [],
   "source": [
    "# check the Data types (dtypes) of each column in Dataframe\n",
    "df.dtypes "
   ]
  },
  {
   "cell_type": "code",
   "execution_count": null,
   "metadata": {},
   "outputs": [],
   "source": [
    "# Total sum of duplicate rows\n",
    "df.duplicated().sum() # returns a Boolean Series with True value for each duplicated row and sums them"
   ]
  },
  {
   "cell_type": "code",
   "execution_count": null,
   "metadata": {},
   "outputs": [],
   "source": [
    "#return the number of unique elements in each column\n",
    "print(df.nunique()) "
   ]
  },
  {
   "cell_type": "code",
   "execution_count": null,
   "metadata": {},
   "outputs": [],
   "source": [
    "df.count() #returns the number of non-missing values for each column or row"
   ]
  },
  {
   "cell_type": "code",
   "execution_count": null,
   "metadata": {},
   "outputs": [],
   "source": [
    "#Total missing values(NaN) in a DataFrame\n",
    "df.isnull().sum().sum()"
   ]
  },
  {
   "cell_type": "code",
   "execution_count": null,
   "metadata": {},
   "outputs": [],
   "source": [
    "#Count number of NaN for each column in DataFrame\n",
    "print(df.isnull().sum()) "
   ]
  },
  {
   "cell_type": "markdown",
   "metadata": {},
   "source": [
    "<a id='issues'></a>\n",
    "**Quality issues**\n",
    " * Rename column names to have clear, descriptive names in small letters according to best practice. Column 'name' can be renamed to 'customer_name' and column 'material' can be renamed to 'type_of_material'\n",
    " * Set to columns to appropriate category data type: 'internal_id', 'document_number', 'customer_name', 'customer _category', 'retailer_role', 'shipping_country', 'item', 'display_name', 'pim_category','type_of_material', \n",
    "   'pim_colour', 'wsl', 'while_stock_lasts' and 'cardprotector_colour' "
   ]
  },
  {
   "cell_type": "markdown",
   "metadata": {},
   "source": [
    "<a id='clean_data'></a>\n",
    "## Part III - Cleaning Data"
   ]
  },
  {
   "cell_type": "code",
   "execution_count": 9,
   "metadata": {},
   "outputs": [],
   "source": [
    "# Create copy of original DataFrame\n",
    "df_copy = df.copy()"
   ]
  },
  {
   "cell_type": "code",
   "execution_count": 10,
   "metadata": {},
   "outputs": [],
   "source": [
    "#Fixing messy column names\n",
    "df_copy.columns = df_copy.columns.str.strip().str.lower().str.replace(' ', '_').str.replace('(', '').str.replace(')', '')"
   ]
  },
  {
   "cell_type": "markdown",
   "metadata": {},
   "source": [
    "**Test**"
   ]
  },
  {
   "cell_type": "code",
   "execution_count": null,
   "metadata": {},
   "outputs": [],
   "source": [
    "# list names of columns in dataframe\n",
    "df_copy.columns "
   ]
  },
  {
   "cell_type": "code",
   "execution_count": 11,
   "metadata": {},
   "outputs": [],
   "source": [
    "# change column names using rename function\n",
    "df_copy.rename(columns={                                                 \n",
    "                         'name':'customer_name',                        \n",
    "                         'wsl_+':'wsl',\n",
    "                         'material':'type_of_material' }, \n",
    "                 inplace=True)"
   ]
  },
  {
   "cell_type": "markdown",
   "metadata": {},
   "source": [
    "**Test**"
   ]
  },
  {
   "cell_type": "code",
   "execution_count": null,
   "metadata": {},
   "outputs": [],
   "source": [
    "df_copy.columns #List of column names in df_clean Dataframe"
   ]
  },
  {
   "cell_type": "markdown",
   "metadata": {},
   "source": [
    "**Define**\n",
    "<br>Set appropriate data types for fields mentioned in the [Quality issues](#issues) "
   ]
  },
  {
   "cell_type": "code",
   "execution_count": 12,
   "metadata": {},
   "outputs": [],
   "source": [
    "# use .astype to change data type of dataframe columns\n",
    "df_copy = df_copy.astype({\"internal_id\":'category',\"document_number\":'category',\"shipping_address_1\":'category',\"shipping_address_2\":'category',\"shipping_city\":'category',\"shipping_zip\":'category',\"shipping_state/province\":'category', \"customer_name\":'category', \"customer_category\":'category', \"retailer_role\":'category', \"shipping_country\":'category', \"item\":'category',\"display_name\":'category', \"pim_category\":'category', \"type_of_material\":'category', \"pim_colour\":'category',\"wsl\":'category', \"while_stock_lasts\":'category', \"cardprotector_colour\":'category'})"
   ]
  },
  {
   "cell_type": "markdown",
   "metadata": {},
   "source": [
    "**Test**"
   ]
  },
  {
   "cell_type": "code",
   "execution_count": null,
   "metadata": {},
   "outputs": [],
   "source": [
    "df_copy.info()"
   ]
  },
  {
   "cell_type": "code",
   "execution_count": null,
   "metadata": {},
   "outputs": [],
   "source": [
    "# view some of the core statistics about columns\n",
    "df_copy.describe(include='all')"
   ]
  },
  {
   "cell_type": "markdown",
   "metadata": {},
   "source": [
    "### content structure of sales dataset\n",
    "The sales data contains 24 columns (variables) and 2,021,470 rows (entries). \n",
    "This is evidence that 2,021,470 sale transactions were completed in the January 2015 – July 2019 period for SECRID business. The dataset contained features about:\n",
    "\n",
    "* Products for sale: item, display_name, pim_category, pim_colour, type_of_material and cardprotector_colour\n",
    "* The country the item was shipped to : shipping_country  \n",
    "* Customer data:  customer_name, customer_category and retailer_role\n",
    "* Sale transactions: internal_id, document_number, quantity, amount, amount(foreign_currency) and date\n",
    "\n",
    "\n",
    "### Detected Missing Values\n",
    "A null value is a value in a field that appears to be blank. A null value is a field with no value. \n",
    "The table below indicates the number and  the resulting percentage of missing values per column.This able is manually created with results from running; **df.count()** to get Value Count of non-missing values in a column and \n",
    "**print(df.isnull().sum())** which will give the count number of NaN for each column in DataFrame.\n",
    "\n",
    "| Variable Name  | Value Count| Number Of Missing Values| % Of Missing Values\n",
    "| -------------  | ------------- |------------- |-------------\n",
    "| internal_id    | 2,021,470  |0 |0%\n",
    "| document_number| 2,021,470  |0 |0%\n",
    "| date           | 2,021,470  |0 |0%\n",
    "| date_created   | 2,021,470  |0 |0%\n",
    "| customer_name  | 2,021,470  |0 |0%\n",
    "| customer_category  | 2,015,375  |6,095     |0.30%\n",
    "| retailer_role      | 201,788    |1,819,682 |90.02%\n",
    "| shipping_address_1 | 2,011,883  |9,587     |0.47%\n",
    "| shipping_address_2 | 367,598    |1,653,872 |81.82%\n",
    "| shipping_city      | 2,012,657  |8,813 |0.44%\n",
    "| shipping_zip       | 1,990,236  |31,234|1.55%\n",
    "| shipping_state/province |395,792 |1,625,678 |80.42%\n",
    "| shipping_country   |2,014,891   |6,579 |0.33%\n",
    "| item               | 2,021,470  |0 |0%\n",
    "| display_name       | 2,021,470  |0 |0%\n",
    "| quantity           | 2,021,470  |0 |0%\n",
    "| amount             | 2,021,470  |0 |0%\n",
    "| amount_foreign_currency | 2,021,470 |0 |0%\n",
    "| type_of_material        | 1,941,770 |79,700 |3.94%\n",
    "| pim_category            | 1,944,252 |77,218 |3.82%\n",
    "| pim_colour              | 1,933,547 |87,923|4.35%\n",
    "| wsl_+                   | 2,021,470 |0     |0%\n",
    "| while_stock_lasts       | 2,021,470 |0     |0%\n",
    "| cardprotector_colour    | 1,877,516 |143,954 |7.12%\n",
    "\n",
    "\n"
   ]
  },
  {
   "cell_type": "markdown",
   "metadata": {},
   "source": [
    "<a id='dataset'></a>\n",
    "## DATASET OF INTEREST\n",
    "\n",
    "In order to meet the objective, we shall extract the transactions of interest. These are transactions where the quantity is positive (>0) and the amount is positive (>0). This implies that item(s) were sold and revenue was generated for the business.  \n",
    "\n",
    "We shall further filter and create datasets where Vintage, Original and Matte items were sold. This dataset will be  filtered further to only transaction where items were shipped to Germany.\n"
   ]
  },
  {
   "cell_type": "code",
   "execution_count": 13,
   "metadata": {},
   "outputs": [],
   "source": [
    "# rows with positive values in Quantity column and Amount column\n",
    "# df_clean consits of transactions that bring in revenue\n",
    "df_clean = df_copy[(df_copy.amount>0) & (df_copy.quantity>0)]"
   ]
  },
  {
   "cell_type": "code",
   "execution_count": 15,
   "metadata": {},
   "outputs": [
    {
     "name": "stderr",
     "output_type": "stream",
     "text": [
      "C:\\Users\\waith\\Anaconda3\\lib\\site-packages\\ipykernel_launcher.py:2: SettingWithCopyWarning: \n",
      "A value is trying to be set on a copy of a slice from a DataFrame.\n",
      "Try using .loc[row_indexer,col_indexer] = value instead\n",
      "\n",
      "See the caveats in the documentation: http://pandas.pydata.org/pandas-docs/stable/user_guide/indexing.html#returning-a-view-versus-a-copy\n",
      "  \n"
     ]
    }
   ],
   "source": [
    "#create new column 'year' that registered year sale transaction was held(helps with analysis)\n",
    "df_clean['year'] = df_clean.date.dt.year"
   ]
  },
  {
   "cell_type": "markdown",
   "metadata": {},
   "source": [
    "**Test**"
   ]
  },
  {
   "cell_type": "code",
   "execution_count": 16,
   "metadata": {},
   "outputs": [
    {
     "data": {
      "text/html": [
       "<div>\n",
       "<style scoped>\n",
       "    .dataframe tbody tr th:only-of-type {\n",
       "        vertical-align: middle;\n",
       "    }\n",
       "\n",
       "    .dataframe tbody tr th {\n",
       "        vertical-align: top;\n",
       "    }\n",
       "\n",
       "    .dataframe thead th {\n",
       "        text-align: right;\n",
       "    }\n",
       "</style>\n",
       "<table border=\"1\" class=\"dataframe\">\n",
       "  <thead>\n",
       "    <tr style=\"text-align: right;\">\n",
       "      <th></th>\n",
       "      <th>internal_id</th>\n",
       "      <th>document_number</th>\n",
       "      <th>date</th>\n",
       "      <th>date_created</th>\n",
       "      <th>customer_name</th>\n",
       "      <th>customer_category</th>\n",
       "      <th>retailer_role</th>\n",
       "      <th>shipping_address_1</th>\n",
       "      <th>shipping_address_2</th>\n",
       "      <th>shipping_city</th>\n",
       "      <th>shipping_zip</th>\n",
       "      <th>shipping_state/province</th>\n",
       "      <th>shipping_country</th>\n",
       "      <th>item</th>\n",
       "      <th>display_name</th>\n",
       "      <th>quantity</th>\n",
       "      <th>amount</th>\n",
       "      <th>amount_foreign_currency</th>\n",
       "      <th>pim_category</th>\n",
       "      <th>type_of_material</th>\n",
       "      <th>pim_colour</th>\n",
       "      <th>wsl</th>\n",
       "      <th>while_stock_lasts</th>\n",
       "      <th>cardprotector_colour</th>\n",
       "      <th>year</th>\n",
       "    </tr>\n",
       "  </thead>\n",
       "  <tbody>\n",
       "    <tr>\n",
       "      <td>0</td>\n",
       "      <td>24560</td>\n",
       "      <td>I-1510000</td>\n",
       "      <td>2015-01-05</td>\n",
       "      <td>2015-01-05 12:35:00</td>\n",
       "      <td>C-9855 SkilledIn</td>\n",
       "      <td>Promotional sales - End user</td>\n",
       "      <td>NaN</td>\n",
       "      <td>Scheepsbouwweg 8, K11</td>\n",
       "      <td>NaN</td>\n",
       "      <td>Rotterdam</td>\n",
       "      <td>3089 JW</td>\n",
       "      <td>NaN</td>\n",
       "      <td>Netherlands</td>\n",
       "      <td>TA-Brown</td>\n",
       "      <td>Twinwallet Amazon Brown</td>\n",
       "      <td>1</td>\n",
       "      <td>54.26</td>\n",
       "      <td>54.26</td>\n",
       "      <td>Twinwallet</td>\n",
       "      <td>Amazon</td>\n",
       "      <td>Brown</td>\n",
       "      <td>No</td>\n",
       "      <td>No</td>\n",
       "      <td>Silver</td>\n",
       "      <td>2015</td>\n",
       "    </tr>\n",
       "    <tr>\n",
       "      <td>1</td>\n",
       "      <td>24580</td>\n",
       "      <td>I-1510001</td>\n",
       "      <td>2015-01-05</td>\n",
       "      <td>2015-01-05 16:15:00</td>\n",
       "      <td>C-9255 Rubino di Fabio Della Rocca attn. Spimar</td>\n",
       "      <td>Leather goods</td>\n",
       "      <td>NaN</td>\n",
       "      <td>Via Della Croce 75 A</td>\n",
       "      <td>NaN</td>\n",
       "      <td>Roma</td>\n",
       "      <td>00187</td>\n",
       "      <td>NaN</td>\n",
       "      <td>Italy</td>\n",
       "      <td>C-Black</td>\n",
       "      <td>Cardprotector Black</td>\n",
       "      <td>1</td>\n",
       "      <td>11.20</td>\n",
       "      <td>11.20</td>\n",
       "      <td>Cardprotector</td>\n",
       "      <td>Aluminium</td>\n",
       "      <td>Black</td>\n",
       "      <td>No</td>\n",
       "      <td>No</td>\n",
       "      <td>Black</td>\n",
       "      <td>2015</td>\n",
       "    </tr>\n",
       "    <tr>\n",
       "      <td>2</td>\n",
       "      <td>24580</td>\n",
       "      <td>I-1510001</td>\n",
       "      <td>2015-01-05</td>\n",
       "      <td>2015-01-05 16:15:00</td>\n",
       "      <td>C-9255 Rubino di Fabio Della Rocca attn. Spimar</td>\n",
       "      <td>Leather goods</td>\n",
       "      <td>NaN</td>\n",
       "      <td>Via Della Croce 75 A</td>\n",
       "      <td>NaN</td>\n",
       "      <td>Roma</td>\n",
       "      <td>00187</td>\n",
       "      <td>NaN</td>\n",
       "      <td>Italy</td>\n",
       "      <td>C-Blue</td>\n",
       "      <td>Cardprotector Blue</td>\n",
       "      <td>2</td>\n",
       "      <td>22.40</td>\n",
       "      <td>22.40</td>\n",
       "      <td>Cardprotector</td>\n",
       "      <td>Aluminium</td>\n",
       "      <td>Blue</td>\n",
       "      <td>No</td>\n",
       "      <td>No</td>\n",
       "      <td>Blue</td>\n",
       "      <td>2015</td>\n",
       "    </tr>\n",
       "    <tr>\n",
       "      <td>3</td>\n",
       "      <td>24580</td>\n",
       "      <td>I-1510001</td>\n",
       "      <td>2015-01-05</td>\n",
       "      <td>2015-01-05 16:15:00</td>\n",
       "      <td>C-9255 Rubino di Fabio Della Rocca attn. Spimar</td>\n",
       "      <td>Leather goods</td>\n",
       "      <td>NaN</td>\n",
       "      <td>Via Della Croce 75 A</td>\n",
       "      <td>NaN</td>\n",
       "      <td>Roma</td>\n",
       "      <td>00187</td>\n",
       "      <td>NaN</td>\n",
       "      <td>Italy</td>\n",
       "      <td>C-Champagne</td>\n",
       "      <td>Cardprotector Champagne</td>\n",
       "      <td>1</td>\n",
       "      <td>11.20</td>\n",
       "      <td>11.20</td>\n",
       "      <td>NaN</td>\n",
       "      <td>NaN</td>\n",
       "      <td>NaN</td>\n",
       "      <td>No</td>\n",
       "      <td>No</td>\n",
       "      <td>NaN</td>\n",
       "      <td>2015</td>\n",
       "    </tr>\n",
       "    <tr>\n",
       "      <td>4</td>\n",
       "      <td>24580</td>\n",
       "      <td>I-1510001</td>\n",
       "      <td>2015-01-05</td>\n",
       "      <td>2015-01-05 16:15:00</td>\n",
       "      <td>C-9255 Rubino di Fabio Della Rocca attn. Spimar</td>\n",
       "      <td>Leather goods</td>\n",
       "      <td>NaN</td>\n",
       "      <td>Via Della Croce 75 A</td>\n",
       "      <td>NaN</td>\n",
       "      <td>Roma</td>\n",
       "      <td>00187</td>\n",
       "      <td>NaN</td>\n",
       "      <td>Italy</td>\n",
       "      <td>C-Red</td>\n",
       "      <td>Cardprotector Red</td>\n",
       "      <td>2</td>\n",
       "      <td>22.40</td>\n",
       "      <td>22.40</td>\n",
       "      <td>Cardprotector</td>\n",
       "      <td>Aluminium</td>\n",
       "      <td>Red</td>\n",
       "      <td>No</td>\n",
       "      <td>No</td>\n",
       "      <td>Red</td>\n",
       "      <td>2015</td>\n",
       "    </tr>\n",
       "  </tbody>\n",
       "</table>\n",
       "</div>"
      ],
      "text/plain": [
       "  internal_id document_number       date        date_created  \\\n",
       "0       24560       I-1510000 2015-01-05 2015-01-05 12:35:00   \n",
       "1       24580       I-1510001 2015-01-05 2015-01-05 16:15:00   \n",
       "2       24580       I-1510001 2015-01-05 2015-01-05 16:15:00   \n",
       "3       24580       I-1510001 2015-01-05 2015-01-05 16:15:00   \n",
       "4       24580       I-1510001 2015-01-05 2015-01-05 16:15:00   \n",
       "\n",
       "                                     customer_name  \\\n",
       "0                                 C-9855 SkilledIn   \n",
       "1  C-9255 Rubino di Fabio Della Rocca attn. Spimar   \n",
       "2  C-9255 Rubino di Fabio Della Rocca attn. Spimar   \n",
       "3  C-9255 Rubino di Fabio Della Rocca attn. Spimar   \n",
       "4  C-9255 Rubino di Fabio Della Rocca attn. Spimar   \n",
       "\n",
       "              customer_category retailer_role     shipping_address_1  \\\n",
       "0  Promotional sales - End user           NaN  Scheepsbouwweg 8, K11   \n",
       "1                 Leather goods           NaN   Via Della Croce 75 A   \n",
       "2                 Leather goods           NaN   Via Della Croce 75 A   \n",
       "3                 Leather goods           NaN   Via Della Croce 75 A   \n",
       "4                 Leather goods           NaN   Via Della Croce 75 A   \n",
       "\n",
       "  shipping_address_2 shipping_city shipping_zip shipping_state/province  \\\n",
       "0                NaN     Rotterdam      3089 JW                     NaN   \n",
       "1                NaN          Roma        00187                     NaN   \n",
       "2                NaN          Roma        00187                     NaN   \n",
       "3                NaN          Roma        00187                     NaN   \n",
       "4                NaN          Roma        00187                     NaN   \n",
       "\n",
       "  shipping_country         item             display_name  quantity  amount  \\\n",
       "0      Netherlands     TA-Brown  Twinwallet Amazon Brown         1   54.26   \n",
       "1            Italy      C-Black      Cardprotector Black         1   11.20   \n",
       "2            Italy       C-Blue       Cardprotector Blue         2   22.40   \n",
       "3            Italy  C-Champagne  Cardprotector Champagne         1   11.20   \n",
       "4            Italy        C-Red        Cardprotector Red         2   22.40   \n",
       "\n",
       "   amount_foreign_currency   pim_category type_of_material pim_colour wsl  \\\n",
       "0                    54.26     Twinwallet           Amazon      Brown  No   \n",
       "1                    11.20  Cardprotector        Aluminium      Black  No   \n",
       "2                    22.40  Cardprotector        Aluminium       Blue  No   \n",
       "3                    11.20            NaN              NaN        NaN  No   \n",
       "4                    22.40  Cardprotector        Aluminium        Red  No   \n",
       "\n",
       "  while_stock_lasts cardprotector_colour  year  \n",
       "0                No               Silver  2015  \n",
       "1                No                Black  2015  \n",
       "2                No                 Blue  2015  \n",
       "3                No                  NaN  2015  \n",
       "4                No                  Red  2015  "
      ]
     },
     "execution_count": 16,
     "metadata": {},
     "output_type": "execute_result"
    }
   ],
   "source": [
    "df_clean.head() #preview five first rows"
   ]
  },
  {
   "cell_type": "markdown",
   "metadata": {},
   "source": [
    "<a id='display_name'></a>\n",
    "## VARIABLE : display_name\n",
    "\n",
    "We shall asses this variable because it gives a detailed chracteristic of item such as the 'pim_category', 'type_of_material' and 'colour'.\n"
   ]
  },
  {
   "cell_type": "code",
   "execution_count": null,
   "metadata": {},
   "outputs": [],
   "source": [
    "df_clean.display_name.describe() #overview of variable; count, unique, top,freq"
   ]
  },
  {
   "cell_type": "code",
   "execution_count": null,
   "metadata": {},
   "outputs": [],
   "source": [
    "#list all display_name categories\n",
    "print(df_clean.display_name.cat.categories) # Get list of categories in categorical variable"
   ]
  },
  {
   "cell_type": "code",
   "execution_count": null,
   "metadata": {},
   "outputs": [],
   "source": [
    "df_clean.display_name.value_counts() #count per category"
   ]
  },
  {
   "cell_type": "code",
   "execution_count": null,
   "metadata": {},
   "outputs": [],
   "source": [
    "#number of missing values in display_name column\n",
    "print(df_clean.display_name.isnull().sum()) "
   ]
  },
  {
   "cell_type": "markdown",
   "metadata": {},
   "source": [
    "<a id='material'></a>\n",
    "## VARIABLE : type_of_material\n",
    "\n",
    "This variable is of interest as it is where we shall access the type of material e.g vintage, original or matte\n",
    "\n"
   ]
  },
  {
   "cell_type": "code",
   "execution_count": null,
   "metadata": {},
   "outputs": [],
   "source": [
    "df_clean.type_of_material.describe() #overview of variable; count, unique, top,freq"
   ]
  },
  {
   "cell_type": "code",
   "execution_count": null,
   "metadata": {},
   "outputs": [],
   "source": [
    "#Types of material used in production\n",
    "print (df_clean.type_of_material.cat.categories) # Get list of categories in categorical variable"
   ]
  },
  {
   "cell_type": "code",
   "execution_count": null,
   "metadata": {},
   "outputs": [],
   "source": [
    "df_clean.type_of_material.value_counts() #count per sale transactions"
   ]
  },
  {
   "cell_type": "code",
   "execution_count": null,
   "metadata": {},
   "outputs": [],
   "source": [
    "# the number of missing values in type of material column\n",
    "print(df_clean.type_of_material.isnull().sum()) "
   ]
  },
  {
   "cell_type": "markdown",
   "metadata": {},
   "source": [
    "### Findings\n",
    "This column indicates the type of material used in creating the product.\n",
    "The business uses 29 unique types of material. This column has 75,661 missing values after filtering 'positive' sale transactions.**Vintage** category has the highest frequency of 'positive'/revenue generating sale transactions at 549,615."
   ]
  },
  {
   "cell_type": "markdown",
   "metadata": {},
   "source": [
    " <a id='vintage'></a>\n",
    "### VINTAGE PRODUCT ANALYSIS\n",
    "\n",
    "vintage consits of the follwing display items;\n",
    "      \n",
    "       'Miniwallet Vintage Black', 'Miniwallet Vintage Blue',\n",
    "       'Miniwallet Vintage Brown', 'Miniwallet Vintage Chocolate',\n",
    "       'Miniwallet Vintage Cognac', 'Miniwallet Vintage Cognac-Rust',\n",
    "       'Miniwallet Vintage Concrete', 'Miniwallet Vintage Grey',\n",
    "       'Miniwallet Vintage Grey-Black', 'Miniwallet Vintage Ochre',\n",
    "       'Miniwallet Vintage Olive-Black', 'Miniwallet Vintage Rose'\n",
    "       \n",
    "       'Slimwallet Vintage Black', 'Slimwallet Vintage Blue',\n",
    "       'Slimwallet Vintage Blue Silver', 'Slimwallet Vintage Brown',\n",
    "       'Slimwallet Vintage Chocolate', 'Slimwallet Vintage Cognac',\n",
    "       'Slimwallet Vintage Cognac-Rust', 'Slimwallet Vintage Grey-Black',\n",
    "       'Slimwallet Vintage Ochre', 'Slimwallet Vintage Olive-Black'\n",
    "       \n",
    "       'Twinwallet Vintage Black', 'Twinwallet Vintage Blue',\n",
    "       'Twinwallet Vintage Brown', 'Twinwallet Vintage Chocolate',\n",
    "       'Twinwallet Vintage Cognac', 'Twinwallet Vintage Ochre'\n",
    "       \n",
    "       'PromoSales Miniwallet Vintage Cognac-Rust'\n"
   ]
  },
  {
   "cell_type": "code",
   "execution_count": 17,
   "metadata": {},
   "outputs": [],
   "source": [
    "# filter to only type of material of interest ('Vintage')\n",
    "# after manually assesing the dataframe incompletevintagedf, we find it is missing 'Slimwallet Vintage Blue Silver' and 'Twinwallet Vintage Blue\n",
    "incompletevintagedf =df_clean[(df_clean.type_of_material == 'Vintage')]"
   ]
  },
  {
   "cell_type": "code",
   "execution_count": 18,
   "metadata": {},
   "outputs": [],
   "source": [
    "# we create a dataframe with the missing display items\n",
    "# these missing items were in the rows with missing values in 'type_of_material' column\n",
    "missing_vintage = df_clean[(df_clean.display_name == 'Slimwallet Vintage Blue Silver') | (df_clean.display_name == 'Twinwallet Vintage Blue')]"
   ]
  },
  {
   "cell_type": "markdown",
   "metadata": {},
   "source": [
    "**Test**"
   ]
  },
  {
   "cell_type": "code",
   "execution_count": null,
   "metadata": {},
   "outputs": [],
   "source": [
    "missing_vintage.head() # preview first 5 rows"
   ]
  },
  {
   "cell_type": "code",
   "execution_count": 19,
   "metadata": {},
   "outputs": [],
   "source": [
    "#combine incompletevintagedf and missingvintage into one complete dataframe 'vintagedf'\n",
    "vintagedf = pd.concat([missing_vintage, incompletevintagedf]) "
   ]
  },
  {
   "cell_type": "code",
   "execution_count": 20,
   "metadata": {},
   "outputs": [],
   "source": [
    "#this new column will help us uniquely identify vintage dataframe of data once it is combined with the original and matte dataframes\n",
    "#insert new column with value 'vint'\n",
    "vintagedf['collection']='vint'"
   ]
  },
  {
   "cell_type": "markdown",
   "metadata": {},
   "source": [
    "**Test**"
   ]
  },
  {
   "cell_type": "code",
   "execution_count": null,
   "metadata": {},
   "outputs": [],
   "source": [
    "vintagedf.head() #preview first 5 rows"
   ]
  },
  {
   "cell_type": "code",
   "execution_count": null,
   "metadata": {},
   "outputs": [],
   "source": [
    "#Total quantity of items sold and corresponding revenue generated per 'vintage' item.\n",
    "vintage_items= vintagedf.groupby(\n",
    "   ['display_name']\n",
    ").agg(\n",
    "    {\n",
    "         'amount':sum,    # Sum revenue per customer\n",
    "         'quantity': sum  # get the sum of items sold per year\n",
    "         \n",
    "    }\n",
    ")\n",
    "\n",
    "vintage_items.sort_values(by=['amount'], inplace=True, ascending=False) "
   ]
  },
  {
   "cell_type": "code",
   "execution_count": null,
   "metadata": {},
   "outputs": [],
   "source": [
    "# we discover this dataset includes display items that are NOT vintage\n",
    "vintage_items #includes 'Perforated' and 'Veg' items"
   ]
  },
  {
   "cell_type": "code",
   "execution_count": 21,
   "metadata": {},
   "outputs": [],
   "source": [
    "# delete all rows with display_name ' Perforated' and 'Veg'\n",
    "vintagedf = vintagedf[~vintagedf.display_name.str.contains('Perforated')]\n",
    "vintagedf = vintagedf[~vintagedf.display_name.str.contains('Veg')]"
   ]
  },
  {
   "cell_type": "markdown",
   "metadata": {},
   "source": [
    "**Test**"
   ]
  },
  {
   "cell_type": "code",
   "execution_count": null,
   "metadata": {},
   "outputs": [],
   "source": [
    "#Total quantity of items sold and corresponding revenue generated per 'vintage' item.\n",
    "vintage_items= vintagedf.groupby(\n",
    "   ['display_name']\n",
    ").agg(\n",
    "    {\n",
    "         'amount':sum,    # Sum revenue per customer\n",
    "         'quantity': sum  # get the sum of items sold per year\n",
    "         \n",
    "    }\n",
    ")\n",
    "\n",
    "vintage_items.sort_values(by=['amount'], inplace=True, ascending=False) "
   ]
  },
  {
   "cell_type": "code",
   "execution_count": null,
   "metadata": {},
   "outputs": [],
   "source": [
    "# we observe that the non-vintage items have been removed\n",
    "vintage_items"
   ]
  },
  {
   "cell_type": "code",
   "execution_count": 22,
   "metadata": {},
   "outputs": [],
   "source": [
    "# Group the data frame by year and extract a number of stats per year\n",
    "vintage_revenuerank = vintagedf.groupby(\n",
    "   ['year']\n",
    ").agg(\n",
    "    {\n",
    "         'amount':sum,    # Sum revenue per customer\n",
    "         'quantity': sum  # get the sum of items sold per year\n",
    "         \n",
    "    }\n",
    ")\n",
    "\n",
    "vintage_revenuerank.sort_values(by=['year'], inplace=True, ascending=True)"
   ]
  },
  {
   "cell_type": "code",
   "execution_count": 23,
   "metadata": {},
   "outputs": [
    {
     "data": {
      "text/html": [
       "<div>\n",
       "<style scoped>\n",
       "    .dataframe tbody tr th:only-of-type {\n",
       "        vertical-align: middle;\n",
       "    }\n",
       "\n",
       "    .dataframe tbody tr th {\n",
       "        vertical-align: top;\n",
       "    }\n",
       "\n",
       "    .dataframe thead th {\n",
       "        text-align: right;\n",
       "    }\n",
       "</style>\n",
       "<table border=\"1\" class=\"dataframe\">\n",
       "  <thead>\n",
       "    <tr style=\"text-align: right;\">\n",
       "      <th></th>\n",
       "      <th>amount</th>\n",
       "      <th>quantity</th>\n",
       "    </tr>\n",
       "    <tr>\n",
       "      <th>year</th>\n",
       "      <th></th>\n",
       "      <th></th>\n",
       "    </tr>\n",
       "  </thead>\n",
       "  <tbody>\n",
       "    <tr>\n",
       "      <td>2015</td>\n",
       "      <td>6582818.52</td>\n",
       "      <td>283750</td>\n",
       "    </tr>\n",
       "    <tr>\n",
       "      <td>2016</td>\n",
       "      <td>9062221.16</td>\n",
       "      <td>378753</td>\n",
       "    </tr>\n",
       "    <tr>\n",
       "      <td>2017</td>\n",
       "      <td>10900189.84</td>\n",
       "      <td>454255</td>\n",
       "    </tr>\n",
       "    <tr>\n",
       "      <td>2018</td>\n",
       "      <td>11995679.28</td>\n",
       "      <td>498590</td>\n",
       "    </tr>\n",
       "    <tr>\n",
       "      <td>2019</td>\n",
       "      <td>11724125.47</td>\n",
       "      <td>477974</td>\n",
       "    </tr>\n",
       "  </tbody>\n",
       "</table>\n",
       "</div>"
      ],
      "text/plain": [
       "          amount  quantity\n",
       "year                      \n",
       "2015  6582818.52    283750\n",
       "2016  9062221.16    378753\n",
       "2017 10900189.84    454255\n",
       "2018 11995679.28    498590\n",
       "2019 11724125.47    477974"
      ]
     },
     "execution_count": 23,
     "metadata": {},
     "output_type": "execute_result"
    }
   ],
   "source": [
    "vintage_revenuerank"
   ]
  },
  {
   "cell_type": "markdown",
   "metadata": {},
   "source": [
    "#### Vintage Pivot Table"
   ]
  },
  {
   "cell_type": "code",
   "execution_count": null,
   "metadata": {},
   "outputs": [],
   "source": [
    "#  PIVOT TABLE\n",
    "vintage_table = pd.pivot_table(vintagedf, index=\"display_name\",columns='year',\n",
    "                              values =[\"amount\",\"quantity\"],aggfunc=sum, margins=True)\n",
    "\n",
    "#sort the pivot table\n",
    "vintage_table.sort_values(by=('amount','All'), ascending=False, inplace= True)"
   ]
  },
  {
   "cell_type": "code",
   "execution_count": null,
   "metadata": {},
   "outputs": [],
   "source": [
    "vintage_table"
   ]
  },
  {
   "cell_type": "code",
   "execution_count": null,
   "metadata": {},
   "outputs": [],
   "source": [
    "#fix column names\n",
    "vintage_table.columns =[s1 + '_' + str(s2) for (s1,s2) in vintage_table.columns.tolist()]"
   ]
  },
  {
   "cell_type": "code",
   "execution_count": null,
   "metadata": {},
   "outputs": [],
   "source": [
    "#proposed column order\n",
    "columnsTitles = ['quantity_2015','amount_2015','quantity_2016','amount_2016','quantity_2017','amount_2017','quantity_2018','amount_2018','quantity_2019','amount_2019','quantity_All','amount_All']"
   ]
  },
  {
   "cell_type": "code",
   "execution_count": null,
   "metadata": {},
   "outputs": [],
   "source": [
    "#re-arrange column indexes(order) based on above columnsTitles\n",
    "vintage_table = vintage_table.reindex(columns=columnsTitles)"
   ]
  },
  {
   "cell_type": "code",
   "execution_count": null,
   "metadata": {},
   "outputs": [],
   "source": [
    "#drop first row\n",
    "vintage_table = vintage_table.drop(vintage_table.index[0])"
   ]
  },
  {
   "cell_type": "code",
   "execution_count": null,
   "metadata": {},
   "outputs": [],
   "source": [
    "vintage_table"
   ]
  },
  {
   "cell_type": "markdown",
   "metadata": {},
   "source": [
    "### Vintage dataframe second approach\n",
    "This is asecond approach to creating the vintage dataframe by using the dispaly_names.We observe that the both approaches result to the same dataframe.Any approach can therefore be used. "
   ]
  },
  {
   "cell_type": "code",
   "execution_count": null,
   "metadata": {},
   "outputs": [],
   "source": [
    "#miniwallet vintage dataframe\n",
    "miniwalletvintage = df_clean[(df_clean.display_name == 'Miniwallet Vintage Black') \n",
    "                             | (df_clean.display_name == 'Miniwallet Vintage Blue') \n",
    "                             | (df_clean.display_name == 'Miniwallet Vintage Brown')\n",
    "                             | (df_clean.display_name ==  'Miniwallet Vintage Chocolate')\n",
    "                             | (df_clean.display_name == 'Miniwallet Vintage Cognac')\n",
    "                             | (df_clean.display_name == 'Miniwallet Vintage Cognac-Rust')\n",
    "                             | (df_clean.display_name == 'Miniwallet Vintage Concrete')\n",
    "                             | (df_clean.display_name == 'Miniwallet Vintage Grey')\n",
    "                             | (df_clean.display_name == 'Miniwallet Vintage Grey-Black')\n",
    "                             | (df_clean.display_name == 'Miniwallet Vintage Ochre')\n",
    "                             | (df_clean.display_name == 'Miniwallet Vintage Olive-Black')\n",
    "                             | (df_clean.display_name == 'Miniwallet Vintage Rose')\n",
    "                             | (df_clean.display_name == 'PromoSales Miniwallet Vintage Cognac-Rust')]\n",
    "                                                      "
   ]
  },
  {
   "cell_type": "code",
   "execution_count": null,
   "metadata": {},
   "outputs": [],
   "source": [
    "miniwalletvintage.head()#preview the first five rows"
   ]
  },
  {
   "cell_type": "code",
   "execution_count": null,
   "metadata": {},
   "outputs": [],
   "source": [
    "#slimwallet vintage dataframe\n",
    "slimwalletvintage = df_clean[(df_clean.display_name == 'Slimwallet Vintage Black') \n",
    "                             | (df_clean.display_name == 'Slimwallet Vintage Blue') \n",
    "                             | (df_clean.display_name == 'Slimwallet Vintage Blue Silver')\n",
    "                             | (df_clean.display_name ==  'Slimwallet Vintage Chocolate')\n",
    "                             | (df_clean.display_name == 'Slimwallet Vintage Cognac')\n",
    "                             | (df_clean.display_name == 'Slimwallet Vintage Cognac-Rust')                            \n",
    "                             | (df_clean.display_name == 'Slimwallet Vintage Grey-Black')\n",
    "                             | (df_clean.display_name == 'Slimwallet Vintage Ochre')\n",
    "                             | (df_clean.display_name == 'Slimwallet Vintage Olive-Black')\n",
    "                             | (df_clean.display_name == 'Slimwallet Vintage Brown')]\n"
   ]
  },
  {
   "cell_type": "code",
   "execution_count": null,
   "metadata": {},
   "outputs": [],
   "source": [
    "slimwalletvintage.head()#preview the first 5 rows"
   ]
  },
  {
   "cell_type": "code",
   "execution_count": null,
   "metadata": {},
   "outputs": [],
   "source": [
    "#Twinwallet vintage dataframe\n",
    "twinwalletvintage = df_clean[(df_clean.display_name == 'Twinwallet Vintage Black') \n",
    "                             | (df_clean.display_name == 'Twinwallet Vintage Blue') \n",
    "                             | (df_clean.display_name == 'Twinwallet Vintage Brown')\n",
    "                             | (df_clean.display_name ==  'Twinwallet Vintage Chocolate')\n",
    "                             | (df_clean.display_name == 'Twinwallet Vintage Cognac')\n",
    "                             | (df_clean.display_name == 'Twinwallet Vintage Ochre')]"
   ]
  },
  {
   "cell_type": "code",
   "execution_count": null,
   "metadata": {},
   "outputs": [],
   "source": [
    "twinwalletvintage.head() "
   ]
  },
  {
   "cell_type": "code",
   "execution_count": null,
   "metadata": {},
   "outputs": [],
   "source": [
    "#combine the miniwallet,twinwallet and slimwallet vintage dataframe\n",
    "vintagedf2 = pd.concat([miniwalletvintage, slimwalletvintage, twinwalletvintage])"
   ]
  },
  {
   "cell_type": "code",
   "execution_count": null,
   "metadata": {},
   "outputs": [],
   "source": [
    "#this new column will help us uniquely identify vintage dataframe of data once it is combined with the original and matte dataframes\n",
    "#insert new column with value 'vint'\n",
    "vintagedf2['collection']='vint'"
   ]
  },
  {
   "cell_type": "markdown",
   "metadata": {},
   "source": [
    "**Test**"
   ]
  },
  {
   "cell_type": "code",
   "execution_count": null,
   "metadata": {},
   "outputs": [],
   "source": [
    "vintagedf2.head()"
   ]
  },
  {
   "cell_type": "code",
   "execution_count": null,
   "metadata": {},
   "outputs": [],
   "source": [
    "# Group the data frame by year and extract a number of stats per year\n",
    "vintage_rank = vintagedf2.groupby(\n",
    "   ['year']\n",
    ").agg(\n",
    "    {\n",
    "         'amount':sum,    # Sum revenue per customer\n",
    "         'quantity': sum  # get the sum of items sold per year\n",
    "         \n",
    "    }\n",
    ")\n",
    "\n",
    "vintage_rank.sort_values(by=['year'], inplace=True, ascending=True)"
   ]
  },
  {
   "cell_type": "code",
   "execution_count": null,
   "metadata": {},
   "outputs": [],
   "source": [
    "#lists the total revenue amount and total items sold per year for vintage collection items.\n",
    "vintage_rank"
   ]
  },
  {
   "cell_type": "markdown",
   "metadata": {},
   "source": [
    "#### Vintagedf2 Pivot Table"
   ]
  },
  {
   "cell_type": "code",
   "execution_count": null,
   "metadata": {},
   "outputs": [],
   "source": [
    "#  PIVOT TABLE\n",
    "vintagedf2_table = pd.pivot_table(vintagedf2, index=\"display_name\",columns='year',\n",
    "                              values =[\"amount\",\"quantity\"],aggfunc=sum, margins=True)\n",
    "\n",
    "#sort the pivot table\n",
    "vintagedf2_table.sort_values(by=('amount','All'), ascending=False, inplace= True)"
   ]
  },
  {
   "cell_type": "code",
   "execution_count": null,
   "metadata": {},
   "outputs": [],
   "source": [
    "vintagedf2_table"
   ]
  },
  {
   "cell_type": "code",
   "execution_count": null,
   "metadata": {},
   "outputs": [],
   "source": [
    "#fix column names\n",
    "vintagedf2_table.columns =[s1 + '_' + str(s2) for (s1,s2) in vintagedf2_table.columns.tolist()]"
   ]
  },
  {
   "cell_type": "code",
   "execution_count": null,
   "metadata": {},
   "outputs": [],
   "source": [
    "#proposed column order\n",
    "columnsTitles = ['quantity_2015','amount_2015','quantity_2016','amount_2016','quantity_2017','amount_2017','quantity_2018','amount_2018','quantity_2019','amount_2019','quantity_All','amount_All']"
   ]
  },
  {
   "cell_type": "code",
   "execution_count": null,
   "metadata": {},
   "outputs": [],
   "source": [
    "#re-arrange column indexes(order) based on above columnsTitles\n",
    "vintagedf2_table = vintagedf2_table.reindex(columns=columnsTitles)"
   ]
  },
  {
   "cell_type": "code",
   "execution_count": null,
   "metadata": {},
   "outputs": [],
   "source": [
    "#drop first row\n",
    "vintagedf2_table = vintagedf2_table.drop(vintagedf2_table.index[0])"
   ]
  },
  {
   "cell_type": "code",
   "execution_count": null,
   "metadata": {},
   "outputs": [],
   "source": [
    "vintagedf2_table"
   ]
  },
  {
   "cell_type": "code",
   "execution_count": null,
   "metadata": {},
   "outputs": [],
   "source": [
    "#export to csv\n",
    "vintagedf2.to_csv('vintagedataframe.csv', index = None, header=True)"
   ]
  },
  {
   "cell_type": "markdown",
   "metadata": {},
   "source": [
    " <a id='original'></a>\n",
    " ### ORIGINAL PRODUCT ANALYSIS\n",
    " Original collection consists of the following display items;\n",
    " \n",
    "       'Miniwallet Original Black',\n",
    "       'Miniwallet Original Black Exclusive',\n",
    "       'Miniwallet Original Black Red Exclusive',\n",
    "       'Miniwallet Original Bordeaux', 'Miniwallet Original Cognac-Brown',\n",
    "       'Miniwallet Original Cognac-Rust', 'Miniwallet Original Dark Brown',\n",
    "       'Miniwallet Original Emerald', 'Miniwallet Original Fuchsia',\n",
    "       'Miniwallet Original Green', 'Miniwallet Original Indigo',\n",
    "       'Miniwallet Original Natural', 'Miniwallet Original Navy',\n",
    "       'Miniwallet Original Navy-Blue', 'Miniwallet Original Red Lipstick',\n",
    "       'Miniwallet Original Red-Red', \n",
    "       \n",
    "       'Slimwallet Original Black', 'Slimwallet Original Bordeaux',\n",
    "       'Slimwallet Original Cognac-Brown', 'Slimwallet Original Green',\n",
    "       'Slimwallet Original Navy',\n",
    " \n",
    "       'Twinwallet Original Black', 'Twinwallet Original Black Exclusive',\n",
    "       'Twinwallet Original Cognac-Brown', 'Twinwallet Original Fuchsia',\n",
    "       'Twinwallet Original Green', 'Twinwallet Original Red Lipstick',\n",
    "       'Twinwallet Original Red-Red',\n",
    "       \n",
    "        'Limited Miniwallet Original Black/Red\n",
    "       "
   ]
  },
  {
   "cell_type": "code",
   "execution_count": 24,
   "metadata": {},
   "outputs": [],
   "source": [
    "# filter to only type of material of interest ('Original')\n",
    "#This dataset contains items that are not 'original'.THese non original items are; 'Slimwallet Black Red Exclusive','Slimwallet Black Exclusive'and'Miniwallet Royal Blue Orange'\n",
    "# The dataset is missing some original display items.These missing dispaly items are;\n",
    "#'Limited Miniwallet Original Black/Red','Miniwallet Original Red Lipstick', 'Miniwallet Original Natural'\n",
    "#'Miniwallet Original Indigo'and 'Miniwallet Original Cognac-Rust'\n",
    "\n",
    "incompleteoriginaldf =df_clean[(df_clean.type_of_material == 'Original')]"
   ]
  },
  {
   "cell_type": "code",
   "execution_count": 25,
   "metadata": {},
   "outputs": [],
   "source": [
    "# delete all rows with non original dispaly itemms. Delete rows with display_name 'Slimwallet Black Red Exclusive','Slimwallet Black Exclusive' and 'Miniwallet Royal Blue Orange'\n",
    "incompleteoriginaldf = incompleteoriginaldf[~incompleteoriginaldf.display_name.str.contains('Slimwallet Black Red Exclusive')]\n",
    "incompleteoriginaldf = incompleteoriginaldf[~incompleteoriginaldf.display_name.str.contains('Slimwallet Black Exclusive')]\n",
    "incompleteoriginaldf = incompleteoriginaldf[~incompleteoriginaldf.display_name.str.contains('Miniwallet Royal Blue Orange')]"
   ]
  },
  {
   "cell_type": "code",
   "execution_count": 26,
   "metadata": {},
   "outputs": [],
   "source": [
    "#create dataframe with the missing display items\n",
    "#these missing items are'Limited Miniwallet Original Black/Red','Miniwallet Original Red Lipstick', 'Miniwallet Original Natural'\n",
    "#'Miniwallet Original Indigo','Miniwallet Original Cognac-Rust'\n",
    "missing_original = df_clean[(df_clean.display_name == 'Limited Miniwallet Original Black/Red') \n",
    "                            | (df_clean.display_name == 'Miniwallet Original Red Lipstick')\n",
    "                            | (df_clean.display_name == 'Miniwallet Original Natural')\n",
    "                            | (df_clean.display_name == 'Miniwallet Original Indigo')\n",
    "                            | (df_clean.display_name == 'Miniwallet Original Cognac-Rust')]                           "
   ]
  },
  {
   "cell_type": "code",
   "execution_count": 27,
   "metadata": {},
   "outputs": [],
   "source": [
    "#combine 'incompleteoriginaldf' and 'missing_original'\n",
    "originaldf = pd.concat([incompleteoriginaldf, missing_original])"
   ]
  },
  {
   "cell_type": "code",
   "execution_count": 28,
   "metadata": {},
   "outputs": [],
   "source": [
    "#this new column will help us uniquely identify original dataframe of data once it is combined with the vintage and matte dataframes\n",
    "#insert new column with value 'org'\n",
    "originaldf['collection']='org'"
   ]
  },
  {
   "cell_type": "markdown",
   "metadata": {},
   "source": [
    "**Test**"
   ]
  },
  {
   "cell_type": "code",
   "execution_count": null,
   "metadata": {},
   "outputs": [],
   "source": [
    "originaldf.head()"
   ]
  },
  {
   "cell_type": "code",
   "execution_count": null,
   "metadata": {},
   "outputs": [],
   "source": [
    "#export to csv\n",
    "originaldf.to_csv('originaldataframe.csv', index = None, header=True)"
   ]
  },
  {
   "cell_type": "code",
   "execution_count": null,
   "metadata": {},
   "outputs": [],
   "source": [
    "#Total quantity of items sold and corresponding revenue generated per 'original' item.\n",
    "original_items= originaldf.groupby(\n",
    "   ['shipping_country']\n",
    ").agg(\n",
    "    {\n",
    "         'amount':sum,    # Sum revenue per customer\n",
    "         'quantity': sum  # get the sum of items sold per year\n",
    "         \n",
    "    }\n",
    ")\n",
    "\n",
    "original_items.sort_values(by=['amount'], inplace=True, ascending=False) "
   ]
  },
  {
   "cell_type": "code",
   "execution_count": null,
   "metadata": {},
   "outputs": [],
   "source": [
    "original_items # includes 'Slimwallet Black Red Exclusive','Slimwallet Black Exclusive','Miniwallet Royal Blue Orange'"
   ]
  },
  {
   "cell_type": "code",
   "execution_count": 29,
   "metadata": {},
   "outputs": [],
   "source": [
    "# Group the data frame by year and extract a number of stats per year\n",
    "original_rank = originaldf.groupby(\n",
    "   ['year']\n",
    ").agg(\n",
    "    {\n",
    "         'amount':sum,    # Sum revenue per customer\n",
    "         'quantity': sum  # get the sum of items sold per year\n",
    "         \n",
    "    }\n",
    ")\n",
    "\n",
    "original_rank.sort_values(by=['year'], inplace=True, ascending=True)"
   ]
  },
  {
   "cell_type": "code",
   "execution_count": 30,
   "metadata": {},
   "outputs": [
    {
     "data": {
      "text/html": [
       "<div>\n",
       "<style scoped>\n",
       "    .dataframe tbody tr th:only-of-type {\n",
       "        vertical-align: middle;\n",
       "    }\n",
       "\n",
       "    .dataframe tbody tr th {\n",
       "        vertical-align: top;\n",
       "    }\n",
       "\n",
       "    .dataframe thead th {\n",
       "        text-align: right;\n",
       "    }\n",
       "</style>\n",
       "<table border=\"1\" class=\"dataframe\">\n",
       "  <thead>\n",
       "    <tr style=\"text-align: right;\">\n",
       "      <th></th>\n",
       "      <th>amount</th>\n",
       "      <th>quantity</th>\n",
       "    </tr>\n",
       "    <tr>\n",
       "      <th>year</th>\n",
       "      <th></th>\n",
       "      <th></th>\n",
       "    </tr>\n",
       "  </thead>\n",
       "  <tbody>\n",
       "    <tr>\n",
       "      <td>2015</td>\n",
       "      <td>3630961.78</td>\n",
       "      <td>160912</td>\n",
       "    </tr>\n",
       "    <tr>\n",
       "      <td>2016</td>\n",
       "      <td>4657706.01</td>\n",
       "      <td>195279</td>\n",
       "    </tr>\n",
       "    <tr>\n",
       "      <td>2017</td>\n",
       "      <td>6486407.26</td>\n",
       "      <td>271144</td>\n",
       "    </tr>\n",
       "    <tr>\n",
       "      <td>2018</td>\n",
       "      <td>7726273.56</td>\n",
       "      <td>319600</td>\n",
       "    </tr>\n",
       "    <tr>\n",
       "      <td>2019</td>\n",
       "      <td>8510210.09</td>\n",
       "      <td>343612</td>\n",
       "    </tr>\n",
       "  </tbody>\n",
       "</table>\n",
       "</div>"
      ],
      "text/plain": [
       "         amount  quantity\n",
       "year                     \n",
       "2015 3630961.78    160912\n",
       "2016 4657706.01    195279\n",
       "2017 6486407.26    271144\n",
       "2018 7726273.56    319600\n",
       "2019 8510210.09    343612"
      ]
     },
     "execution_count": 30,
     "metadata": {},
     "output_type": "execute_result"
    }
   ],
   "source": [
    "#lists the total revenue amount and total items sold per year for original collection items.\n",
    "original_rank"
   ]
  },
  {
   "cell_type": "markdown",
   "metadata": {},
   "source": [
    "#### Original Pivot Table"
   ]
  },
  {
   "cell_type": "code",
   "execution_count": null,
   "metadata": {},
   "outputs": [],
   "source": [
    "#  PIVOT TABLE\n",
    "original_table = pd.pivot_table(originaldf, index=\"display_name\",columns='year',\n",
    "                              values =[\"amount\",\"quantity\"],aggfunc=sum, margins=True)\n",
    "\n",
    "#sort the pivot table\n",
    "original_table.sort_values(by=('amount','All'), ascending=False, inplace= True)"
   ]
  },
  {
   "cell_type": "code",
   "execution_count": null,
   "metadata": {},
   "outputs": [],
   "source": [
    "original_table"
   ]
  },
  {
   "cell_type": "code",
   "execution_count": null,
   "metadata": {},
   "outputs": [],
   "source": [
    "#fix column names\n",
    "original_table.columns =[s1 + '_' + str(s2) for (s1,s2) in original_table.columns.tolist()]"
   ]
  },
  {
   "cell_type": "code",
   "execution_count": null,
   "metadata": {},
   "outputs": [],
   "source": [
    "#proposed column order\n",
    "columnsTitles = ['quantity_2015','amount_2015','quantity_2016','amount_2016','quantity_2017','amount_2017','quantity_2018','amount_2018','quantity_2019','amount_2019','quantity_All','amount_All']"
   ]
  },
  {
   "cell_type": "code",
   "execution_count": null,
   "metadata": {},
   "outputs": [],
   "source": [
    "#re-arrange column indexes(order) based on above columnsTitles\n",
    "original_table = original_table.reindex(columns=columnsTitles)"
   ]
  },
  {
   "cell_type": "code",
   "execution_count": null,
   "metadata": {},
   "outputs": [],
   "source": [
    "#drop first row\n",
    "original_table = original_table.drop(original_table.index[0])"
   ]
  },
  {
   "cell_type": "code",
   "execution_count": null,
   "metadata": {},
   "outputs": [],
   "source": [
    "original_table # print pivot table"
   ]
  },
  {
   "cell_type": "markdown",
   "metadata": {},
   "source": [
    " <a id='matte'></a>\n",
    " ### MATTE PRODUCT ANALYSIS\n",
    " Matte dataframe consists of;\n",
    "     \n",
    "       'Miniwallet Matte Black & Red', 'Miniwallet Matte Black & Yellow',\n",
    "       'Miniwallet Matte Blue', 'Miniwallet Matte Brick-Black',\n",
    "       'Miniwallet Matte Chalk', 'Miniwallet Matte Green',\n",
    "       'Miniwallet Matte Green-Black', 'Miniwallet Matte Grey-Black',\n",
    "       'Miniwallet Matte Lilac-Black', 'Miniwallet Matte Nightblue',\n",
    "       'Miniwallet Matte Petrol', 'Miniwallet Matte Pink',\n",
    "       'Miniwallet Matte Purple',       \n",
    "       \n",
    "       'Slimwallet Matte Black',\n",
    "       'Slimwallet Matte Black & Red', 'Slimwallet Matte Black & Yellow',\n",
    "       'Slimwallet Matte Green', 'Slimwallet Matte Green-Black',\n",
    "       'Slimwallet Matte Grey-Black', 'Slimwallet Matte Nightblue',\n",
    "       'Slimwallet Matte Petrol',\n",
    "       \n",
    "       'Twinwallet Matte Black', 'Twinwallet Matte Blue',\n",
    "       'Twinwallet Matte Blue Silver', 'Twinwallet Matte Green',\n",
    "       'Twinwallet Matte Purple',\n",
    " "
   ]
  },
  {
   "cell_type": "code",
   "execution_count": 31,
   "metadata": {},
   "outputs": [],
   "source": [
    "# filter to only type of material of interest ('Matte')\n",
    "mattedf = df_clean[(df_clean.type_of_material == 'Matte')]"
   ]
  },
  {
   "cell_type": "code",
   "execution_count": 32,
   "metadata": {},
   "outputs": [
    {
     "name": "stderr",
     "output_type": "stream",
     "text": [
      "C:\\Users\\waith\\Anaconda3\\lib\\site-packages\\ipykernel_launcher.py:3: SettingWithCopyWarning: \n",
      "A value is trying to be set on a copy of a slice from a DataFrame.\n",
      "Try using .loc[row_indexer,col_indexer] = value instead\n",
      "\n",
      "See the caveats in the documentation: http://pandas.pydata.org/pandas-docs/stable/user_guide/indexing.html#returning-a-view-versus-a-copy\n",
      "  This is separate from the ipykernel package so we can avoid doing imports until\n"
     ]
    }
   ],
   "source": [
    "#this new column will help us uniquely identify matte dataframe of data once it is combined with the vintage and original dataframes\n",
    "#insert new column with value 'mat'\n",
    "mattedf['collection']='mat'"
   ]
  },
  {
   "cell_type": "code",
   "execution_count": null,
   "metadata": {},
   "outputs": [],
   "source": [
    "#export to csv\n",
    "mattedf.to_csv('mattedataframe.csv', index = None, header=True)"
   ]
  },
  {
   "cell_type": "markdown",
   "metadata": {},
   "source": [
    "**Test**"
   ]
  },
  {
   "cell_type": "code",
   "execution_count": null,
   "metadata": {},
   "outputs": [],
   "source": [
    "mattedf.head()"
   ]
  },
  {
   "cell_type": "code",
   "execution_count": null,
   "metadata": {},
   "outputs": [],
   "source": [
    "#Total quantity of items sold and corresponding revenue generated per 'matte' item.\n",
    "matte_items= mattedf.groupby(\n",
    "   ['display_name','shipping_country']\n",
    ").agg(\n",
    "    {\n",
    "         'amount':sum,    # Sum revenue per customer\n",
    "         'quantity': sum  # get the sum of items sold per year\n",
    "         \n",
    "    }\n",
    ")\n",
    "\n",
    "matte_items.sort_values(by=['amount'], inplace=True, ascending=False)"
   ]
  },
  {
   "cell_type": "code",
   "execution_count": null,
   "metadata": {},
   "outputs": [],
   "source": [
    "matte_items"
   ]
  },
  {
   "cell_type": "code",
   "execution_count": 33,
   "metadata": {},
   "outputs": [],
   "source": [
    "# Group the data frame by year and extract a number of stats per year\n",
    "matte_rank = mattedf.groupby(\n",
    "   ['year']\n",
    ").agg(\n",
    "    {\n",
    "         'amount':sum,    # Sum revenue per customer\n",
    "         'quantity': sum  # get the sum of items sold per year\n",
    "         \n",
    "    }\n",
    ")\n",
    "\n",
    "matte_rank.sort_values(by=['year'], inplace=True, ascending=True)"
   ]
  },
  {
   "cell_type": "code",
   "execution_count": 34,
   "metadata": {},
   "outputs": [
    {
     "data": {
      "text/html": [
       "<div>\n",
       "<style scoped>\n",
       "    .dataframe tbody tr th:only-of-type {\n",
       "        vertical-align: middle;\n",
       "    }\n",
       "\n",
       "    .dataframe tbody tr th {\n",
       "        vertical-align: top;\n",
       "    }\n",
       "\n",
       "    .dataframe thead th {\n",
       "        text-align: right;\n",
       "    }\n",
       "</style>\n",
       "<table border=\"1\" class=\"dataframe\">\n",
       "  <thead>\n",
       "    <tr style=\"text-align: right;\">\n",
       "      <th></th>\n",
       "      <th>amount</th>\n",
       "      <th>quantity</th>\n",
       "    </tr>\n",
       "    <tr>\n",
       "      <th>year</th>\n",
       "      <th></th>\n",
       "      <th></th>\n",
       "    </tr>\n",
       "  </thead>\n",
       "  <tbody>\n",
       "    <tr>\n",
       "      <td>2015</td>\n",
       "      <td>711.34</td>\n",
       "      <td>32</td>\n",
       "    </tr>\n",
       "    <tr>\n",
       "      <td>2016</td>\n",
       "      <td>1203620.39</td>\n",
       "      <td>50856</td>\n",
       "    </tr>\n",
       "    <tr>\n",
       "      <td>2017</td>\n",
       "      <td>1744796.02</td>\n",
       "      <td>74660</td>\n",
       "    </tr>\n",
       "    <tr>\n",
       "      <td>2018</td>\n",
       "      <td>2916183.04</td>\n",
       "      <td>125515</td>\n",
       "    </tr>\n",
       "    <tr>\n",
       "      <td>2019</td>\n",
       "      <td>4812048.59</td>\n",
       "      <td>201660</td>\n",
       "    </tr>\n",
       "  </tbody>\n",
       "</table>\n",
       "</div>"
      ],
      "text/plain": [
       "         amount  quantity\n",
       "year                     \n",
       "2015     711.34        32\n",
       "2016 1203620.39     50856\n",
       "2017 1744796.02     74660\n",
       "2018 2916183.04    125515\n",
       "2019 4812048.59    201660"
      ]
     },
     "execution_count": 34,
     "metadata": {},
     "output_type": "execute_result"
    }
   ],
   "source": [
    "#lists the total revenue amount and total items sold per year for matte collection items.\n",
    "matte_rank"
   ]
  },
  {
   "cell_type": "markdown",
   "metadata": {},
   "source": [
    "#### Matte Pivot Table"
   ]
  },
  {
   "cell_type": "code",
   "execution_count": null,
   "metadata": {},
   "outputs": [],
   "source": [
    "#  PIVOT TABLE\n",
    "matte_table = pd.pivot_table(mattedf, index=\"display_name\",columns='year',\n",
    "                              values =[\"amount\",\"quantity\"],aggfunc=sum, margins=True)\n",
    "\n",
    "#sort the pivot table\n",
    "matte_table.sort_values(by=('amount','All'), ascending=False, inplace= True)"
   ]
  },
  {
   "cell_type": "code",
   "execution_count": null,
   "metadata": {},
   "outputs": [],
   "source": [
    "matte_table"
   ]
  },
  {
   "cell_type": "code",
   "execution_count": null,
   "metadata": {},
   "outputs": [],
   "source": [
    "#fix column names\n",
    "matte_table.columns =[s1 + '_' + str(s2) for (s1,s2) in matte_table.columns.tolist()]"
   ]
  },
  {
   "cell_type": "code",
   "execution_count": null,
   "metadata": {},
   "outputs": [],
   "source": [
    "#proposed column order\n",
    "columnsTitles = ['quantity_2015','amount_2015','quantity_2016','amount_2016','quantity_2017','amount_2017','quantity_2018','amount_2018','quantity_2019','amount_2019','quantity_All','amount_All']"
   ]
  },
  {
   "cell_type": "code",
   "execution_count": null,
   "metadata": {},
   "outputs": [],
   "source": [
    "#re-arrange column indexes(order) based on above columnsTitles\n",
    "matte_table = matte_table.reindex(columns=columnsTitles)"
   ]
  },
  {
   "cell_type": "code",
   "execution_count": null,
   "metadata": {},
   "outputs": [],
   "source": [
    "#drop first row\n",
    "matte_table = matte_table.drop(matte_table.index[0])"
   ]
  },
  {
   "cell_type": "code",
   "execution_count": null,
   "metadata": {},
   "outputs": [],
   "source": [
    "matte_table"
   ]
  },
  {
   "cell_type": "markdown",
   "metadata": {},
   "source": [
    "<a id='collectionsdf'></a>\n",
    "## COMBINE VINTAGE, ORGINAL AND MATTE DATAFRAMES INTO ONE 'collectionsdf'\n",
    "\n",
    "### collectionsdf"
   ]
  },
  {
   "cell_type": "code",
   "execution_count": 35,
   "metadata": {},
   "outputs": [],
   "source": [
    "#combine vintage original and matte dataframes into one 'collectionsdf' dataframe\n",
    "collectionsdf = pd.concat([vintagedf, originaldf, mattedf])"
   ]
  },
  {
   "cell_type": "markdown",
   "metadata": {},
   "source": [
    "**Test**"
   ]
  },
  {
   "cell_type": "code",
   "execution_count": null,
   "metadata": {},
   "outputs": [],
   "source": [
    "collectionsdf.head()#preview first five rows"
   ]
  },
  {
   "cell_type": "code",
   "execution_count": null,
   "metadata": {},
   "outputs": [],
   "source": [
    "collectionsdf.tail()# preview the last five rows"
   ]
  },
  {
   "cell_type": "code",
   "execution_count": null,
   "metadata": {},
   "outputs": [],
   "source": [
    "#export to csv\n",
    "collectionsdf.to_csv('combined_collections_dataframe.csv', index = None, header=True)"
   ]
  },
  {
   "cell_type": "code",
   "execution_count": 36,
   "metadata": {},
   "outputs": [],
   "source": [
    "# Group the data frame by year and extract a number of stats per year\n",
    "collections_rank = collectionsdf.groupby(\n",
    "   ['collection','year']\n",
    ").agg(\n",
    "    {\n",
    "         'amount':sum,    # Sum revenue per customer\n",
    "         'quantity': sum  # get the sum of items sold per year\n",
    "         \n",
    "    }\n",
    ")\n",
    "\n",
    "collections_rank.sort_values(by=['year'], inplace=True, ascending=True)"
   ]
  },
  {
   "cell_type": "code",
   "execution_count": 37,
   "metadata": {},
   "outputs": [
    {
     "data": {
      "text/html": [
       "<div>\n",
       "<style scoped>\n",
       "    .dataframe tbody tr th:only-of-type {\n",
       "        vertical-align: middle;\n",
       "    }\n",
       "\n",
       "    .dataframe tbody tr th {\n",
       "        vertical-align: top;\n",
       "    }\n",
       "\n",
       "    .dataframe thead th {\n",
       "        text-align: right;\n",
       "    }\n",
       "</style>\n",
       "<table border=\"1\" class=\"dataframe\">\n",
       "  <thead>\n",
       "    <tr style=\"text-align: right;\">\n",
       "      <th></th>\n",
       "      <th></th>\n",
       "      <th>amount</th>\n",
       "      <th>quantity</th>\n",
       "    </tr>\n",
       "    <tr>\n",
       "      <th>collection</th>\n",
       "      <th>year</th>\n",
       "      <th></th>\n",
       "      <th></th>\n",
       "    </tr>\n",
       "  </thead>\n",
       "  <tbody>\n",
       "    <tr>\n",
       "      <td>mat</td>\n",
       "      <td>2015</td>\n",
       "      <td>711.34</td>\n",
       "      <td>32</td>\n",
       "    </tr>\n",
       "    <tr>\n",
       "      <td>org</td>\n",
       "      <td>2015</td>\n",
       "      <td>3630961.78</td>\n",
       "      <td>160912</td>\n",
       "    </tr>\n",
       "    <tr>\n",
       "      <td>vint</td>\n",
       "      <td>2015</td>\n",
       "      <td>6582818.52</td>\n",
       "      <td>283750</td>\n",
       "    </tr>\n",
       "    <tr>\n",
       "      <td>mat</td>\n",
       "      <td>2016</td>\n",
       "      <td>1203620.39</td>\n",
       "      <td>50856</td>\n",
       "    </tr>\n",
       "    <tr>\n",
       "      <td>org</td>\n",
       "      <td>2016</td>\n",
       "      <td>4657706.01</td>\n",
       "      <td>195279</td>\n",
       "    </tr>\n",
       "    <tr>\n",
       "      <td>vint</td>\n",
       "      <td>2016</td>\n",
       "      <td>9062221.16</td>\n",
       "      <td>378753</td>\n",
       "    </tr>\n",
       "    <tr>\n",
       "      <td>mat</td>\n",
       "      <td>2017</td>\n",
       "      <td>1744796.02</td>\n",
       "      <td>74660</td>\n",
       "    </tr>\n",
       "    <tr>\n",
       "      <td>org</td>\n",
       "      <td>2017</td>\n",
       "      <td>6486407.26</td>\n",
       "      <td>271144</td>\n",
       "    </tr>\n",
       "    <tr>\n",
       "      <td>vint</td>\n",
       "      <td>2017</td>\n",
       "      <td>10900189.84</td>\n",
       "      <td>454255</td>\n",
       "    </tr>\n",
       "    <tr>\n",
       "      <td>mat</td>\n",
       "      <td>2018</td>\n",
       "      <td>2916183.04</td>\n",
       "      <td>125515</td>\n",
       "    </tr>\n",
       "    <tr>\n",
       "      <td>org</td>\n",
       "      <td>2018</td>\n",
       "      <td>7726273.56</td>\n",
       "      <td>319600</td>\n",
       "    </tr>\n",
       "    <tr>\n",
       "      <td>vint</td>\n",
       "      <td>2018</td>\n",
       "      <td>11995679.28</td>\n",
       "      <td>498590</td>\n",
       "    </tr>\n",
       "    <tr>\n",
       "      <td>mat</td>\n",
       "      <td>2019</td>\n",
       "      <td>4812048.59</td>\n",
       "      <td>201660</td>\n",
       "    </tr>\n",
       "    <tr>\n",
       "      <td>org</td>\n",
       "      <td>2019</td>\n",
       "      <td>8510210.09</td>\n",
       "      <td>343612</td>\n",
       "    </tr>\n",
       "    <tr>\n",
       "      <td>vint</td>\n",
       "      <td>2019</td>\n",
       "      <td>11724125.47</td>\n",
       "      <td>477974</td>\n",
       "    </tr>\n",
       "  </tbody>\n",
       "</table>\n",
       "</div>"
      ],
      "text/plain": [
       "                     amount  quantity\n",
       "collection year                      \n",
       "mat        2015      711.34        32\n",
       "org        2015  3630961.78    160912\n",
       "vint       2015  6582818.52    283750\n",
       "mat        2016  1203620.39     50856\n",
       "org        2016  4657706.01    195279\n",
       "vint       2016  9062221.16    378753\n",
       "mat        2017  1744796.02     74660\n",
       "org        2017  6486407.26    271144\n",
       "vint       2017 10900189.84    454255\n",
       "mat        2018  2916183.04    125515\n",
       "org        2018  7726273.56    319600\n",
       "vint       2018 11995679.28    498590\n",
       "mat        2019  4812048.59    201660\n",
       "org        2019  8510210.09    343612\n",
       "vint       2019 11724125.47    477974"
      ]
     },
     "execution_count": 37,
     "metadata": {},
     "output_type": "execute_result"
    }
   ],
   "source": [
    "collections_rank"
   ]
  },
  {
   "cell_type": "markdown",
   "metadata": {},
   "source": [
    "<a id='shipping_country'></a>\n",
    "## VARIABLE: shipping_country\n",
    "\n",
    "This column is important as it lists all the countries the items shipped itams to. As previously indicated in the objective, we shall filter the collctions dataset to only the top five revenue generating countries."
   ]
  },
  {
   "cell_type": "code",
   "execution_count": null,
   "metadata": {},
   "outputs": [],
   "source": [
    "df_clean.shipping_country.describe()#overview of variable; count, unique, top,freq"
   ]
  },
  {
   "cell_type": "code",
   "execution_count": null,
   "metadata": {},
   "outputs": [],
   "source": [
    "# List of countries the business shipped items to\n",
    "print (df_clean.shipping_country.cat.categories)# Get list of categories in categorical variable"
   ]
  },
  {
   "cell_type": "code",
   "execution_count": null,
   "metadata": {},
   "outputs": [],
   "source": [
    "# Total Sales transactions per country\n",
    "df_clean.shipping_country.value_counts() #count per category(Transactions per country)"
   ]
  },
  {
   "cell_type": "code",
   "execution_count": null,
   "metadata": {},
   "outputs": [],
   "source": [
    "#print number of missing values in thi column\n",
    "print(df_clean.shipping_country.isnull().sum()) "
   ]
  },
  {
   "cell_type": "code",
   "execution_count": null,
   "metadata": {},
   "outputs": [],
   "source": [
    "#Total quantity of items sold and corresponding revenue generated per country\n",
    "countryrevenuerank= df_clean.groupby(\n",
    "   ['shipping_country']\n",
    ").agg(\n",
    "    {\n",
    "         'amount':sum,    # Sum revenue per customer\n",
    "         'quantity': sum  # get the sum of items sold per year\n",
    "         \n",
    "    }\n",
    ")\n",
    "\n",
    "countryrevenuerank.sort_values(by=['amount'], inplace=True, ascending=False) "
   ]
  },
  {
   "cell_type": "code",
   "execution_count": null,
   "metadata": {},
   "outputs": [],
   "source": [
    "countryrevenuerank.head()"
   ]
  },
  {
   "cell_type": "markdown",
   "metadata": {},
   "source": [
    "\n",
    "**Findings on shipping country**\n",
    "\n",
    "    Top 5 revenue generating countries are ; Netherlands,Germany, Spain, France, Switzerland"
   ]
  },
  {
   "cell_type": "markdown",
   "metadata": {},
   "source": [
    "<a id='germany'></a>\n",
    "### COLLECTIONS ANALYSIS FOR GERMANY"
   ]
  },
  {
   "cell_type": "markdown",
   "metadata": {},
   "source": [
    "#### Comparing Vintage, Original and Matte collections in Germany"
   ]
  },
  {
   "cell_type": "code",
   "execution_count": 40,
   "metadata": {},
   "outputs": [],
   "source": [
    "#filter to only ('Germany')\n",
    "germany_collectionsdf =collectionsdf[(collectionsdf.shipping_country == 'Germany')]                                       "
   ]
  },
  {
   "cell_type": "markdown",
   "metadata": {},
   "source": [
    "**Test**"
   ]
  },
  {
   "cell_type": "code",
   "execution_count": null,
   "metadata": {},
   "outputs": [],
   "source": [
    "germany_collectionsdf.head() # preview the first 5 rows"
   ]
  },
  {
   "cell_type": "code",
   "execution_count": null,
   "metadata": {},
   "outputs": [],
   "source": [
    "germany_collectionsdf.tail() #preview last 5 rows"
   ]
  },
  {
   "cell_type": "code",
   "execution_count": null,
   "metadata": {},
   "outputs": [],
   "source": [
    "#export to csv\n",
    "germany_collectionsdf.to_csv('germany_collectionsdf.csv', index = None, header=True)"
   ]
  },
  {
   "cell_type": "code",
   "execution_count": 41,
   "metadata": {},
   "outputs": [],
   "source": [
    "#Total quantity of items sold per collection and corresponding revenue generated in Germany\n",
    "germany_collectionsdf_revenuerank= germany_collectionsdf.groupby(\n",
    "   ['collection']\n",
    ").agg(\n",
    "    {\n",
    "         'amount':sum,    # Sum revenue per customer\n",
    "         'quantity': sum  # get the sum of items sold per year\n",
    "         \n",
    "    }\n",
    ")\n",
    "\n",
    "germany_collectionsdf_revenuerank.sort_values(by=['amount'], inplace=True, ascending=False) "
   ]
  },
  {
   "cell_type": "code",
   "execution_count": 42,
   "metadata": {},
   "outputs": [
    {
     "data": {
      "text/html": [
       "<div>\n",
       "<style scoped>\n",
       "    .dataframe tbody tr th:only-of-type {\n",
       "        vertical-align: middle;\n",
       "    }\n",
       "\n",
       "    .dataframe tbody tr th {\n",
       "        vertical-align: top;\n",
       "    }\n",
       "\n",
       "    .dataframe thead th {\n",
       "        text-align: right;\n",
       "    }\n",
       "</style>\n",
       "<table border=\"1\" class=\"dataframe\">\n",
       "  <thead>\n",
       "    <tr style=\"text-align: right;\">\n",
       "      <th></th>\n",
       "      <th>amount</th>\n",
       "      <th>quantity</th>\n",
       "    </tr>\n",
       "    <tr>\n",
       "      <th>collection</th>\n",
       "      <th></th>\n",
       "      <th></th>\n",
       "    </tr>\n",
       "  </thead>\n",
       "  <tbody>\n",
       "    <tr>\n",
       "      <td>vint</td>\n",
       "      <td>6202833.00</td>\n",
       "      <td>259075</td>\n",
       "    </tr>\n",
       "    <tr>\n",
       "      <td>org</td>\n",
       "      <td>3649177.70</td>\n",
       "      <td>149581</td>\n",
       "    </tr>\n",
       "    <tr>\n",
       "      <td>mat</td>\n",
       "      <td>1021147.31</td>\n",
       "      <td>43769</td>\n",
       "    </tr>\n",
       "  </tbody>\n",
       "</table>\n",
       "</div>"
      ],
      "text/plain": [
       "               amount  quantity\n",
       "collection                     \n",
       "vint       6202833.00    259075\n",
       "org        3649177.70    149581\n",
       "mat        1021147.31     43769"
      ]
     },
     "execution_count": 42,
     "metadata": {},
     "output_type": "execute_result"
    }
   ],
   "source": [
    "germany_collectionsdf_revenuerank"
   ]
  },
  {
   "cell_type": "markdown",
   "metadata": {},
   "source": [
    "#### In Germany the Vintage collection was the highest selling collection recording 259,075 items sold, followed by Original and Matte collections followed registering 149,581 and 43,769 of items sold respectively."
   ]
  },
  {
   "cell_type": "markdown",
   "metadata": {},
   "source": [
    "### Germany pivot table"
   ]
  },
  {
   "cell_type": "code",
   "execution_count": 43,
   "metadata": {},
   "outputs": [],
   "source": [
    "# This pivot table details quantity of items sold and revenue per collection per year.\n",
    "# PIVOT TABLE\n",
    "germany_comparison_table = pd.pivot_table(germany_collectionsdf, index=\"collection\", columns='year',\n",
    "                              values =[\"amount\",\"quantity\"],aggfunc=sum, margins=True)\n",
    "\n",
    "#sort the pivot table\n",
    "germany_comparison_table.sort_values(by=('amount','All'), ascending=False, inplace= True)"
   ]
  },
  {
   "cell_type": "code",
   "execution_count": 44,
   "metadata": {},
   "outputs": [
    {
     "data": {
      "text/html": [
       "<div>\n",
       "<style scoped>\n",
       "    .dataframe tbody tr th:only-of-type {\n",
       "        vertical-align: middle;\n",
       "    }\n",
       "\n",
       "    .dataframe tbody tr th {\n",
       "        vertical-align: top;\n",
       "    }\n",
       "\n",
       "    .dataframe thead tr th {\n",
       "        text-align: left;\n",
       "    }\n",
       "\n",
       "    .dataframe thead tr:last-of-type th {\n",
       "        text-align: right;\n",
       "    }\n",
       "</style>\n",
       "<table border=\"1\" class=\"dataframe\">\n",
       "  <thead>\n",
       "    <tr>\n",
       "      <th></th>\n",
       "      <th colspan=\"6\" halign=\"left\">amount</th>\n",
       "      <th colspan=\"6\" halign=\"left\">quantity</th>\n",
       "    </tr>\n",
       "    <tr>\n",
       "      <th>year</th>\n",
       "      <th>2015</th>\n",
       "      <th>2016</th>\n",
       "      <th>2017</th>\n",
       "      <th>2018</th>\n",
       "      <th>2019</th>\n",
       "      <th>All</th>\n",
       "      <th>2015</th>\n",
       "      <th>2016</th>\n",
       "      <th>2017</th>\n",
       "      <th>2018</th>\n",
       "      <th>2019</th>\n",
       "      <th>All</th>\n",
       "    </tr>\n",
       "    <tr>\n",
       "      <th>collection</th>\n",
       "      <th></th>\n",
       "      <th></th>\n",
       "      <th></th>\n",
       "      <th></th>\n",
       "      <th></th>\n",
       "      <th></th>\n",
       "      <th></th>\n",
       "      <th></th>\n",
       "      <th></th>\n",
       "      <th></th>\n",
       "      <th></th>\n",
       "      <th></th>\n",
       "    </tr>\n",
       "  </thead>\n",
       "  <tbody>\n",
       "    <tr>\n",
       "      <td>All</td>\n",
       "      <td>586091.37</td>\n",
       "      <td>1322731.65</td>\n",
       "      <td>2099489.68</td>\n",
       "      <td>3015056.68</td>\n",
       "      <td>3849788.63</td>\n",
       "      <td>10873158.01</td>\n",
       "      <td>24530.00</td>\n",
       "      <td>55052.00</td>\n",
       "      <td>87781.00</td>\n",
       "      <td>125922.00</td>\n",
       "      <td>159140.00</td>\n",
       "      <td>452425</td>\n",
       "    </tr>\n",
       "    <tr>\n",
       "      <td>vint</td>\n",
       "      <td>407168.19</td>\n",
       "      <td>867896.88</td>\n",
       "      <td>1307460.40</td>\n",
       "      <td>1732168.30</td>\n",
       "      <td>1888139.23</td>\n",
       "      <td>6202833.00</td>\n",
       "      <td>17000.00</td>\n",
       "      <td>36033.00</td>\n",
       "      <td>54674.00</td>\n",
       "      <td>72591.00</td>\n",
       "      <td>78777.00</td>\n",
       "      <td>259075</td>\n",
       "    </tr>\n",
       "    <tr>\n",
       "      <td>org</td>\n",
       "      <td>178923.18</td>\n",
       "      <td>386805.87</td>\n",
       "      <td>679160.56</td>\n",
       "      <td>1054147.65</td>\n",
       "      <td>1350140.44</td>\n",
       "      <td>3649177.70</td>\n",
       "      <td>7530.00</td>\n",
       "      <td>16178.00</td>\n",
       "      <td>28321.00</td>\n",
       "      <td>43480.00</td>\n",
       "      <td>54072.00</td>\n",
       "      <td>149581</td>\n",
       "    </tr>\n",
       "    <tr>\n",
       "      <td>mat</td>\n",
       "      <td>nan</td>\n",
       "      <td>68028.90</td>\n",
       "      <td>112868.72</td>\n",
       "      <td>228740.73</td>\n",
       "      <td>611508.96</td>\n",
       "      <td>1021147.31</td>\n",
       "      <td>nan</td>\n",
       "      <td>2841.00</td>\n",
       "      <td>4786.00</td>\n",
       "      <td>9851.00</td>\n",
       "      <td>26291.00</td>\n",
       "      <td>43769</td>\n",
       "    </tr>\n",
       "  </tbody>\n",
       "</table>\n",
       "</div>"
      ],
      "text/plain": [
       "              amount                                                          \\\n",
       "year            2015       2016       2017       2018       2019         All   \n",
       "collection                                                                     \n",
       "All        586091.37 1322731.65 2099489.68 3015056.68 3849788.63 10873158.01   \n",
       "vint       407168.19  867896.88 1307460.40 1732168.30 1888139.23  6202833.00   \n",
       "org        178923.18  386805.87  679160.56 1054147.65 1350140.44  3649177.70   \n",
       "mat              nan   68028.90  112868.72  228740.73  611508.96  1021147.31   \n",
       "\n",
       "           quantity                                                \n",
       "year           2015     2016     2017      2018      2019     All  \n",
       "collection                                                         \n",
       "All        24530.00 55052.00 87781.00 125922.00 159140.00  452425  \n",
       "vint       17000.00 36033.00 54674.00  72591.00  78777.00  259075  \n",
       "org         7530.00 16178.00 28321.00  43480.00  54072.00  149581  \n",
       "mat             nan  2841.00  4786.00   9851.00  26291.00   43769  "
      ]
     },
     "execution_count": 44,
     "metadata": {},
     "output_type": "execute_result"
    }
   ],
   "source": [
    "germany_comparison_table "
   ]
  },
  {
   "cell_type": "markdown",
   "metadata": {},
   "source": [
    "#### Display items collections detailed pivot table"
   ]
  },
  {
   "cell_type": "code",
   "execution_count": 45,
   "metadata": {},
   "outputs": [],
   "source": [
    "# This pivot table details quantity of items sold and revenue per collection per year.\n",
    "# PIVOT TABLE\n",
    "germany_displaycomparison_table = pd.pivot_table(germany_collectionsdf, index=[\"collection\",\"display_name\"], columns='year',\n",
    "                              values =[\"amount\",\"quantity\"],aggfunc=sum, margins=True)\n",
    "\n",
    "#sort the pivot table\n",
    "germany_displaycomparison_table.sort_values(by=('amount','All'), ascending=False, inplace= True)"
   ]
  },
  {
   "cell_type": "code",
   "execution_count": null,
   "metadata": {},
   "outputs": [],
   "source": [
    "germany_displaycomparison_table"
   ]
  },
  {
   "cell_type": "code",
   "execution_count": 48,
   "metadata": {},
   "outputs": [
    {
     "data": {
      "image/png": "[encoded data removed]",
      "text/plain": [
       "<Figure size 432x288 with 2 Axes>"
      ]
     },
     "metadata": {
      "needs_background": "light"
     },
     "output_type": "display_data"
    }
   ],
   "source": [
    "ax = sns.heatmap(germany_displaycomparison_table, annot=True)"
   ]
  },
  {
   "cell_type": "markdown",
   "metadata": {},
   "source": [
    "<a id='germanyvintage'></a>\n",
    "### Vintage Collection in Germany"
   ]
  },
  {
   "cell_type": "code",
   "execution_count": null,
   "metadata": {},
   "outputs": [],
   "source": [
    "#filter to a sub-set df of only vintage collection in Germany\n",
    "germany_vintagedf = germany_collectionsdf[(germany_collectionsdf.collection == 'vint')]\n"
   ]
  },
  {
   "cell_type": "code",
   "execution_count": null,
   "metadata": {},
   "outputs": [],
   "source": [
    "germany_vintagedf.describe()"
   ]
  },
  {
   "cell_type": "code",
   "execution_count": null,
   "metadata": {},
   "outputs": [],
   "source": [
    "#second approach(Both approaches are correct)\n",
    "\n",
    "#filter vintage dataframe to only 'Germany'\n",
    "germany_vintagedf2 =vintagedf[(vintagedf.shipping_country == 'Germany')] "
   ]
  },
  {
   "cell_type": "code",
   "execution_count": null,
   "metadata": {},
   "outputs": [],
   "source": [
    "germany_vintagedf2.describe()"
   ]
  },
  {
   "cell_type": "code",
   "execution_count": null,
   "metadata": {},
   "outputs": [],
   "source": [
    "#Total quantity of items sold per year for vintage collection and corresponding revenue generated in Germany\n",
    "germany_vintagedfrank= germany_vintagedf.groupby(\n",
    "   ['year']\n",
    ").agg(\n",
    "    {\n",
    "         'amount':sum,    # Sum revenue per customer\n",
    "         'quantity': sum  # get the sum of items sold per year\n",
    "         \n",
    "    }\n",
    ")\n",
    "\n",
    "germany_vintagedfrank.sort_values(by=['year'], inplace=True, ascending=True)"
   ]
  },
  {
   "cell_type": "code",
   "execution_count": null,
   "metadata": {},
   "outputs": [],
   "source": [
    "germany_vintagedfrank"
   ]
  },
  {
   "cell_type": "markdown",
   "metadata": {},
   "source": [
    "### Germany vintage Pivot Table"
   ]
  },
  {
   "cell_type": "code",
   "execution_count": null,
   "metadata": {},
   "outputs": [],
   "source": [
    "#  PIVOT TABLE\n",
    "germanyvintage_table = pd.pivot_table(germany_vintagedf, index=\"display_name\",columns='year',\n",
    "                              values =[\"amount\",\"quantity\"],aggfunc=sum, margins=True)\n",
    "\n",
    "#sort the pivot table\n",
    "germanyvintage_table.sort_values(by=('amount','All'), ascending=False, inplace= True)"
   ]
  },
  {
   "cell_type": "code",
   "execution_count": null,
   "metadata": {},
   "outputs": [],
   "source": [
    "germanyvintage_table"
   ]
  },
  {
   "cell_type": "code",
   "execution_count": null,
   "metadata": {},
   "outputs": [],
   "source": [
    "#fix column names\n",
    "germanyvintage_table.columns =[s1 + '_' + str(s2) for (s1,s2) in germanyvintage_table.columns.tolist()]"
   ]
  },
  {
   "cell_type": "code",
   "execution_count": null,
   "metadata": {},
   "outputs": [],
   "source": [
    "#proposed column order\n",
    "columnsTitles = ['quantity_2015','amount_2015','quantity_2016','amount_2016','quantity_2017','amount_2017','quantity_2018','amount_2018','quantity_2019','amount_2019','quantity_All','amount_All']"
   ]
  },
  {
   "cell_type": "code",
   "execution_count": null,
   "metadata": {},
   "outputs": [],
   "source": [
    "#re-arrange column indexes(order) based on above columnsTitles\n",
    "germanyvintage_table = germanyvintage_table.reindex(columns=columnsTitles)"
   ]
  },
  {
   "cell_type": "code",
   "execution_count": null,
   "metadata": {},
   "outputs": [],
   "source": [
    "#drop first row\n",
    "germanyvintage_table= germanyvintage_table.drop(germanyvintage_table.index[0])"
   ]
  },
  {
   "cell_type": "code",
   "execution_count": null,
   "metadata": {},
   "outputs": [],
   "source": [
    "germanyvintage_table"
   ]
  },
  {
   "cell_type": "markdown",
   "metadata": {},
   "source": [
    "<a id='germanyoriginal'></a>\n",
    "### Original Collection in Germany"
   ]
  },
  {
   "cell_type": "code",
   "execution_count": null,
   "metadata": {},
   "outputs": [],
   "source": [
    "#filter to a sub-set df of only original collection in Germany\n",
    "germany_originaldf = germany_collectionsdf[(germany_collectionsdf.collection == 'org')]\n"
   ]
  },
  {
   "cell_type": "code",
   "execution_count": null,
   "metadata": {},
   "outputs": [],
   "source": [
    "germany_originaldf.head()"
   ]
  },
  {
   "cell_type": "code",
   "execution_count": null,
   "metadata": {},
   "outputs": [],
   "source": [
    "#Total quantity of items sold per year for original collection and corresponding revenue generated in Germany\n",
    "germany_originaldfrank= germany_originaldf.groupby(\n",
    "   ['year']\n",
    ").agg(\n",
    "    {\n",
    "         'amount':sum,    # Sum revenue per customer\n",
    "         'quantity': sum  # get the sum of items sold per year\n",
    "         \n",
    "    }\n",
    ")\n",
    "\n",
    "germany_originaldfrank.sort_values(by=['year'], inplace=True, ascending=True)"
   ]
  },
  {
   "cell_type": "code",
   "execution_count": null,
   "metadata": {},
   "outputs": [],
   "source": [
    "germany_originaldfrank"
   ]
  },
  {
   "cell_type": "markdown",
   "metadata": {},
   "source": [
    "#### Germany Original Collection Pivot Table"
   ]
  },
  {
   "cell_type": "code",
   "execution_count": null,
   "metadata": {},
   "outputs": [],
   "source": [
    "#  PIVOT TABLE\n",
    "germanyoriginal_table = pd.pivot_table(germany_originaldf, index=\"display_name\",columns='year',\n",
    "                              values =[\"amount\",\"quantity\"],aggfunc=sum, margins=True)\n",
    "\n",
    "#sort the pivot table\n",
    "germanyoriginal_table .sort_values(by=('amount','All'), ascending=False, inplace= True)"
   ]
  },
  {
   "cell_type": "code",
   "execution_count": null,
   "metadata": {},
   "outputs": [],
   "source": [
    "germanyoriginal_table "
   ]
  },
  {
   "cell_type": "code",
   "execution_count": null,
   "metadata": {},
   "outputs": [],
   "source": [
    "#fix column names\n",
    "germanyoriginal_table.columns =[s1 + '_' + str(s2) for (s1,s2) in germanyoriginal_table.columns.tolist()]"
   ]
  },
  {
   "cell_type": "code",
   "execution_count": null,
   "metadata": {},
   "outputs": [],
   "source": [
    "#proposed column order\n",
    "columnsTitles = ['quantity_2015','amount_2015','quantity_2016','amount_2016','quantity_2017','amount_2017','quantity_2018','amount_2018','quantity_2019','amount_2019','quantity_All','amount_All']"
   ]
  },
  {
   "cell_type": "code",
   "execution_count": null,
   "metadata": {},
   "outputs": [],
   "source": [
    "#re-arrange column indexes(order) based on above columnsTitles\n",
    "germanyoriginal_table = germanyoriginal_table.reindex(columns=columnsTitles)"
   ]
  },
  {
   "cell_type": "code",
   "execution_count": null,
   "metadata": {},
   "outputs": [],
   "source": [
    "#drop first row\n",
    "germanyoriginal_table = germanyoriginal_table.drop(germanyoriginal_table.index[0])"
   ]
  },
  {
   "cell_type": "code",
   "execution_count": null,
   "metadata": {},
   "outputs": [],
   "source": [
    "germanyoriginal_table "
   ]
  },
  {
   "cell_type": "markdown",
   "metadata": {},
   "source": [
    "<a id='germanymatte'></a>\n",
    "### Matte Collection in Germany"
   ]
  },
  {
   "cell_type": "code",
   "execution_count": null,
   "metadata": {},
   "outputs": [],
   "source": [
    "#filter to a sub-set df of only Matte collection in Germany\n",
    "germany_mattedf = germany_collectionsdf[(germany_collectionsdf.collection == 'mat')]\n"
   ]
  },
  {
   "cell_type": "code",
   "execution_count": null,
   "metadata": {},
   "outputs": [],
   "source": [
    "germany_mattedf.head()"
   ]
  },
  {
   "cell_type": "code",
   "execution_count": null,
   "metadata": {},
   "outputs": [],
   "source": [
    "#Total quantity of items sold per year for original collection and corresponding revenue generated in Germany\n",
    "germany_mattedfrank= germany_mattedf.groupby(\n",
    "   ['year']\n",
    ").agg(\n",
    "    {\n",
    "         'amount':sum,    # Sum revenue per customer\n",
    "         'quantity': sum  # get the sum of items sold per year\n",
    "         \n",
    "    }\n",
    ")\n",
    "\n",
    "germany_mattedfrank.sort_values(by=['year'], inplace=True, ascending=True)"
   ]
  },
  {
   "cell_type": "code",
   "execution_count": null,
   "metadata": {},
   "outputs": [],
   "source": [
    "germany_mattedfrank"
   ]
  },
  {
   "cell_type": "markdown",
   "metadata": {},
   "source": [
    "#### Germany Original Collection Pivot Table"
   ]
  },
  {
   "cell_type": "code",
   "execution_count": null,
   "metadata": {},
   "outputs": [],
   "source": [
    "#  PIVOT TABLE\n",
    "germanymatte_table = pd.pivot_table(germany_mattedf, index=\"display_name\",columns='year',\n",
    "                              values =[\"amount\",\"quantity\"],aggfunc=sum, margins=True)\n",
    "\n",
    "#sort the pivot table\n",
    "germanymatte_table .sort_values(by=('amount','All'), ascending=False, inplace= True)"
   ]
  },
  {
   "cell_type": "code",
   "execution_count": null,
   "metadata": {},
   "outputs": [],
   "source": [
    "germanymatte_table "
   ]
  },
  {
   "cell_type": "code",
   "execution_count": null,
   "metadata": {},
   "outputs": [],
   "source": [
    "#fix column names\n",
    "germanymatte_table.columns =[s1 + '_' + str(s2) for (s1,s2) in germanymatte_table.columns.tolist()]"
   ]
  },
  {
   "cell_type": "code",
   "execution_count": null,
   "metadata": {},
   "outputs": [],
   "source": [
    "#proposed column order\n",
    "columnsTitles = ['quantity_2015','amount_2015','quantity_2016','amount_2016','quantity_2017','amount_2017','quantity_2018','amount_2018','quantity_2019','amount_2019','quantity_All','amount_All']"
   ]
  },
  {
   "cell_type": "code",
   "execution_count": null,
   "metadata": {},
   "outputs": [],
   "source": [
    "#re-arrange column indexes(order) based on above columnsTitles\n",
    "germanymatte_table = germanymatte_table.reindex(columns=columnsTitles)"
   ]
  },
  {
   "cell_type": "code",
   "execution_count": null,
   "metadata": {},
   "outputs": [],
   "source": [
    "#drop first row\n",
    "germanymatte_table = germanymatte_table.drop(germanymatte_table.index[0])"
   ]
  },
  {
   "cell_type": "code",
   "execution_count": null,
   "metadata": {},
   "outputs": [],
   "source": [
    "germanymatte_table "
   ]
  },
  {
   "cell_type": "markdown",
   "metadata": {},
   "source": [
    "<a id='customer_name'></a>\n",
    "## VARIABLE : Customer Name\n",
    "\n",
    "This column is important as it lists all the customers in Germany. As previously indicated in the objective, we shall identify the top three customers that generated the most revenue during the 2015-2019 period.We shall asses sales performance of the three collections in the top three customers in Germany."
   ]
  },
  {
   "cell_type": "code",
   "execution_count": null,
   "metadata": {},
   "outputs": [],
   "source": [
    "#filter to only ('Germany')\n",
    "germanydf =df_clean[(df_clean.shipping_country == 'Germany')]                                       "
   ]
  },
  {
   "cell_type": "code",
   "execution_count": null,
   "metadata": {},
   "outputs": [],
   "source": [
    "germanydf.head()"
   ]
  },
  {
   "cell_type": "code",
   "execution_count": null,
   "metadata": {},
   "outputs": [],
   "source": [
    "germanydf.customer_name.describe()#overview of variable; count, unique, top,freq"
   ]
  },
  {
   "cell_type": "code",
   "execution_count": null,
   "metadata": {},
   "outputs": [],
   "source": [
    "# List of customers in Germany\n",
    "print (germanydf.customer_name.cat.categories)# Get list of categories in categorical variable"
   ]
  },
  {
   "cell_type": "code",
   "execution_count": null,
   "metadata": {},
   "outputs": [],
   "source": [
    "# Total Sales transactions per customer in Germany\n",
    "germanydf.customer_name.value_counts() #count per category"
   ]
  },
  {
   "cell_type": "code",
   "execution_count": null,
   "metadata": {},
   "outputs": [],
   "source": [
    "#print number of missing values in thi column\n",
    "print(germanydf.customer_name.isnull().sum()) "
   ]
  },
  {
   "cell_type": "code",
   "execution_count": null,
   "metadata": {},
   "outputs": [],
   "source": [
    "#Total quantity of items sold and corresponding revenue generated per year in Germany\n",
    "germany_revenuerank= germanydf.groupby(\n",
    "   ['year']\n",
    ").agg(\n",
    "    {\n",
    "         'amount':sum,    # Sum revenue per customer\n",
    "         'quantity': sum  # get the sum of items sold per year\n",
    "         \n",
    "    }\n",
    ")\n",
    "\n",
    "germany_revenuerank.sort_values(by=['year'], inplace=True, ascending=True) "
   ]
  },
  {
   "cell_type": "code",
   "execution_count": null,
   "metadata": {},
   "outputs": [],
   "source": [
    "germany_revenuerank"
   ]
  },
  {
   "cell_type": "code",
   "execution_count": null,
   "metadata": {},
   "outputs": [],
   "source": [
    "#Total quantity of items sold and corresponding revenue generated per customer in Germany\n",
    "germany_customerrevenuerank= germanydf.groupby(\n",
    "   ['customer_name']\n",
    ").agg(\n",
    "    {\n",
    "         'amount':sum,    # Sum revenue per customer\n",
    "         'quantity': sum  # get the sum of items sold per year\n",
    "         \n",
    "    }\n",
    ")\n",
    "\n",
    "germany_customerrevenuerank.sort_values(by=['amount'], inplace=True, ascending=False) "
   ]
  },
  {
   "cell_type": "code",
   "execution_count": null,
   "metadata": {},
   "outputs": [],
   "source": [
    "germany_customerrevenuerank.head()"
   ]
  },
  {
   "cell_type": "markdown",
   "metadata": {},
   "source": [
    "<a id='top3'></a>\n",
    "## **Findings on top 3 revenue generating customers in Germany**\n",
    "\n",
    "#### Top 3 revenue generating customers are ;\n",
    "   * C-15374 Miles & More GMBH\n",
    "   * C-15843 LSG Sky Chefs Frankfurt ZD GmbH\n",
    "   * C-6879 Leder-Stoll OHG\n",
    "    \n",
    "    "
   ]
  },
  {
   "cell_type": "markdown",
   "metadata": {},
   "source": [
    "<a id='topcustomer'></a>\n",
    "### Top revenue Customers in Germany performance of vintage ,Original and matte performance\n"
   ]
  },
  {
   "cell_type": "code",
   "execution_count": null,
   "metadata": {},
   "outputs": [],
   "source": [
    "#create dataframe with transactions of 'C-15374 Miles & More GMBH' during the 2015-2019 in germanydf\n",
    "topcustomer_2015_2019 = germanydf[(germanydf.customer_name == 'C-15374 Miles & More GMBH')] "
   ]
  },
  {
   "cell_type": "code",
   "execution_count": null,
   "metadata": {},
   "outputs": [],
   "source": [
    "#Total quantity of items sold per collection and corresponding revenue generated in Germany\n",
    "topcustomer20152019 = topcustomer_2015_2019.groupby(\n",
    "   ['year']\n",
    ").agg(\n",
    "    {\n",
    "         'amount':sum,    # Sum revenue per customer\n",
    "         'quantity': sum  # get the sum of items sold per year\n",
    "         \n",
    "    }\n",
    ")\n",
    "\n",
    "topcustomer20152019.sort_values(by=['amount'], inplace=True, ascending=False) "
   ]
  },
  {
   "cell_type": "code",
   "execution_count": null,
   "metadata": {},
   "outputs": [],
   "source": [
    "topcustomer20152019"
   ]
  },
  {
   "cell_type": "markdown",
   "metadata": {},
   "source": [
    "## Confirm all transactions of customer 'C-15374 Miles & More GMBH' in df_clean "
   ]
  },
  {
   "cell_type": "code",
   "execution_count": null,
   "metadata": {},
   "outputs": [],
   "source": [
    "#create dataframe with transactions of 'C-15374 Miles & More GMBH' during the 2015-2019 in df_clean\n",
    "topcustomer2_2015_2019 = df_clean[(df_clean.customer_name == 'C-15374 Miles & More GMBH')] "
   ]
  },
  {
   "cell_type": "code",
   "execution_count": null,
   "metadata": {},
   "outputs": [],
   "source": [
    "topcustomer2_2015_2019.describe(include='all')"
   ]
  },
  {
   "cell_type": "code",
   "execution_count": null,
   "metadata": {},
   "outputs": [],
   "source": [
    "#Total quantity of items sold per collection and corresponding revenue generated in Germany\n",
    "topcustomer220152019 = topcustomer2_2015_2019.groupby(\n",
    "   ['year']\n",
    ").agg(\n",
    "    {\n",
    "         'amount':sum,    # Sum revenue per customer\n",
    "         'quantity': sum  # get the sum of items sold per year\n",
    "         \n",
    "    }\n",
    ")\n",
    "\n",
    "topcustomer220152019.sort_values(by=['amount'], inplace=True, ascending=False) "
   ]
  },
  {
   "cell_type": "code",
   "execution_count": null,
   "metadata": {},
   "outputs": [],
   "source": [
    "topcustomer220152019 "
   ]
  },
  {
   "cell_type": "code",
   "execution_count": null,
   "metadata": {},
   "outputs": [],
   "source": [
    "topcustomer2_2015_2019.shipping_country.describe()#overview of variable; count, unique, top,freq"
   ]
  },
  {
   "cell_type": "code",
   "execution_count": null,
   "metadata": {},
   "outputs": [],
   "source": [
    "# Total Sales transactions per country\n",
    "topcustomer2_2015_2019.shipping_country.value_counts() #count per category(Transactions per country)"
   ]
  },
  {
   "cell_type": "code",
   "execution_count": null,
   "metadata": {},
   "outputs": [],
   "source": [
    "#print number of missing values in thi column\n",
    "print(topcustomer2_2015_2019.shipping_country.isnull().sum()) "
   ]
  },
  {
   "cell_type": "code",
   "execution_count": null,
   "metadata": {},
   "outputs": [],
   "source": [
    "#Total quantity of items sold and corresponding revenue generated per country\n",
    "topcustomer_countryrevenuerank= topcustomer2_2015_2019.groupby(\n",
    "   ['customer_name','shipping_country','year']\n",
    ").agg(\n",
    "    {\n",
    "         'amount':sum,    # Sum revenue per customer\n",
    "         'quantity': sum  # get the sum of items sold per year\n",
    "         \n",
    "    }\n",
    ")\n",
    "\n",
    "topcustomer_countryrevenuerank.sort_values(by=['amount'], inplace=True, ascending=False) "
   ]
  },
  {
   "cell_type": "code",
   "execution_count": null,
   "metadata": {},
   "outputs": [],
   "source": [
    "topcustomer_countryrevenuerank.head(10)"
   ]
  },
  {
   "cell_type": "markdown",
   "metadata": {},
   "source": [
    "## Overall Top Customer Analysis to check if top customer has branches"
   ]
  },
  {
   "cell_type": "code",
   "execution_count": null,
   "metadata": {},
   "outputs": [],
   "source": [
    "topdf = df_clean[df_clean.customer_name.str.contains('C-15374')]"
   ]
  },
  {
   "cell_type": "code",
   "execution_count": null,
   "metadata": {},
   "outputs": [],
   "source": [
    "topdf.describe(include='all')"
   ]
  },
  {
   "cell_type": "code",
   "execution_count": null,
   "metadata": {},
   "outputs": [],
   "source": [
    "topdf.customer_name.describe()"
   ]
  },
  {
   "cell_type": "code",
   "execution_count": null,
   "metadata": {},
   "outputs": [],
   "source": [
    "#Total quantity of items sold and corresponding revenue generated per country\n",
    "top_rank= topdf.groupby(\n",
    "   ['customer_name','shipping_country','year']\n",
    ").agg(\n",
    "    {\n",
    "         'amount':sum,    # Sum revenue per customer\n",
    "         'quantity': sum  # get the sum of items sold per year\n",
    "         \n",
    "    }\n",
    ")\n",
    "\n",
    "top_rank.sort_values(by=['amount'], inplace=True, ascending=False) "
   ]
  },
  {
   "cell_type": "code",
   "execution_count": null,
   "metadata": {},
   "outputs": [],
   "source": [
    "top_rank.head(10)"
   ]
  },
  {
   "cell_type": "markdown",
   "metadata": {},
   "source": [
    "### Findings\n",
    "\n",
    "We observe that the transactions in germanydf are less than those in df_clean"
   ]
  },
  {
   "cell_type": "markdown",
   "metadata": {},
   "source": [
    "## Top Customer COLLECTIONS  Germany"
   ]
  },
  {
   "cell_type": "code",
   "execution_count": null,
   "metadata": {},
   "outputs": [],
   "source": [
    "#create dataframe with transactions of 'C-15374 Miles & More GMBH' during the 2015-2019 in collectionsdf\n",
    "topcustomer_germany = collectionsdf[(collectionsdf.customer_name == 'C-15374 Miles & More GMBH')] "
   ]
  },
  {
   "cell_type": "code",
   "execution_count": null,
   "metadata": {},
   "outputs": [],
   "source": [
    "topcustomer_germany.head()"
   ]
  },
  {
   "cell_type": "code",
   "execution_count": null,
   "metadata": {},
   "outputs": [],
   "source": [
    "#Total quantity of items sold per collection and corresponding revenue generated in Germany\n",
    "topcustomergermany_revenuerank = topcustomer_germany.groupby(\n",
    "   ['collection']\n",
    ").agg(\n",
    "    {\n",
    "         'amount':sum,    # Sum revenue per customer\n",
    "         'quantity': sum  # get the sum of items sold per year\n",
    "         \n",
    "    }\n",
    ")\n",
    "\n",
    "topcustomergermany_revenuerank.sort_values(by=['amount'], inplace=True, ascending=False) "
   ]
  },
  {
   "cell_type": "code",
   "execution_count": null,
   "metadata": {},
   "outputs": [],
   "source": [
    "topcustomergermany_revenuerank"
   ]
  },
  {
   "cell_type": "markdown",
   "metadata": {},
   "source": [
    "##### The top customer 'C-15374 Miles & More GMBH' bought more original items followed to the vintage and finally matte collections."
   ]
  },
  {
   "cell_type": "code",
   "execution_count": null,
   "metadata": {},
   "outputs": [],
   "source": [
    "#  PIVOT TABLE\n",
    "# total quantity and revenue per collection annually for customer\n",
    "topcustomer_table = pd.pivot_table(topcustomer_germany, index=\"collection\",columns='year',\n",
    "                              values =[\"amount\",\"quantity\"],aggfunc=sum, margins=True)\n",
    "\n",
    "#sort the pivot table\n",
    "topcustomer_table.sort_values(by=('amount','All'), ascending=False, inplace= True)"
   ]
  },
  {
   "cell_type": "code",
   "execution_count": null,
   "metadata": {},
   "outputs": [],
   "source": [
    "topcustomer_table"
   ]
  },
  {
   "cell_type": "markdown",
   "metadata": {},
   "source": [
    "### 2019 Collection for top customer 'C-15374 Miles & More GMBH'"
   ]
  },
  {
   "cell_type": "code",
   "execution_count": null,
   "metadata": {},
   "outputs": [],
   "source": [
    "#create dataframe with transactions of  'C-15374 Miles & More GMBH' during 2019 year\n",
    "topcustomer_germany2019 = topcustomer_germany[(topcustomer_germany.year == 2019)] "
   ]
  },
  {
   "cell_type": "code",
   "execution_count": null,
   "metadata": {},
   "outputs": [],
   "source": [
    "#create new column 'month' that registered name of the month sale transaction was held(helps with analysis)\n",
    "topcustomer_germany2019['month'] = topcustomer_germany2019.date.dt.month_name()"
   ]
  },
  {
   "cell_type": "code",
   "execution_count": null,
   "metadata": {},
   "outputs": [],
   "source": [
    "topcustomer_germany2019.head()"
   ]
  },
  {
   "cell_type": "code",
   "execution_count": null,
   "metadata": {},
   "outputs": [],
   "source": [
    "# export topcustomer_gremany2019\n",
    "\n",
    "#export to csv\n",
    "topcustomer_germany2019.to_csv('topcustomer_germany2019.csv', index = None, header=True)\n"
   ]
  },
  {
   "cell_type": "code",
   "execution_count": null,
   "metadata": {},
   "outputs": [],
   "source": [
    "#Total quantity of items sold per collection and corresponding revenue generated in Germany in 2019\n",
    "topcustomergermany_2019rank = topcustomer_germany2019.groupby(\n",
    "   ['month','collection']\n",
    ").agg(\n",
    "    {\n",
    "         'amount':sum,    # Sum revenue per customer\n",
    "         'quantity': sum  # get the sum of items sold per year\n",
    "         \n",
    "    }\n",
    ")\n",
    "\n",
    "topcustomergermany_2019rank.sort_values(by=['month'], inplace=True, ascending=True) "
   ]
  },
  {
   "cell_type": "code",
   "execution_count": null,
   "metadata": {},
   "outputs": [],
   "source": [
    "topcustomergermany_2019rank"
   ]
  },
  {
   "cell_type": "code",
   "execution_count": null,
   "metadata": {},
   "outputs": [],
   "source": [
    "##-------------------------END OF TOP CUSTOMER ------------------------###"
   ]
  },
  {
   "cell_type": "markdown",
   "metadata": {},
   "source": [
    "<a id='secondtopcustomer'></a>\n",
    "### Second Top Customer in Germany transactions from df_clean"
   ]
  },
  {
   "cell_type": "code",
   "execution_count": null,
   "metadata": {},
   "outputs": [],
   "source": [
    "secondtopdf = df_clean[df_clean.customer_name.str.contains('C-15843')]"
   ]
  },
  {
   "cell_type": "code",
   "execution_count": null,
   "metadata": {},
   "outputs": [],
   "source": [
    "secondtopdf.describe(include='all')"
   ]
  },
  {
   "cell_type": "code",
   "execution_count": null,
   "metadata": {},
   "outputs": [],
   "source": [
    "secondtopdf.customer_name.describe()"
   ]
  },
  {
   "cell_type": "code",
   "execution_count": null,
   "metadata": {},
   "outputs": [],
   "source": [
    "#Total quantity of items sold and corresponding revenue generated per country\n",
    "secondtop_rank= secondtopdf.groupby(\n",
    "   ['customer_name','shipping_country','year']\n",
    ").agg(\n",
    "    {\n",
    "         'amount':sum,    # Sum revenue per customer\n",
    "         'quantity': sum  # get the sum of items sold per year\n",
    "         \n",
    "    }\n",
    ")\n",
    "\n",
    "secondtop_rank.sort_values(by=['amount'], inplace=True, ascending=False) "
   ]
  },
  {
   "cell_type": "code",
   "execution_count": null,
   "metadata": {},
   "outputs": [],
   "source": [
    "secondtop_rank.head()"
   ]
  },
  {
   "cell_type": "markdown",
   "metadata": {},
   "source": [
    "## Second top customer in germanydf"
   ]
  },
  {
   "cell_type": "code",
   "execution_count": null,
   "metadata": {},
   "outputs": [],
   "source": [
    "#create dataframe with transactions of 'C-15843 LSG Sky Chefs Frankfurt ZD GmbH' during the 2015-2019 in germany\n",
    "secondtopcustomer_2015_2019 = germanydf[(germanydf.customer_name == 'C-15843 LSG Sky Chefs Frankfurt ZD GmbH')] "
   ]
  },
  {
   "cell_type": "code",
   "execution_count": null,
   "metadata": {},
   "outputs": [],
   "source": [
    "#Total quantity of items sold per collection and corresponding revenue generated in Germany\n",
    "secondtopcustomer20152019 = secondtopcustomer_2015_2019.groupby(\n",
    "   ['year']\n",
    ").agg(\n",
    "    {\n",
    "         'amount':sum,    # Sum revenue per customer\n",
    "         'quantity': sum  # get the sum of items sold per year\n",
    "         \n",
    "    }\n",
    ")\n",
    "\n",
    "secondtopcustomer20152019.sort_values(by=['amount'], inplace=True, ascending=False) "
   ]
  },
  {
   "cell_type": "code",
   "execution_count": null,
   "metadata": {},
   "outputs": [],
   "source": [
    "secondtopcustomer20152019"
   ]
  },
  {
   "cell_type": "markdown",
   "metadata": {},
   "source": [
    "## Second top customer COLLECTION in Germany"
   ]
  },
  {
   "cell_type": "code",
   "execution_count": null,
   "metadata": {},
   "outputs": [],
   "source": [
    "#create dataframe with transactions of 'C-15843 LSG Sky Chefs Frankfurt ZD GmbH' during the 2015-2019 period\n",
    "secondtopcustomer_germany = collectionsdf[(collectionsdf.customer_name == 'C-15843 LSG Sky Chefs Frankfurt ZD GmbH')] "
   ]
  },
  {
   "cell_type": "code",
   "execution_count": null,
   "metadata": {},
   "outputs": [],
   "source": [
    "secondtopcustomer_germany.head()"
   ]
  },
  {
   "cell_type": "code",
   "execution_count": null,
   "metadata": {},
   "outputs": [],
   "source": [
    "#Total quantity of items sold per collection and corresponding revenue generated in Germany\n",
    "secondtopcustomergermany_revenuerank = secondtopcustomer_germany.groupby(\n",
    "   ['collection']\n",
    ").agg(\n",
    "    {\n",
    "         'amount':sum,    # Sum revenue per customer\n",
    "         'quantity': sum  # get the sum of items sold per year\n",
    "         \n",
    "    }\n",
    ")\n",
    "\n",
    "secondtopcustomergermany_revenuerank.sort_values(by=['amount'], inplace=True, ascending=False) "
   ]
  },
  {
   "cell_type": "code",
   "execution_count": null,
   "metadata": {},
   "outputs": [],
   "source": [
    "secondtopcustomergermany_revenuerank"
   ]
  },
  {
   "cell_type": "markdown",
   "metadata": {},
   "source": [
    "##### The second top revenue generating customer 'C-15843 LSG Sky Chefs Frankfurt ZD GmbH' only bought original items."
   ]
  },
  {
   "cell_type": "code",
   "execution_count": null,
   "metadata": {},
   "outputs": [],
   "source": [
    "#  PIVOT TABLE\n",
    "# total quantity and revenue per collection annually for customer\n",
    "secondtopcustomer_table = pd.pivot_table(secondtopcustomer_germany, index=\"collection\",columns='year',\n",
    "                              values =[\"amount\",\"quantity\"],aggfunc=sum, margins=True)\n",
    "\n",
    "#sort the pivot table\n",
    "secondtopcustomer_table.sort_values(by=('amount','All'), ascending=False, inplace= True)"
   ]
  },
  {
   "cell_type": "code",
   "execution_count": null,
   "metadata": {},
   "outputs": [],
   "source": [
    "secondtopcustomer_table"
   ]
  },
  {
   "cell_type": "markdown",
   "metadata": {},
   "source": [
    "### 2019 Collection for second top customer 'C-15843 LSG Sky Chefs Frankfurt ZD GmbH'"
   ]
  },
  {
   "cell_type": "code",
   "execution_count": null,
   "metadata": {},
   "outputs": [],
   "source": [
    "#create dataframe with transactions of  'C-15843 LSG Sky Chefs Frankfurt ZD GmbH' during 2019 year\n",
    "secondtopcustomer_germany2019 = secondtopcustomer_germany[(secondtopcustomer_germany.year == 2019)] "
   ]
  },
  {
   "cell_type": "code",
   "execution_count": null,
   "metadata": {},
   "outputs": [],
   "source": [
    "#create new column 'month' that registered name of the month sale transaction was held(helps with analysis)\n",
    "secondtopcustomer_germany2019['month'] = secondtopcustomer_germany2019.date.dt.month_name()"
   ]
  },
  {
   "cell_type": "code",
   "execution_count": null,
   "metadata": {},
   "outputs": [],
   "source": [
    "secondtopcustomer_germany2019.head()"
   ]
  },
  {
   "cell_type": "code",
   "execution_count": null,
   "metadata": {},
   "outputs": [],
   "source": [
    "#Total quantity of items sold per collection and corresponding revenue generated in Germany in 2019\n",
    "secondtopcustomergermany_2019rank = secondtopcustomer_germany2019.groupby(\n",
    "   ['month','collection']\n",
    ").agg(\n",
    "    {\n",
    "         'amount':sum,    # Sum revenue per customer\n",
    "         'quantity': sum  # get the sum of items sold per year\n",
    "         \n",
    "    }\n",
    ")\n",
    "\n",
    "secondtopcustomergermany_2019rank.sort_values(by=['month'], inplace=True, ascending=True) "
   ]
  },
  {
   "cell_type": "code",
   "execution_count": null,
   "metadata": {},
   "outputs": [],
   "source": [
    "secondtopcustomergermany_2019rank"
   ]
  },
  {
   "cell_type": "markdown",
   "metadata": {},
   "source": [
    "<a id='thirdtopcustomer'></a>\n",
    "## Third Top Customer in Germany"
   ]
  },
  {
   "cell_type": "markdown",
   "metadata": {},
   "source": [
    "## Overall Top Customer Analysis to check if top customer has branches"
   ]
  },
  {
   "cell_type": "code",
   "execution_count": null,
   "metadata": {},
   "outputs": [],
   "source": [
    "thirdtopdf = df_clean[df_clean.customer_name.str.contains('C-6879')]"
   ]
  },
  {
   "cell_type": "code",
   "execution_count": null,
   "metadata": {},
   "outputs": [],
   "source": [
    "thirdtopdf.describe(include='all')"
   ]
  },
  {
   "cell_type": "code",
   "execution_count": null,
   "metadata": {},
   "outputs": [],
   "source": [
    "thirdtopdf.customer_name.describe()"
   ]
  },
  {
   "cell_type": "code",
   "execution_count": null,
   "metadata": {},
   "outputs": [],
   "source": [
    "#Total quantity of items sold and corresponding revenue generated per country\n",
    "thirdtop_rank= thirdtopdf.groupby(\n",
    "   ['customer_name','shipping_country','year']\n",
    ").agg(\n",
    "    {\n",
    "         'amount':sum,    # Sum revenue per customer\n",
    "         'quantity': sum  # get the sum of items sold per year\n",
    "         \n",
    "    }\n",
    ")\n",
    "\n",
    "thirdtop_rank.sort_values(by=['amount'], inplace=True, ascending=False) "
   ]
  },
  {
   "cell_type": "code",
   "execution_count": null,
   "metadata": {},
   "outputs": [],
   "source": [
    "thirdtop_rank.head(10)"
   ]
  },
  {
   "cell_type": "markdown",
   "metadata": {},
   "source": [
    "### Third top customer in germanydf"
   ]
  },
  {
   "cell_type": "code",
   "execution_count": null,
   "metadata": {},
   "outputs": [],
   "source": [
    "#create dataframe with transactions of 'C-6879 Leder-Stoll OHG' during the 2015-2019 in germany\n",
    "thirdtopcustomer_2015_2019 = germanydf[(germanydf.customer_name == 'C-6879 Leder-Stoll OHG')] "
   ]
  },
  {
   "cell_type": "code",
   "execution_count": null,
   "metadata": {},
   "outputs": [],
   "source": [
    "#Total quantity of items sold per collection and corresponding revenue generated in Germany\n",
    "thirdtopcustomer20152019 = thirdtopcustomer_2015_2019.groupby(\n",
    "   ['year']\n",
    ").agg(\n",
    "    {\n",
    "         'amount':sum,    # Sum revenue per customer\n",
    "         'quantity': sum  # get the sum of items sold per year\n",
    "         \n",
    "    }\n",
    ")\n",
    "\n",
    "thirdtopcustomer20152019.sort_values(by=['amount'], inplace=True, ascending=False) "
   ]
  },
  {
   "cell_type": "code",
   "execution_count": null,
   "metadata": {},
   "outputs": [],
   "source": [
    "thirdtopcustomer20152019"
   ]
  },
  {
   "cell_type": "markdown",
   "metadata": {},
   "source": [
    "### Third top customer COLLECTION analysis"
   ]
  },
  {
   "cell_type": "code",
   "execution_count": null,
   "metadata": {},
   "outputs": [],
   "source": [
    "#create dataframe with transactions of 'C-6879 Leder-Stoll OHG' during the 2015-2019\n",
    "thirdtopcustomer_germany = collectionsdf[(collectionsdf.customer_name == 'C-6879 Leder-Stoll OHG')] "
   ]
  },
  {
   "cell_type": "code",
   "execution_count": null,
   "metadata": {},
   "outputs": [],
   "source": [
    "thirdtopcustomer_germany.head()"
   ]
  },
  {
   "cell_type": "code",
   "execution_count": null,
   "metadata": {},
   "outputs": [],
   "source": [
    "#Total quantity of items sold per collection and corresponding revenue generated in Germany\n",
    "thirdtopcustomergermany_revenuerank = thirdtopcustomer_germany.groupby(\n",
    "   ['collection']\n",
    ").agg(\n",
    "    {\n",
    "         'amount':sum,    # Sum revenue per customer\n",
    "         'quantity': sum  # get the sum of items sold per year\n",
    "         \n",
    "    }\n",
    ")\n",
    "\n",
    "thirdtopcustomergermany_revenuerank.sort_values(by=['amount'], inplace=True, ascending=False) "
   ]
  },
  {
   "cell_type": "code",
   "execution_count": null,
   "metadata": {},
   "outputs": [],
   "source": [
    "thirdtopcustomergermany_revenuerank"
   ]
  },
  {
   "cell_type": "markdown",
   "metadata": {},
   "source": [
    "##### The third top customer 'C-6879 Leder-Stoll OHG'  bought more vintage items followed by the original and finally matte"
   ]
  },
  {
   "cell_type": "code",
   "execution_count": null,
   "metadata": {},
   "outputs": [],
   "source": [
    "#  PIVOT TABLE\n",
    "# total quantity and revenue per collection annually for customer\n",
    "thirdtopcustomer_table = pd.pivot_table(thirdtopcustomer_germany, index=\"collection\",columns='year',\n",
    "                              values =[\"amount\",\"quantity\"],aggfunc=sum, margins=True)\n",
    "\n",
    "#sort the pivot table\n",
    "thirdtopcustomer_table.sort_values(by=('amount','All'), ascending=False, inplace= True)"
   ]
  },
  {
   "cell_type": "code",
   "execution_count": null,
   "metadata": {},
   "outputs": [],
   "source": [
    "thirdtopcustomer_table"
   ]
  },
  {
   "cell_type": "markdown",
   "metadata": {},
   "source": [
    "### 2019 Collection for third top customer 'C-6879 Leder-Stoll OHG'"
   ]
  },
  {
   "cell_type": "code",
   "execution_count": null,
   "metadata": {},
   "outputs": [],
   "source": [
    "#create dataframe with transactions of 'C-6879 Leder-Stoll OHG' during 2019 year\n",
    "thirdtopcustomer_germany2019 = thirdtopcustomer_germany[(thirdtopcustomer_germany.year == 2019)] "
   ]
  },
  {
   "cell_type": "code",
   "execution_count": null,
   "metadata": {},
   "outputs": [],
   "source": [
    "thirdtopcustomer_germany2019.head()"
   ]
  },
  {
   "cell_type": "code",
   "execution_count": null,
   "metadata": {},
   "outputs": [],
   "source": [
    "#create new column 'month' that registered name of the month sale transaction was held(helps with analysis)\n",
    "thirdtopcustomer_germany2019['month'] = thirdtopcustomer_germany2019.date.dt.month_name()"
   ]
  },
  {
   "cell_type": "code",
   "execution_count": null,
   "metadata": {},
   "outputs": [],
   "source": [
    "thirdtopcustomer_germany2019.head()"
   ]
  },
  {
   "cell_type": "code",
   "execution_count": null,
   "metadata": {},
   "outputs": [],
   "source": [
    "#Total quantity of items sold per collection and corresponding revenue generated in Germany in 2019\n",
    "thirdtopcustomergermany_2019rank = thirdtopcustomer_germany2019.groupby(\n",
    "   ['month','collection']\n",
    ").agg(\n",
    "    {\n",
    "         'amount':sum,    # Sum revenue per customer\n",
    "         'quantity': sum  # get the sum of items sold per year\n",
    "         \n",
    "    }\n",
    ")\n",
    "\n",
    "thirdtopcustomergermany_2019rank.sort_values(by=['month'], inplace=True, ascending=True) "
   ]
  },
  {
   "cell_type": "code",
   "execution_count": null,
   "metadata": {},
   "outputs": [],
   "source": [
    "thirdtopcustomergermany_2019rank"
   ]
  },
  {
   "cell_type": "code",
   "execution_count": null,
   "metadata": {},
   "outputs": [],
   "source": []
  }
 ],
 "metadata": {
  "kernelspec": {
   "display_name": "Python 3",
   "language": "python",
   "name": "python3"
  },
  "language_info": {
   "codemirror_mode": {
    "name": "ipython",
    "version": 3
   },
   "file_extension": ".py",
   "mimetype": "text/x-python",
   "name": "python",
   "nbconvert_exporter": "python",
   "pygments_lexer": "ipython3",
   "version": "3.7.4"
  }
 },
 "nbformat": 4,
 "nbformat_minor": 4
}
