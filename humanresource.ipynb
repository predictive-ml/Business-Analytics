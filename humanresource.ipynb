{
 "cells": [
  {
   "cell_type": "code",
   "execution_count": 1,
   "metadata": {},
   "outputs": [],
   "source": [
    "# load required libraries\n",
    "import numpy as np\n",
    "import pandas as pd\n",
    "from pandas import DataFrame\n",
    "from pandas import read_excel\n",
    "\n",
    "import xlsxwriter\n",
    "\n",
    "import seaborn as sns\n",
    "# Use seaborn style defaults and set the default figure size\n",
    "sns.set(rc={'figure.figsize':(11, 4)})\n",
    "\n",
    "import matplotlib.pyplot as plt\n",
    "%matplotlib inline\n",
    "import matplotlib.ticker as ticker\n",
    "from matplotlib import pyplot as plt\n",
    "from matplotlib import dates as mpl_dates\n",
    "from pandas.plotting import register_matplotlib_converters\n",
    "register_matplotlib_converters()\n",
    "plt.style.use('seaborn')\n",
    "\n",
    "import six\n",
    "\n",
    "from datetime import datetime, timedelta\n",
    "\n",
    "# environment settings:\n",
    "pd.options.display.float_format = '{:.2f}'.format\n",
    "pd.set_option('display.max_column',None)\n",
    "pd.set_option('display.max_rows',None)\n",
    "pd.set_option('display.max_seq_items',None)\n",
    "pd.set_option('display.max_colwidth', 500)\n",
    "pd.set_option('expand_frame_repr', True)\n"
   ]
  },
  {
   "cell_type": "code",
   "execution_count": 2,
   "metadata": {},
   "outputs": [],
   "source": [
    "#load current employment\n",
    "df = pd.read_excel('secrid_humanresource.xlsx',0) #load first spreadsheet of SECRID HR DATA.xlxs "
   ]
  },
  {
   "cell_type": "code",
   "execution_count": null,
   "metadata": {
    "scrolled": true
   },
   "outputs": [],
   "source": [
    "df.head() #preview first five rows"
   ]
  },
  {
   "cell_type": "code",
   "execution_count": null,
   "metadata": {},
   "outputs": [],
   "source": [
    "df.tail() #preview last five rows"
   ]
  },
  {
   "cell_type": "code",
   "execution_count": 3,
   "metadata": {},
   "outputs": [
    {
     "data": {
      "text/plain": [
       "(114, 19)"
      ]
     },
     "execution_count": 3,
     "metadata": {},
     "output_type": "execute_result"
    }
   ],
   "source": [
    "# Check size of the dataframe \n",
    "df.shape "
   ]
  },
  {
   "cell_type": "code",
   "execution_count": null,
   "metadata": {
    "scrolled": true
   },
   "outputs": [],
   "source": [
    "# list names of columns in dataframe\n",
    "df.columns "
   ]
  },
  {
   "cell_type": "code",
   "execution_count": null,
   "metadata": {
    "scrolled": true
   },
   "outputs": [],
   "source": [
    "# View info of the dataframe \n",
    "df.info()"
   ]
  },
  {
   "cell_type": "code",
   "execution_count": 4,
   "metadata": {},
   "outputs": [],
   "source": [
    "# Create copy of original DataFrame\n",
    "df_clean = df.copy()"
   ]
  },
  {
   "cell_type": "markdown",
   "metadata": {},
   "source": [
    "**Test**"
   ]
  },
  {
   "cell_type": "code",
   "execution_count": null,
   "metadata": {},
   "outputs": [],
   "source": [
    "df_clean.columns #List of column names in df_clean Dataframe"
   ]
  },
  {
   "cell_type": "code",
   "execution_count": 5,
   "metadata": {},
   "outputs": [],
   "source": [
    "#set appropriate data types \n",
    "# use .astype to change data type of dataframe columns\n",
    "df_clean = df_clean.astype({\"id_number\":'category',\"name\":'category', \"gender\":'category', \"age\":'int',\"FTE\":'float', \"salary_type\":'category', \"current_position\":'category', \"departments\":'category',\"costs_center\":'category',\"years_in_company\":'float',})"
   ]
  },
  {
   "cell_type": "code",
   "execution_count": 6,
   "metadata": {},
   "outputs": [],
   "source": [
    "# subset to only columns of interest\n",
    "df_clean = df_clean[['id_number','name','gender','age','FTE','salary_type','current_position','departments','years_in_company']]"
   ]
  },
  {
   "cell_type": "markdown",
   "metadata": {},
   "source": [
    "**Test**"
   ]
  },
  {
   "cell_type": "code",
   "execution_count": null,
   "metadata": {},
   "outputs": [],
   "source": [
    "df_clean.head()"
   ]
  },
  {
   "cell_type": "code",
   "execution_count": 7,
   "metadata": {},
   "outputs": [
    {
     "name": "stdout",
     "output_type": "stream",
     "text": [
      "<class 'pandas.core.frame.DataFrame'>\n",
      "RangeIndex: 114 entries, 0 to 113\n",
      "Data columns (total 9 columns):\n",
      "id_number           114 non-null category\n",
      "name                114 non-null category\n",
      "gender              114 non-null category\n",
      "age                 114 non-null int64\n",
      "FTE                 114 non-null float64\n",
      "salary_type         114 non-null category\n",
      "current_position    114 non-null category\n",
      "departments         114 non-null category\n",
      "years_in_company    114 non-null float64\n",
      "dtypes: category(6), float64(2), int64(1)\n",
      "memory usage: 19.2 KB\n"
     ]
    }
   ],
   "source": [
    "df_clean.info()"
   ]
  },
  {
   "cell_type": "markdown",
   "metadata": {},
   "source": [
    "### variable : department"
   ]
  },
  {
   "cell_type": "code",
   "execution_count": 8,
   "metadata": {},
   "outputs": [
    {
     "data": {
      "text/plain": [
       "count                      114\n",
       "unique                      13\n",
       "top       6 | Customer Service\n",
       "freq                        19\n",
       "Name: departments, dtype: object"
      ]
     },
     "execution_count": 8,
     "metadata": {},
     "output_type": "execute_result"
    }
   ],
   "source": [
    "df_clean.departments.describe()#overview of variable; count, unique, top,freq"
   ]
  },
  {
   "cell_type": "code",
   "execution_count": 9,
   "metadata": {},
   "outputs": [
    {
     "name": "stdout",
     "output_type": "stream",
     "text": [
      "Index(['1 | Product Development', '10 | HR/Office Administration',\n",
      "       '11 | Stand-By General', '13 | Board', '14 | Facility',\n",
      "       '2 | Production/ Assemblies', '3 | Supply Chain Management',\n",
      "       '4 | Distribution', '5 | Sales', '6 | Customer Service',\n",
      "       '7 | Marketing & Communication', '8 | ICT/Analyse',\n",
      "       '9 | Finance & Legal'],\n",
      "      dtype='object')\n"
     ]
    }
   ],
   "source": [
    "print (df_clean.departments.cat.categories)# list all unique departments"
   ]
  },
  {
   "cell_type": "code",
   "execution_count": 10,
   "metadata": {},
   "outputs": [
    {
     "name": "stdout",
     "output_type": "stream",
     "text": [
      "0\n"
     ]
    }
   ],
   "source": [
    "print(df_clean.departments.isnull().sum())  #Number of missing values in departments column"
   ]
  },
  {
   "cell_type": "code",
   "execution_count": 11,
   "metadata": {},
   "outputs": [],
   "source": [
    "#Depatment means/averages\n",
    "averages= df_clean.groupby(['departments']).mean()\n"
   ]
  },
  {
   "cell_type": "code",
   "execution_count": 12,
   "metadata": {},
   "outputs": [
    {
     "data": {
      "text/html": [
       "<div>\n",
       "<style scoped>\n",
       "    .dataframe tbody tr th:only-of-type {\n",
       "        vertical-align: middle;\n",
       "    }\n",
       "\n",
       "    .dataframe tbody tr th {\n",
       "        vertical-align: top;\n",
       "    }\n",
       "\n",
       "    .dataframe thead th {\n",
       "        text-align: right;\n",
       "    }\n",
       "</style>\n",
       "<table border=\"1\" class=\"dataframe\">\n",
       "  <thead>\n",
       "    <tr style=\"text-align: right;\">\n",
       "      <th></th>\n",
       "      <th>age</th>\n",
       "      <th>FTE</th>\n",
       "      <th>years_in_company</th>\n",
       "    </tr>\n",
       "    <tr>\n",
       "      <th>departments</th>\n",
       "      <th></th>\n",
       "      <th></th>\n",
       "      <th></th>\n",
       "    </tr>\n",
       "  </thead>\n",
       "  <tbody>\n",
       "    <tr>\n",
       "      <td>1 | Product Development</td>\n",
       "      <td>31.25</td>\n",
       "      <td>0.81</td>\n",
       "      <td>1.98</td>\n",
       "    </tr>\n",
       "    <tr>\n",
       "      <td>10 | HR/Office Administration</td>\n",
       "      <td>32.92</td>\n",
       "      <td>0.53</td>\n",
       "      <td>2.80</td>\n",
       "    </tr>\n",
       "    <tr>\n",
       "      <td>11 | Stand-By General</td>\n",
       "      <td>22.00</td>\n",
       "      <td>0.70</td>\n",
       "      <td>7.27</td>\n",
       "    </tr>\n",
       "    <tr>\n",
       "      <td>13 | Board</td>\n",
       "      <td>55.00</td>\n",
       "      <td>1.00</td>\n",
       "      <td>7.81</td>\n",
       "    </tr>\n",
       "    <tr>\n",
       "      <td>14 | Facility</td>\n",
       "      <td>33.29</td>\n",
       "      <td>0.66</td>\n",
       "      <td>1.64</td>\n",
       "    </tr>\n",
       "    <tr>\n",
       "      <td>2 | Production/ Assemblies</td>\n",
       "      <td>27.50</td>\n",
       "      <td>0.95</td>\n",
       "      <td>2.84</td>\n",
       "    </tr>\n",
       "    <tr>\n",
       "      <td>3 | Supply Chain Management</td>\n",
       "      <td>29.79</td>\n",
       "      <td>0.93</td>\n",
       "      <td>3.87</td>\n",
       "    </tr>\n",
       "    <tr>\n",
       "      <td>4 | Distribution</td>\n",
       "      <td>38.50</td>\n",
       "      <td>1.00</td>\n",
       "      <td>2.88</td>\n",
       "    </tr>\n",
       "    <tr>\n",
       "      <td>5 | Sales</td>\n",
       "      <td>28.00</td>\n",
       "      <td>0.99</td>\n",
       "      <td>3.54</td>\n",
       "    </tr>\n",
       "    <tr>\n",
       "      <td>6 | Customer Service</td>\n",
       "      <td>28.84</td>\n",
       "      <td>0.84</td>\n",
       "      <td>2.90</td>\n",
       "    </tr>\n",
       "    <tr>\n",
       "      <td>7 | Marketing &amp; Communication</td>\n",
       "      <td>27.15</td>\n",
       "      <td>0.77</td>\n",
       "      <td>2.41</td>\n",
       "    </tr>\n",
       "    <tr>\n",
       "      <td>8 | ICT/Analyse</td>\n",
       "      <td>28.36</td>\n",
       "      <td>0.89</td>\n",
       "      <td>3.42</td>\n",
       "    </tr>\n",
       "    <tr>\n",
       "      <td>9 | Finance &amp; Legal</td>\n",
       "      <td>30.71</td>\n",
       "      <td>0.94</td>\n",
       "      <td>2.69</td>\n",
       "    </tr>\n",
       "  </tbody>\n",
       "</table>\n",
       "</div>"
      ],
      "text/plain": [
       "                                age  FTE  years_in_company\n",
       "departments                                               \n",
       "1 | Product Development       31.25 0.81              1.98\n",
       "10 | HR/Office Administration 32.92 0.53              2.80\n",
       "11 | Stand-By General         22.00 0.70              7.27\n",
       "13 | Board                    55.00 1.00              7.81\n",
       "14 | Facility                 33.29 0.66              1.64\n",
       "2 | Production/ Assemblies    27.50 0.95              2.84\n",
       "3 | Supply Chain Management   29.79 0.93              3.87\n",
       "4 | Distribution              38.50 1.00              2.88\n",
       "5 | Sales                     28.00 0.99              3.54\n",
       "6 | Customer Service          28.84 0.84              2.90\n",
       "7 | Marketing & Communication 27.15 0.77              2.41\n",
       "8 | ICT/Analyse               28.36 0.89              3.42\n",
       "9 | Finance & Legal           30.71 0.94              2.69"
      ]
     },
     "execution_count": 12,
     "metadata": {},
     "output_type": "execute_result"
    }
   ],
   "source": [
    "averages"
   ]
  },
  {
   "cell_type": "code",
   "execution_count": 13,
   "metadata": {},
   "outputs": [],
   "source": [
    "# number of males and females per department\n",
    "totalheadcount = df_clean.groupby(['departments', 'gender']).size().reset_index(name='Count')       "
   ]
  },
  {
   "cell_type": "code",
   "execution_count": 14,
   "metadata": {},
   "outputs": [
    {
     "data": {
      "text/html": [
       "<div>\n",
       "<style scoped>\n",
       "    .dataframe tbody tr th:only-of-type {\n",
       "        vertical-align: middle;\n",
       "    }\n",
       "\n",
       "    .dataframe tbody tr th {\n",
       "        vertical-align: top;\n",
       "    }\n",
       "\n",
       "    .dataframe thead th {\n",
       "        text-align: right;\n",
       "    }\n",
       "</style>\n",
       "<table border=\"1\" class=\"dataframe\">\n",
       "  <thead>\n",
       "    <tr style=\"text-align: right;\">\n",
       "      <th></th>\n",
       "      <th>departments</th>\n",
       "      <th>gender</th>\n",
       "      <th>Count</th>\n",
       "    </tr>\n",
       "  </thead>\n",
       "  <tbody>\n",
       "    <tr>\n",
       "      <td>0</td>\n",
       "      <td>1 | Product Development</td>\n",
       "      <td>f</td>\n",
       "      <td>6</td>\n",
       "    </tr>\n",
       "    <tr>\n",
       "      <td>1</td>\n",
       "      <td>1 | Product Development</td>\n",
       "      <td>m</td>\n",
       "      <td>10</td>\n",
       "    </tr>\n",
       "    <tr>\n",
       "      <td>2</td>\n",
       "      <td>10 | HR/Office Administration</td>\n",
       "      <td>f</td>\n",
       "      <td>7</td>\n",
       "    </tr>\n",
       "    <tr>\n",
       "      <td>3</td>\n",
       "      <td>10 | HR/Office Administration</td>\n",
       "      <td>m</td>\n",
       "      <td>5</td>\n",
       "    </tr>\n",
       "    <tr>\n",
       "      <td>4</td>\n",
       "      <td>11 | Stand-By General</td>\n",
       "      <td>f</td>\n",
       "      <td>1</td>\n",
       "    </tr>\n",
       "    <tr>\n",
       "      <td>5</td>\n",
       "      <td>13 | Board</td>\n",
       "      <td>f</td>\n",
       "      <td>1</td>\n",
       "    </tr>\n",
       "    <tr>\n",
       "      <td>6</td>\n",
       "      <td>14 | Facility</td>\n",
       "      <td>f</td>\n",
       "      <td>5</td>\n",
       "    </tr>\n",
       "    <tr>\n",
       "      <td>7</td>\n",
       "      <td>14 | Facility</td>\n",
       "      <td>m</td>\n",
       "      <td>2</td>\n",
       "    </tr>\n",
       "    <tr>\n",
       "      <td>8</td>\n",
       "      <td>2 | Production/ Assemblies</td>\n",
       "      <td>f</td>\n",
       "      <td>1</td>\n",
       "    </tr>\n",
       "    <tr>\n",
       "      <td>9</td>\n",
       "      <td>2 | Production/ Assemblies</td>\n",
       "      <td>m</td>\n",
       "      <td>1</td>\n",
       "    </tr>\n",
       "    <tr>\n",
       "      <td>10</td>\n",
       "      <td>3 | Supply Chain Management</td>\n",
       "      <td>f</td>\n",
       "      <td>3</td>\n",
       "    </tr>\n",
       "    <tr>\n",
       "      <td>11</td>\n",
       "      <td>3 | Supply Chain Management</td>\n",
       "      <td>m</td>\n",
       "      <td>11</td>\n",
       "    </tr>\n",
       "    <tr>\n",
       "      <td>12</td>\n",
       "      <td>4 | Distribution</td>\n",
       "      <td>m</td>\n",
       "      <td>2</td>\n",
       "    </tr>\n",
       "    <tr>\n",
       "      <td>13</td>\n",
       "      <td>5 | Sales</td>\n",
       "      <td>f</td>\n",
       "      <td>2</td>\n",
       "    </tr>\n",
       "    <tr>\n",
       "      <td>14</td>\n",
       "      <td>5 | Sales</td>\n",
       "      <td>m</td>\n",
       "      <td>7</td>\n",
       "    </tr>\n",
       "    <tr>\n",
       "      <td>15</td>\n",
       "      <td>6 | Customer Service</td>\n",
       "      <td>f</td>\n",
       "      <td>7</td>\n",
       "    </tr>\n",
       "    <tr>\n",
       "      <td>16</td>\n",
       "      <td>6 | Customer Service</td>\n",
       "      <td>m</td>\n",
       "      <td>12</td>\n",
       "    </tr>\n",
       "    <tr>\n",
       "      <td>17</td>\n",
       "      <td>7 | Marketing &amp; Communication</td>\n",
       "      <td>f</td>\n",
       "      <td>5</td>\n",
       "    </tr>\n",
       "    <tr>\n",
       "      <td>18</td>\n",
       "      <td>7 | Marketing &amp; Communication</td>\n",
       "      <td>m</td>\n",
       "      <td>8</td>\n",
       "    </tr>\n",
       "    <tr>\n",
       "      <td>19</td>\n",
       "      <td>8 | ICT/Analyse</td>\n",
       "      <td>f</td>\n",
       "      <td>1</td>\n",
       "    </tr>\n",
       "    <tr>\n",
       "      <td>20</td>\n",
       "      <td>8 | ICT/Analyse</td>\n",
       "      <td>m</td>\n",
       "      <td>10</td>\n",
       "    </tr>\n",
       "    <tr>\n",
       "      <td>21</td>\n",
       "      <td>9 | Finance &amp; Legal</td>\n",
       "      <td>f</td>\n",
       "      <td>5</td>\n",
       "    </tr>\n",
       "    <tr>\n",
       "      <td>22</td>\n",
       "      <td>9 | Finance &amp; Legal</td>\n",
       "      <td>m</td>\n",
       "      <td>2</td>\n",
       "    </tr>\n",
       "  </tbody>\n",
       "</table>\n",
       "</div>"
      ],
      "text/plain": [
       "                      departments gender  Count\n",
       "0         1 | Product Development      f      6\n",
       "1         1 | Product Development      m     10\n",
       "2   10 | HR/Office Administration      f      7\n",
       "3   10 | HR/Office Administration      m      5\n",
       "4           11 | Stand-By General      f      1\n",
       "5                      13 | Board      f      1\n",
       "6                   14 | Facility      f      5\n",
       "7                   14 | Facility      m      2\n",
       "8      2 | Production/ Assemblies      f      1\n",
       "9      2 | Production/ Assemblies      m      1\n",
       "10    3 | Supply Chain Management      f      3\n",
       "11    3 | Supply Chain Management      m     11\n",
       "12               4 | Distribution      m      2\n",
       "13                      5 | Sales      f      2\n",
       "14                      5 | Sales      m      7\n",
       "15           6 | Customer Service      f      7\n",
       "16           6 | Customer Service      m     12\n",
       "17  7 | Marketing & Communication      f      5\n",
       "18  7 | Marketing & Communication      m      8\n",
       "19                8 | ICT/Analyse      f      1\n",
       "20                8 | ICT/Analyse      m     10\n",
       "21            9 | Finance & Legal      f      5\n",
       "22            9 | Finance & Legal      m      2"
      ]
     },
     "execution_count": 14,
     "metadata": {},
     "output_type": "execute_result"
    }
   ],
   "source": [
    "totalheadcount"
   ]
  },
  {
   "cell_type": "code",
   "execution_count": 15,
   "metadata": {},
   "outputs": [],
   "source": [
    "# FTE worforce total per department\n",
    "FTEcount = df_clean.groupby(\n",
    "   ['departments']\n",
    ").agg(\n",
    "    {\n",
    "         'FTE':sum,    # Sum fte per department\n",
    "         \n",
    "    }\n",
    ")\n",
    "\n",
    "FTEcount.sort_values(by=['FTE'], inplace=True, ascending=False)"
   ]
  },
  {
   "cell_type": "code",
   "execution_count": 16,
   "metadata": {},
   "outputs": [
    {
     "data": {
      "text/html": [
       "<div>\n",
       "<style scoped>\n",
       "    .dataframe tbody tr th:only-of-type {\n",
       "        vertical-align: middle;\n",
       "    }\n",
       "\n",
       "    .dataframe tbody tr th {\n",
       "        vertical-align: top;\n",
       "    }\n",
       "\n",
       "    .dataframe thead th {\n",
       "        text-align: right;\n",
       "    }\n",
       "</style>\n",
       "<table border=\"1\" class=\"dataframe\">\n",
       "  <thead>\n",
       "    <tr style=\"text-align: right;\">\n",
       "      <th></th>\n",
       "      <th>FTE</th>\n",
       "    </tr>\n",
       "    <tr>\n",
       "      <th>departments</th>\n",
       "      <th></th>\n",
       "    </tr>\n",
       "  </thead>\n",
       "  <tbody>\n",
       "    <tr>\n",
       "      <td>6 | Customer Service</td>\n",
       "      <td>15.90</td>\n",
       "    </tr>\n",
       "    <tr>\n",
       "      <td>1 | Product Development</td>\n",
       "      <td>13.00</td>\n",
       "    </tr>\n",
       "    <tr>\n",
       "      <td>3 | Supply Chain Management</td>\n",
       "      <td>13.00</td>\n",
       "    </tr>\n",
       "    <tr>\n",
       "      <td>7 | Marketing &amp; Communication</td>\n",
       "      <td>10.00</td>\n",
       "    </tr>\n",
       "    <tr>\n",
       "      <td>8 | ICT/Analyse</td>\n",
       "      <td>9.75</td>\n",
       "    </tr>\n",
       "    <tr>\n",
       "      <td>5 | Sales</td>\n",
       "      <td>8.90</td>\n",
       "    </tr>\n",
       "    <tr>\n",
       "      <td>9 | Finance &amp; Legal</td>\n",
       "      <td>6.60</td>\n",
       "    </tr>\n",
       "    <tr>\n",
       "      <td>10 | HR/Office Administration</td>\n",
       "      <td>6.30</td>\n",
       "    </tr>\n",
       "    <tr>\n",
       "      <td>14 | Facility</td>\n",
       "      <td>4.60</td>\n",
       "    </tr>\n",
       "    <tr>\n",
       "      <td>4 | Distribution</td>\n",
       "      <td>2.00</td>\n",
       "    </tr>\n",
       "    <tr>\n",
       "      <td>2 | Production/ Assemblies</td>\n",
       "      <td>1.90</td>\n",
       "    </tr>\n",
       "    <tr>\n",
       "      <td>13 | Board</td>\n",
       "      <td>1.00</td>\n",
       "    </tr>\n",
       "    <tr>\n",
       "      <td>11 | Stand-By General</td>\n",
       "      <td>0.70</td>\n",
       "    </tr>\n",
       "  </tbody>\n",
       "</table>\n",
       "</div>"
      ],
      "text/plain": [
       "                                FTE\n",
       "departments                        \n",
       "6 | Customer Service          15.90\n",
       "1 | Product Development       13.00\n",
       "3 | Supply Chain Management   13.00\n",
       "7 | Marketing & Communication 10.00\n",
       "8 | ICT/Analyse                9.75\n",
       "5 | Sales                      8.90\n",
       "9 | Finance & Legal            6.60\n",
       "10 | HR/Office Administration  6.30\n",
       "14 | Facility                  4.60\n",
       "4 | Distribution               2.00\n",
       "2 | Production/ Assemblies     1.90\n",
       "13 | Board                     1.00\n",
       "11 | Stand-By General          0.70"
      ]
     },
     "execution_count": 16,
     "metadata": {},
     "output_type": "execute_result"
    }
   ],
   "source": [
    "FTEcount"
   ]
  },
  {
   "cell_type": "code",
   "execution_count": null,
   "metadata": {},
   "outputs": [],
   "source": [
    "# age workforce( max age per department)\n",
    "agecount = df_clean.groupby(\n",
    "   ['departments']\n",
    ").agg(\n",
    "    {\n",
    "         'age':max,    \n",
    "         \n",
    "         \n",
    "    }\n",
    ")\n",
    "\n",
    "agecount.sort_values(by=['age'], inplace=True, ascending=False)"
   ]
  },
  {
   "cell_type": "code",
   "execution_count": null,
   "metadata": {},
   "outputs": [],
   "source": [
    "agecount"
   ]
  },
  {
   "cell_type": "code",
   "execution_count": 17,
   "metadata": {},
   "outputs": [],
   "source": [
    "df_clean['age_by_decade'] = pd.cut(x=df_clean['age'], bins=[0,20,29,39,49,59,69], labels=['0-20','21-29', '30-39', '40-49', '50-59','60-69'])"
   ]
  },
  {
   "cell_type": "code",
   "execution_count": null,
   "metadata": {},
   "outputs": [],
   "source": [
    "df_clean"
   ]
  },
  {
   "cell_type": "code",
   "execution_count": 18,
   "metadata": {},
   "outputs": [],
   "source": [
    "x = df_clean['age_by_decade'].value_counts() "
   ]
  },
  {
   "cell_type": "code",
   "execution_count": 22,
   "metadata": {},
   "outputs": [
    {
     "data": {
      "image/png": "[encoded data removed]",
      "text/plain": [
       "<Figure size 432x288 with 1 Axes>"
      ]
     },
     "metadata": {},
     "output_type": "display_data"
    }
   ],
   "source": [
    "plt.style.use('ggplot')\n",
    "\n",
    "x = ['0-20','21-29', '30-39','40-49','50-59','60-69']\n",
    "agecount = [8,60,32,11,2,1]\n",
    "\n",
    "x_pos = [i for i, _ in enumerate(x)]\n",
    "\n",
    "p = plt.bar(x_pos, agecount, color='#1E90FF')\n",
    "plt.xlabel(\"Age range\",fontsize=14)\n",
    "plt.ylabel(\"count\",fontsize=14)\n",
    "plt.title(\" Age Profile\")\n",
    "plt.xticks(x_pos, x, fontsize=12)\n",
    "\n",
    "\n",
    "def autolabel(rects):\n",
    "    \"\"\"Attach a text label above each bar in *rects*, displaying its height.\"\"\"\n",
    "    for rect in rects:\n",
    "        height = rect.get_height()\n",
    "        plt.annotate('{}'.format(height),\n",
    "                    xy=(rect.get_x() + rect.get_width() / 2, height),\n",
    "                    xytext=(0, 3),  # 3 points vertical offset\n",
    "                    textcoords=\"offset points\",\n",
    "                    ha='center', va='bottom')\n",
    "\n",
    "\n",
    "autolabel(p)\n",
    "plt.tight_layout()\n",
    "plt.savefig('age.png',type=\"png\",dpi=300,bbox_inches='tight', pad_inches=0)#Export graph as .p\n",
    "\n",
    "plt.show()"
   ]
  },
  {
   "cell_type": "markdown",
   "metadata": {},
   "source": [
    "## FTE"
   ]
  },
  {
   "cell_type": "code",
   "execution_count": null,
   "metadata": {},
   "outputs": [],
   "source": [
    "#load 2015\n",
    "df1 = pd.read_excel('secrid_humanresource.xlsx',7) #load 2015 spreadsheet of SECRID HR DATA.xlxs "
   ]
  },
  {
   "cell_type": "code",
   "execution_count": null,
   "metadata": {},
   "outputs": [],
   "source": [
    "df1.head()"
   ]
  },
  {
   "cell_type": "code",
   "execution_count": null,
   "metadata": {},
   "outputs": [],
   "source": [
    "#load 2016\n",
    "df2 = pd.read_excel('secrid_humanresource.xlsx',6) #load 2016 spreadsheet of SECRID HR DATA.xlxs"
   ]
  },
  {
   "cell_type": "code",
   "execution_count": null,
   "metadata": {},
   "outputs": [],
   "source": [
    "df2.head()"
   ]
  },
  {
   "cell_type": "code",
   "execution_count": null,
   "metadata": {},
   "outputs": [],
   "source": [
    "#load 2017\n",
    "df3 = pd.read_excel('secrid_humanresource.xlsx',5) #load 2017 spreadsheet of SECRID HR DATA.xlxs"
   ]
  },
  {
   "cell_type": "code",
   "execution_count": null,
   "metadata": {},
   "outputs": [],
   "source": [
    "#load 2018\n",
    "df4 = pd.read_excel('secrid_humanresource.xlsx',4) #load 2018 spreadsheet of SECRID HR DATA.xlxs"
   ]
  },
  {
   "cell_type": "code",
   "execution_count": null,
   "metadata": {},
   "outputs": [],
   "source": [
    "#load 2019\n",
    "df5 = pd.read_excel('secrid_humanresource.xlsx',3) #load 2019 spreadsheet of SECRID HR DATA.xlxs"
   ]
  },
  {
   "cell_type": "code",
   "execution_count": null,
   "metadata": {},
   "outputs": [],
   "source": [
    "#combine df1, df2, df3, df4 and df5  into one complete dataframe 'df' for sales data\n",
    "dftotal = pd.concat([df1, df2, df3, df4, df5], sort=False)"
   ]
  },
  {
   "cell_type": "code",
   "execution_count": null,
   "metadata": {},
   "outputs": [],
   "source": [
    "dftotal.head()"
   ]
  },
  {
   "cell_type": "code",
   "execution_count": null,
   "metadata": {},
   "outputs": [],
   "source": [
    "dftotal.columns"
   ]
  },
  {
   "cell_type": "code",
   "execution_count": null,
   "metadata": {},
   "outputs": [],
   "source": [
    "dftotal.info()"
   ]
  },
  {
   "cell_type": "code",
   "execution_count": null,
   "metadata": {},
   "outputs": [],
   "source": [
    "dftotal['jan_FTE'] = pd.to_numeric(dftotal['jan_FTE'], errors='coerce')\n"
   ]
  },
  {
   "cell_type": "code",
   "execution_count": null,
   "metadata": {},
   "outputs": [],
   "source": [
    "dftotal[['jan_FTE', 'feb_FTE','dec_FTE','nov_FTE','oct_FTE','sept_FTE','august_FTE','july_FTE','june_FTE','may_FTE','april_FTE','mar_FTE']] = dftotal[['jan_FTE', 'feb_FTE','dec_FTE','nov_FTE','oct_FTE','sept_FTE','august_FTE','july_FTE','june_FTE','may_FTE','april_FTE','mar_FTE']].apply(pd.to_numeric,  errors='coerce') "
   ]
  },
  {
   "cell_type": "code",
   "execution_count": null,
   "metadata": {},
   "outputs": [],
   "source": [
    "dftotal.info()"
   ]
  },
  {
   "cell_type": "code",
   "execution_count": null,
   "metadata": {},
   "outputs": [],
   "source": [
    "# age workforce( max age per department)\n",
    "yearcount = dftotal.groupby(\n",
    "   ['year']\n",
    ").agg(\n",
    "    {\n",
    "         'jan_hc':sum,\n",
    "         'jan_FTE':sum,\n",
    "         'feb_hc':sum,\n",
    "         'feb_FTE':sum,\n",
    "         'mar_hc':sum,\n",
    "         'mar_FTE':sum,\n",
    "         'april_hc':sum,\n",
    "         'april_FTE':sum,\n",
    "         'may_hc':sum,\n",
    "         'may_FTE':sum,\n",
    "         'june_hc':sum,\n",
    "         'june_FTE':sum,\n",
    "         'july_hc':sum,\n",
    "         'july_FTE':sum,\n",
    "         'august_hc':sum,\n",
    "         'august_FTE':sum,\n",
    "         'sept_hc':sum,\n",
    "         'sept_FTE':sum,\n",
    "         'oct_hc':sum,\n",
    "         'oct_FTE':sum,\n",
    "         'nov_hc':sum,\n",
    "         'nov_FTE':sum,\n",
    "         'dec_hc':sum,        \n",
    "         'dec_FTE':sum,       \n",
    "         \n",
    "    }\n",
    ")\n",
    "\n",
    "yearcount.sort_values(by=['year'], inplace=True, ascending=True)"
   ]
  },
  {
   "cell_type": "code",
   "execution_count": null,
   "metadata": {},
   "outputs": [],
   "source": [
    "yearcount"
   ]
  },
  {
   "cell_type": "code",
   "execution_count": null,
   "metadata": {},
   "outputs": [],
   "source": [
    "# age workforce( max age per department)\n",
    "departmentcount = dftotal.groupby(\n",
    "   ['year','department']\n",
    ").agg(\n",
    "    {\n",
    "         'jan_hc':sum,\n",
    "         'jan_FTE':sum,\n",
    "         'feb_hc':sum,\n",
    "         'feb_FTE':sum,\n",
    "         'mar_hc':sum,\n",
    "         'mar_FTE':sum,\n",
    "         'april_hc':sum,\n",
    "         'april_FTE':sum,\n",
    "         'may_hc':sum,\n",
    "         'may_FTE':sum,\n",
    "         'june_hc':sum,\n",
    "         'june_FTE':sum,\n",
    "         'july_hc':sum,\n",
    "         'july_FTE':sum,\n",
    "         'august_hc':sum,\n",
    "         'august_FTE':sum,\n",
    "         'sept_hc':sum,\n",
    "         'sept_FTE':sum,\n",
    "         'oct_hc':sum,\n",
    "         'oct_FTE':sum,\n",
    "         'nov_hc':sum,\n",
    "         'nov_FTE':sum,\n",
    "         'dec_hc':sum,        \n",
    "         'dec_FTE':sum,\n",
    "         \n",
    "    }\n",
    ")\n",
    "\n",
    "departmentcount.sort_values(by=['year'], inplace=True, ascending=True)"
   ]
  },
  {
   "cell_type": "code",
   "execution_count": null,
   "metadata": {},
   "outputs": [],
   "source": [
    "departmentcount"
   ]
  },
  {
   "cell_type": "code",
   "execution_count": null,
   "metadata": {},
   "outputs": [],
   "source": [
    "#departmenttable = pd.pivot_table(dftotal, index=[\"year\"],columns=[\"department\"],\n",
    "                      # values=[\"jan_hc\"],aggfunc=sum, margins=False)"
   ]
  },
  {
   "cell_type": "code",
   "execution_count": null,
   "metadata": {},
   "outputs": [],
   "source": []
  },
  {
   "cell_type": "code",
   "execution_count": null,
   "metadata": {},
   "outputs": [],
   "source": []
  },
  {
   "cell_type": "code",
   "execution_count": null,
   "metadata": {},
   "outputs": [],
   "source": []
  },
  {
   "cell_type": "code",
   "execution_count": null,
   "metadata": {},
   "outputs": [],
   "source": []
  }
 ],
 "metadata": {
  "kernelspec": {
   "display_name": "Python 3",
   "language": "python",
   "name": "python3"
  },
  "language_info": {
   "codemirror_mode": {
    "name": "ipython",
    "version": 3
   },
   "file_extension": ".py",
   "mimetype": "text/x-python",
   "name": "python",
   "nbconvert_exporter": "python",
   "pygments_lexer": "ipython3",
   "version": "3.7.4"
  }
 },
 "nbformat": 4,
 "nbformat_minor": 4
}
