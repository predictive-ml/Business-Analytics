{
 "cells": [
  {
   "cell_type": "markdown",
   "metadata": {},
   "source": [
    "# SECRID  DATA ANALYSIS PROJECT\n",
    "\n",
    "\n",
    "<span style=\"color: gray; font-size:1em;\">March-2020</span>\n",
    "\n",
    "\n",
    "## Table of Contents\n",
    "* [Introduction](#introduction)\n",
    "* [Section One - Import Data into IDE](#import_data)\n",
    "    * [Part I - Gathering Data](#gather_data)\n",
    "    * [Part II - Assessing Data](#assess_data)\n",
    "    * [Part III - Cleaning Data](#clean_data)\n",
    "* [Section Two - Individual Variable Assessing](#asses_variable)\n",
    "    * [Variable 1 - internal_id](#Internal_ID)\n",
    "    * [variable 2 - document_number](#Document_Number)\n",
    "    * [variable 3 - customer_name](#Customer_Name)\n",
    "        * [Quality Issue](#qi_Customer_Name)\n",
    "    * [variable 4 - customer_category](#Customer_Category)\n",
    "    * [variable 5 - retailer_role](#Retailer_Role)\n",
    "        * [Quality Issue](#qi_Retailer_Role)\n",
    "    * [variable 6 - pim_category](#PIM_Category)\n",
    "    * [variable 7 - pim_colour](#PIM_Colour)\n",
    "    * [variable 8 - item](#Item)\n",
    "    * [variable 9 - display_name](#Display_Name)\n",
    "    * [variable 10 - type_of_material](#Type_of_leather)\n",
    "    * [variable 11 - wsl](#WSL)\n",
    "    * [variable 12 - while_stock_lasts](#While_stock_lasts)\n",
    "    * [variable 13 - shipping_country](#shipping_country)\n",
    "        * [Quality Issue](#Customer_Name)\n",
    "    * [variable 14 - date](#date)    \n",
    "    * [variable 15 - quantity](#quantity)\n",
    "    * [variable 16 - amount](#amount)\n",
    "        * [Explore: quality and amount columns](#explore)\n",
    "    \n",
    "   \n",
    "    \n",
    "    \n",
    "    \n",
    "    \n",
    "          \n",
    "    "
   ]
  },
  {
   "cell_type": "markdown",
   "metadata": {},
   "source": [
    "<a id='introduction'></a>\n",
    "## Introduction\n",
    "\n",
    "SECRID is a business entity based in the Netherlands. It produces, stocks and sells designer wallets, particularly leather based wallets in more than 100 countries all over the world.\n",
    "\n",
    "This notebook explores SECRID sales data\n"
   ]
  },
  {
   "cell_type": "markdown",
   "metadata": {},
   "source": [
    "<a id='#import_data'></a>\n",
    "## Section One : Import Data into IDE"
   ]
  },
  {
   "cell_type": "markdown",
   "metadata": {},
   "source": [
    "<a id='gather_data'></a>\n",
    "## Part I : Gathering Data"
   ]
  },
  {
   "cell_type": "code",
   "execution_count": 1,
   "metadata": {},
   "outputs": [],
   "source": [
    "# load required libraries\n",
    "import numpy as np\n",
    "import pandas as pd\n",
    "from pandas import DataFrame\n",
    "from pandas import read_excel\n",
    "import xlsxwriter\n",
    "\n",
    "import seaborn as sns\n",
    "# Use seaborn style defaults and set the default figure size\n",
    "sns.set(rc={'figure.figsize':(11, 4)})\n",
    "\n",
    "import matplotlib.pyplot as plt\n",
    "%matplotlib inline\n",
    "import matplotlib.ticker as ticker\n",
    "from matplotlib import pyplot as plt\n",
    "from matplotlib import dates as mpl_dates\n",
    "from pandas.plotting import register_matplotlib_converters\n",
    "register_matplotlib_converters()\n",
    "plt.style.use('seaborn')\n",
    "\n",
    "import six\n",
    "from datetime import datetime, timedelta\n",
    "\n",
    "# environment settings:\n",
    "pd.options.display.float_format = '{:.2f}'.format\n",
    "pd.set_option('display.max_column',None)\n",
    "pd.set_option('display.max_rows',None)\n",
    "pd.set_option('display.max_seq_items',None)\n",
    "pd.set_option('display.max_colwidth', 500)\n",
    "pd.set_option('expand_frame_repr', True)\n"
   ]
  },
  {
   "cell_type": "markdown",
   "metadata": {},
   "source": [
    "### Load .xlxs files"
   ]
  },
  {
   "cell_type": "code",
   "execution_count": 3,
   "metadata": {},
   "outputs": [],
   "source": [
    "#load sales 2015 \n",
    "df1 = pd.read_excel('SECRID_DATA.xlsx',0) #load first spreadsheet of SECRID DATA.xlxs"
   ]
  },
  {
   "cell_type": "code",
   "execution_count": 4,
   "metadata": {},
   "outputs": [],
   "source": [
    "# #load sales 2016 \n",
    "df2 = pd.read_excel('SECRID_DATA.xlsx',1) #load second spreadsheet of SECRID DATA.xlxs"
   ]
  },
  {
   "cell_type": "code",
   "execution_count": 5,
   "metadata": {},
   "outputs": [],
   "source": [
    "#load sales 2017\n",
    "df3 = pd.read_excel('SECRID_DATA.xlsx',2)  #load third spreadsheet ofSECRID DATA.xlxs"
   ]
  },
  {
   "cell_type": "code",
   "execution_count": 6,
   "metadata": {},
   "outputs": [],
   "source": [
    "#load sales 2018\n",
    "df4 = pd.read_excel('SECRID_DATA.xlsx',3)  #load fourth spreadsheet of SECRID DATA.xlxs"
   ]
  },
  {
   "cell_type": "code",
   "execution_count": 7,
   "metadata": {},
   "outputs": [],
   "source": [
    "#load sales 2019\n",
    "df5 = pd.read_excel('SECRID_DATA.xlsx',4)  #load fifth spreadsheet of SECRID DATA.xlxs"
   ]
  },
  {
   "cell_type": "code",
   "execution_count": 9,
   "metadata": {},
   "outputs": [],
   "source": [
    "#combine df1, df2, df3, df4 and df5  into one complete dataframe 'df' for sales data\n",
    "df = pd.concat([df1, df2, df3, df4, df5]) "
   ]
  },
  {
   "cell_type": "markdown",
   "metadata": {},
   "source": [
    "<a id='assess_data'></a>\n",
    "## Part II - Assessing  Data"
   ]
  },
  {
   "cell_type": "code",
   "execution_count": 10,
   "metadata": {
    "scrolled": true
   },
   "outputs": [
    {
     "data": {
      "text/html": [
       "<div>\n",
       "<style scoped>\n",
       "    .dataframe tbody tr th:only-of-type {\n",
       "        vertical-align: middle;\n",
       "    }\n",
       "\n",
       "    .dataframe tbody tr th {\n",
       "        vertical-align: top;\n",
       "    }\n",
       "\n",
       "    .dataframe thead th {\n",
       "        text-align: right;\n",
       "    }\n",
       "</style>\n",
       "<table border=\"1\" class=\"dataframe\">\n",
       "  <thead>\n",
       "    <tr style=\"text-align: right;\">\n",
       "      <th></th>\n",
       "      <th>Internal ID</th>\n",
       "      <th>Document Number</th>\n",
       "      <th>Date</th>\n",
       "      <th>Date Created</th>\n",
       "      <th>Name</th>\n",
       "      <th>Customer Category</th>\n",
       "      <th>Retailer Role</th>\n",
       "      <th>Shipping Address 1</th>\n",
       "      <th>Shipping Address 2</th>\n",
       "      <th>Shipping City</th>\n",
       "      <th>Shipping Zip</th>\n",
       "      <th>Shipping State/Province</th>\n",
       "      <th>Shipping Country</th>\n",
       "      <th>Item</th>\n",
       "      <th>Display Name</th>\n",
       "      <th>Quantity</th>\n",
       "      <th>Amount</th>\n",
       "      <th>Amount (Foreign Currency)</th>\n",
       "      <th>PIM Category</th>\n",
       "      <th>Material</th>\n",
       "      <th>PIM Colour</th>\n",
       "      <th>WSL +</th>\n",
       "      <th>While stock lasts</th>\n",
       "      <th>Cardprotector Colour</th>\n",
       "    </tr>\n",
       "  </thead>\n",
       "  <tbody>\n",
       "    <tr>\n",
       "      <td>0</td>\n",
       "      <td>24560</td>\n",
       "      <td>I-1510000</td>\n",
       "      <td>2015-01-05</td>\n",
       "      <td>2015-01-05 12:35:00</td>\n",
       "      <td>C-9855 SkilledIn</td>\n",
       "      <td>Promotional sales - End user</td>\n",
       "      <td>NaN</td>\n",
       "      <td>Scheepsbouwweg 8, K11</td>\n",
       "      <td>NaN</td>\n",
       "      <td>Rotterdam</td>\n",
       "      <td>3089 JW</td>\n",
       "      <td>NaN</td>\n",
       "      <td>Netherlands</td>\n",
       "      <td>TA-Brown</td>\n",
       "      <td>Twinwallet Amazon Brown</td>\n",
       "      <td>1</td>\n",
       "      <td>54.26</td>\n",
       "      <td>54.26</td>\n",
       "      <td>Twinwallet</td>\n",
       "      <td>Amazon</td>\n",
       "      <td>Brown</td>\n",
       "      <td>No</td>\n",
       "      <td>No</td>\n",
       "      <td>Silver</td>\n",
       "    </tr>\n",
       "    <tr>\n",
       "      <td>1</td>\n",
       "      <td>24580</td>\n",
       "      <td>I-1510001</td>\n",
       "      <td>2015-01-05</td>\n",
       "      <td>2015-01-05 16:15:00</td>\n",
       "      <td>C-9255 Rubino di Fabio Della Rocca attn. Spimar</td>\n",
       "      <td>Leather goods</td>\n",
       "      <td>NaN</td>\n",
       "      <td>Via Della Croce 75 A</td>\n",
       "      <td>NaN</td>\n",
       "      <td>Roma</td>\n",
       "      <td>00187</td>\n",
       "      <td>NaN</td>\n",
       "      <td>Italy</td>\n",
       "      <td>C-Black</td>\n",
       "      <td>Cardprotector Black</td>\n",
       "      <td>1</td>\n",
       "      <td>11.20</td>\n",
       "      <td>11.20</td>\n",
       "      <td>Cardprotector</td>\n",
       "      <td>Aluminium</td>\n",
       "      <td>Black</td>\n",
       "      <td>No</td>\n",
       "      <td>No</td>\n",
       "      <td>Black</td>\n",
       "    </tr>\n",
       "    <tr>\n",
       "      <td>2</td>\n",
       "      <td>24580</td>\n",
       "      <td>I-1510001</td>\n",
       "      <td>2015-01-05</td>\n",
       "      <td>2015-01-05 16:15:00</td>\n",
       "      <td>C-9255 Rubino di Fabio Della Rocca attn. Spimar</td>\n",
       "      <td>Leather goods</td>\n",
       "      <td>NaN</td>\n",
       "      <td>Via Della Croce 75 A</td>\n",
       "      <td>NaN</td>\n",
       "      <td>Roma</td>\n",
       "      <td>00187</td>\n",
       "      <td>NaN</td>\n",
       "      <td>Italy</td>\n",
       "      <td>C-Blue</td>\n",
       "      <td>Cardprotector Blue</td>\n",
       "      <td>2</td>\n",
       "      <td>22.40</td>\n",
       "      <td>22.40</td>\n",
       "      <td>Cardprotector</td>\n",
       "      <td>Aluminium</td>\n",
       "      <td>Blue</td>\n",
       "      <td>No</td>\n",
       "      <td>No</td>\n",
       "      <td>Blue</td>\n",
       "    </tr>\n",
       "    <tr>\n",
       "      <td>3</td>\n",
       "      <td>24580</td>\n",
       "      <td>I-1510001</td>\n",
       "      <td>2015-01-05</td>\n",
       "      <td>2015-01-05 16:15:00</td>\n",
       "      <td>C-9255 Rubino di Fabio Della Rocca attn. Spimar</td>\n",
       "      <td>Leather goods</td>\n",
       "      <td>NaN</td>\n",
       "      <td>Via Della Croce 75 A</td>\n",
       "      <td>NaN</td>\n",
       "      <td>Roma</td>\n",
       "      <td>00187</td>\n",
       "      <td>NaN</td>\n",
       "      <td>Italy</td>\n",
       "      <td>C-Champagne</td>\n",
       "      <td>Cardprotector Champagne</td>\n",
       "      <td>1</td>\n",
       "      <td>11.20</td>\n",
       "      <td>11.20</td>\n",
       "      <td>NaN</td>\n",
       "      <td>NaN</td>\n",
       "      <td>NaN</td>\n",
       "      <td>No</td>\n",
       "      <td>No</td>\n",
       "      <td>NaN</td>\n",
       "    </tr>\n",
       "    <tr>\n",
       "      <td>4</td>\n",
       "      <td>24580</td>\n",
       "      <td>I-1510001</td>\n",
       "      <td>2015-01-05</td>\n",
       "      <td>2015-01-05 16:15:00</td>\n",
       "      <td>C-9255 Rubino di Fabio Della Rocca attn. Spimar</td>\n",
       "      <td>Leather goods</td>\n",
       "      <td>NaN</td>\n",
       "      <td>Via Della Croce 75 A</td>\n",
       "      <td>NaN</td>\n",
       "      <td>Roma</td>\n",
       "      <td>00187</td>\n",
       "      <td>NaN</td>\n",
       "      <td>Italy</td>\n",
       "      <td>C-Red</td>\n",
       "      <td>Cardprotector Red</td>\n",
       "      <td>2</td>\n",
       "      <td>22.40</td>\n",
       "      <td>22.40</td>\n",
       "      <td>Cardprotector</td>\n",
       "      <td>Aluminium</td>\n",
       "      <td>Red</td>\n",
       "      <td>No</td>\n",
       "      <td>No</td>\n",
       "      <td>Red</td>\n",
       "    </tr>\n",
       "  </tbody>\n",
       "</table>\n",
       "</div>"
      ],
      "text/plain": [
       "   Internal ID Document Number       Date        Date Created  \\\n",
       "0        24560       I-1510000 2015-01-05 2015-01-05 12:35:00   \n",
       "1        24580       I-1510001 2015-01-05 2015-01-05 16:15:00   \n",
       "2        24580       I-1510001 2015-01-05 2015-01-05 16:15:00   \n",
       "3        24580       I-1510001 2015-01-05 2015-01-05 16:15:00   \n",
       "4        24580       I-1510001 2015-01-05 2015-01-05 16:15:00   \n",
       "\n",
       "                                              Name  \\\n",
       "0                                 C-9855 SkilledIn   \n",
       "1  C-9255 Rubino di Fabio Della Rocca attn. Spimar   \n",
       "2  C-9255 Rubino di Fabio Della Rocca attn. Spimar   \n",
       "3  C-9255 Rubino di Fabio Della Rocca attn. Spimar   \n",
       "4  C-9255 Rubino di Fabio Della Rocca attn. Spimar   \n",
       "\n",
       "              Customer Category Retailer Role     Shipping Address 1  \\\n",
       "0  Promotional sales - End user           NaN  Scheepsbouwweg 8, K11   \n",
       "1                 Leather goods           NaN   Via Della Croce 75 A   \n",
       "2                 Leather goods           NaN   Via Della Croce 75 A   \n",
       "3                 Leather goods           NaN   Via Della Croce 75 A   \n",
       "4                 Leather goods           NaN   Via Della Croce 75 A   \n",
       "\n",
       "  Shipping Address 2 Shipping City Shipping Zip Shipping State/Province  \\\n",
       "0                NaN     Rotterdam      3089 JW                     NaN   \n",
       "1                NaN          Roma        00187                     NaN   \n",
       "2                NaN          Roma        00187                     NaN   \n",
       "3                NaN          Roma        00187                     NaN   \n",
       "4                NaN          Roma        00187                     NaN   \n",
       "\n",
       "  Shipping Country         Item             Display Name  Quantity  Amount  \\\n",
       "0      Netherlands     TA-Brown  Twinwallet Amazon Brown         1   54.26   \n",
       "1            Italy      C-Black      Cardprotector Black         1   11.20   \n",
       "2            Italy       C-Blue       Cardprotector Blue         2   22.40   \n",
       "3            Italy  C-Champagne  Cardprotector Champagne         1   11.20   \n",
       "4            Italy        C-Red        Cardprotector Red         2   22.40   \n",
       "\n",
       "   Amount (Foreign Currency)   PIM Category   Material PIM Colour WSL +  \\\n",
       "0                      54.26     Twinwallet     Amazon      Brown    No   \n",
       "1                      11.20  Cardprotector  Aluminium      Black    No   \n",
       "2                      22.40  Cardprotector  Aluminium       Blue    No   \n",
       "3                      11.20            NaN        NaN        NaN    No   \n",
       "4                      22.40  Cardprotector  Aluminium        Red    No   \n",
       "\n",
       "  While stock lasts Cardprotector Colour  \n",
       "0                No               Silver  \n",
       "1                No                Black  \n",
       "2                No                 Blue  \n",
       "3                No                  NaN  \n",
       "4                No                  Red  "
      ]
     },
     "execution_count": 10,
     "metadata": {},
     "output_type": "execute_result"
    }
   ],
   "source": [
    "df.head() #preview first five rows"
   ]
  },
  {
   "cell_type": "code",
   "execution_count": null,
   "metadata": {},
   "outputs": [],
   "source": [
    "df.tail() #preview last five rows"
   ]
  },
  {
   "cell_type": "code",
   "execution_count": 11,
   "metadata": {},
   "outputs": [
    {
     "data": {
      "text/plain": [
       "(2021470, 24)"
      ]
     },
     "execution_count": 11,
     "metadata": {},
     "output_type": "execute_result"
    }
   ],
   "source": [
    "# Check size of the dataframe \n",
    "df.shape "
   ]
  },
  {
   "cell_type": "code",
   "execution_count": null,
   "metadata": {
    "scrolled": true
   },
   "outputs": [],
   "source": [
    "# list names of columns in dataframe\n",
    "df.columns "
   ]
  },
  {
   "cell_type": "code",
   "execution_count": null,
   "metadata": {
    "scrolled": true
   },
   "outputs": [],
   "source": [
    "# View info of the dataframe \n",
    "df.info()"
   ]
  },
  {
   "cell_type": "code",
   "execution_count": null,
   "metadata": {},
   "outputs": [],
   "source": [
    "# view some of the core statistics about columns\n",
    "df.describe(include='all')"
   ]
  },
  {
   "cell_type": "code",
   "execution_count": null,
   "metadata": {},
   "outputs": [],
   "source": [
    "# check the Data types (dtypes) of each column in Dataframe\n",
    "df.dtypes "
   ]
  },
  {
   "cell_type": "code",
   "execution_count": null,
   "metadata": {},
   "outputs": [],
   "source": [
    "# Total sum of duplicate rows\n",
    "df.duplicated().sum() # returns a Boolean Series with True value for each duplicated row and sums them"
   ]
  },
  {
   "cell_type": "code",
   "execution_count": null,
   "metadata": {},
   "outputs": [],
   "source": [
    "#return the number of unique elements in each column\n",
    "print(df.nunique()) "
   ]
  },
  {
   "cell_type": "code",
   "execution_count": null,
   "metadata": {},
   "outputs": [],
   "source": [
    "df.count() #returns the number of non-missing values for each column or row"
   ]
  },
  {
   "cell_type": "code",
   "execution_count": null,
   "metadata": {},
   "outputs": [],
   "source": [
    "#Total missing values(NaN) in a DataFrame\n",
    "df.isnull().sum().sum()"
   ]
  },
  {
   "cell_type": "code",
   "execution_count": null,
   "metadata": {},
   "outputs": [],
   "source": [
    "#Count number of NaN for each column in DataFrame\n",
    "print(df.isnull().sum()) "
   ]
  },
  {
   "cell_type": "markdown",
   "metadata": {},
   "source": [
    "<a id='issues'></a>\n",
    "**Quality issues**\n",
    " * Rename column names to have clear, descriptive names in small letters according to best practice. Column 'name' can be renamed to 'customer_name' and column 'material' can be renamed to 'type_of_material'\n",
    " * Set to columns to appropriate category data type: 'internal_id', 'document_number', 'customer_name', 'customer _category', 'retailer_role', 'shipping_country', 'item', 'display_name', 'pim_category','type_of_material', \n",
    "   'pim_colour', 'wsl', 'while_stock_lasts' and 'cardprotector_colour' "
   ]
  },
  {
   "cell_type": "markdown",
   "metadata": {},
   "source": [
    "<a id='clean_data'></a>\n",
    "## Part III - Cleaning Data"
   ]
  },
  {
   "cell_type": "code",
   "execution_count": 12,
   "metadata": {},
   "outputs": [],
   "source": [
    "# Create copy of original DataFrame\n",
    "df_clean = df.copy()"
   ]
  },
  {
   "cell_type": "code",
   "execution_count": 13,
   "metadata": {},
   "outputs": [],
   "source": [
    "#Fixing messy column names\n",
    "df_clean.columns = df_clean.columns.str.strip().str.lower().str.replace(' ', '_').str.replace('(', '').str.replace(')', '')"
   ]
  },
  {
   "cell_type": "code",
   "execution_count": 14,
   "metadata": {},
   "outputs": [],
   "source": [
    "# change column names using rename function\n",
    "df_clean.rename(columns={                                                 \n",
    "                         'name':'customer_name',\n",
    "                         'wsl_+':'wsl',\n",
    "                         'material':'type_of_material' }, \n",
    "                 inplace=True)"
   ]
  },
  {
   "cell_type": "markdown",
   "metadata": {},
   "source": [
    "**Test**"
   ]
  },
  {
   "cell_type": "code",
   "execution_count": 15,
   "metadata": {},
   "outputs": [
    {
     "data": {
      "text/plain": [
       "Index(['internal_id', 'document_number', 'date', 'date_created',\n",
       "       'customer_name', 'customer_category', 'retailer_role',\n",
       "       'shipping_address_1', 'shipping_address_2', 'shipping_city',\n",
       "       'shipping_zip', 'shipping_state/province', 'shipping_country', 'item',\n",
       "       'display_name', 'quantity', 'amount', 'amount_foreign_currency',\n",
       "       'pim_category', 'type_of_material', 'pim_colour', 'wsl',\n",
       "       'while_stock_lasts', 'cardprotector_colour'],\n",
       "      dtype='object')"
      ]
     },
     "execution_count": 15,
     "metadata": {},
     "output_type": "execute_result"
    }
   ],
   "source": [
    "df_clean.columns #List of column names in df_clean Dataframe"
   ]
  },
  {
   "cell_type": "markdown",
   "metadata": {},
   "source": [
    "**Define**\n",
    "<br>Set appropriate data types for fields mentioned in the [Quality issues](#issues) "
   ]
  },
  {
   "cell_type": "code",
   "execution_count": 16,
   "metadata": {},
   "outputs": [],
   "source": [
    "# use .astype to change data type of dataframe columns\n",
    "df_clean = df_clean.astype({\"internal_id\":'category',\"document_number\":'category', \"customer_name\":'category', \"customer_category\":'category', \"retailer_role\":'category', \"shipping_country\":'category', \"item\":'category',\"display_name\":'category', \"pim_category\":'category', \"type_of_material\":'category', \"pim_colour\":'category',\"wsl\":'category', \"while_stock_lasts\":'category', \"cardprotector_colour\":'category'})"
   ]
  },
  {
   "cell_type": "markdown",
   "metadata": {},
   "source": [
    "**Test**"
   ]
  },
  {
   "cell_type": "code",
   "execution_count": null,
   "metadata": {},
   "outputs": [],
   "source": [
    "df_clean.info()"
   ]
  },
  {
   "cell_type": "code",
   "execution_count": null,
   "metadata": {},
   "outputs": [],
   "source": [
    "# view some of the core statistics about columns\n",
    "df_clean.describe(include='all')"
   ]
  },
  {
   "cell_type": "markdown",
   "metadata": {},
   "source": [
    "### content structure of sales dataset\n",
    "The sales data contains 24 columns (variables) and 2,021,470 rows (entries). \n",
    "This is evidence that 1,609,533 sale transactions were completed in the January 2015 – July 2019 period for SECRID business. The dataset contained features about:\n",
    "\n",
    "* Products for sale: item, display_name, pim_category, pim_colour, type_of_material and cardprotector_colour\n",
    "* The country the item was shipped to : shipping_country  \n",
    "* Customer data:  customer_name, customer_category and retailer_role\n",
    "* Sale transactions: internal_id, document_number, quantity, amount, amount(foreign_currency) and date\n",
    "\n",
    "\n",
    "### Detected Missing Values\n",
    "A null value is a value in a field that appears to be blank. A null value is a field with no value. \n",
    "The table below indicates the number and  the resulting percentage of missing values per column.This able is manually created with results from running; **df.count()** to get Value Count of non-missing values in a column and \n",
    "**print(df.isnull().sum())** which will give the count number of NaN for each column in DataFrame.\n",
    "\n",
    "| Variable Name  | Value Count| Number Of Missing Values| % Of Missing Values\n",
    "| -------------  | ------------- |------------- |-------------\n",
    "| internal_id    | 2,021,470  |0 |0%\n",
    "| document_number| 2,021,470  |0 |0%\n",
    "| date           | 2,021,470  |0 |0%\n",
    "| date_created   | 2,021,470  |0 |0%\n",
    "| customer_name  | 2,021,470  |0 |0%\n",
    "| customer_category  | 2,015,375  |6,095     |0.30%\n",
    "| retailer_role      | 201,788    |1,819,682 |90.02%\n",
    "| shipping_address_1 | 2,011,883  |9,587     |0.47%\n",
    "| shipping_address_2 | 367,598    |1,653,872 |81.82%\n",
    "| shipping_city      | 2,012,657  |8,813 |0.44%\n",
    "| shipping_zip       | 1,990,236  |31,234|1.55%\n",
    "| shipping_state/province |395,792 |1,625,678 |80.42%\n",
    "| shipping_country   |2,014,891   |6,579 |0.33%\n",
    "| item               | 2,021,470  |0 |0%\n",
    "| display_name       | 2,021,470  |0 |0%\n",
    "| quantity           | 2,021,470  |0 |0%\n",
    "| amount             | 2,021,470  |0 |0%\n",
    "| amount_foreign_currency | 2,021,470 |0 |0%\n",
    "| type_of_material        | 1,941,770 |79,700 |3.94%\n",
    "| pim_category            | 1,944,252 |77,218 |3.82%\n",
    "| pim_colour              | 1,933,547 |87,923|4.35%\n",
    "| wsl_+                   | 2,021,470 |0     |0%\n",
    "| while_stock_lasts       | 2,021,470 |0     |0%\n",
    "| cardprotector_colour    | 1,877,516 |143,954 |7.12%\n",
    "\n",
    "\n"
   ]
  },
  {
   "cell_type": "markdown",
   "metadata": {},
   "source": [
    "<a id='asses_variable'></a>\n",
    "## Section Two: Individual Variable assesment"
   ]
  },
  {
   "cell_type": "markdown",
   "metadata": {},
   "source": [
    "<a id='Internal_ID'></a>\n",
    "### VARIABLE 1  : internal_id"
   ]
  },
  {
   "cell_type": "code",
   "execution_count": null,
   "metadata": {},
   "outputs": [],
   "source": [
    "df_clean.internal_id.describe()#overview of variable; count, unique, top,freq"
   ]
  },
  {
   "cell_type": "code",
   "execution_count": null,
   "metadata": {},
   "outputs": [],
   "source": [
    "print (df_clean.internal_id.cat.categories)"
   ]
  },
  {
   "cell_type": "code",
   "execution_count": null,
   "metadata": {},
   "outputs": [],
   "source": [
    "df_clean.internal_id.value_counts()  #Return  counts of unique values"
   ]
  },
  {
   "cell_type": "code",
   "execution_count": null,
   "metadata": {},
   "outputs": [],
   "source": [
    "print(df_clean.internal_id.isnull().sum()) #Number of missing values in Internal_ID column"
   ]
  },
  {
   "cell_type": "markdown",
   "metadata": {},
   "source": [
    "### Findings\n",
    "This is a column of sale transaction identifiers.\n",
    "'internal_id' column has 143,904  unique categories and no missing values."
   ]
  },
  {
   "cell_type": "markdown",
   "metadata": {},
   "source": [
    "<a id='Document_Number'></a>\n",
    "### VARIABLE  2: document_number"
   ]
  },
  {
   "cell_type": "code",
   "execution_count": null,
   "metadata": {},
   "outputs": [],
   "source": [
    "df_clean.document_number.describe()#overview of variable; count, unique, top,freq"
   ]
  },
  {
   "cell_type": "code",
   "execution_count": null,
   "metadata": {},
   "outputs": [],
   "source": [
    "print (df_clean.document_number.cat.categories)#categories in the categorical variable"
   ]
  },
  {
   "cell_type": "code",
   "execution_count": null,
   "metadata": {},
   "outputs": [],
   "source": [
    "df_clean.document_number.value_counts()  #Return  counts of unique values"
   ]
  },
  {
   "cell_type": "code",
   "execution_count": null,
   "metadata": {},
   "outputs": [],
   "source": [
    "print(df_clean.document_number.isnull().sum())  #Number of missing values in Document_Number column"
   ]
  },
  {
   "cell_type": "markdown",
   "metadata": {},
   "source": [
    "### Findings\n",
    "This is a column of sale transaction identifiers.\n",
    "'Document Number' column has 143,890  unique categories and no missing values."
   ]
  },
  {
   "cell_type": "markdown",
   "metadata": {},
   "source": [
    "<a id='Customer_Name'></a>\n",
    "### VARIABLE  3: customer_name"
   ]
  },
  {
   "cell_type": "code",
   "execution_count": null,
   "metadata": {},
   "outputs": [],
   "source": [
    "df_clean.customer_name.describe()#overview of variable; count, unique, top,freq"
   ]
  },
  {
   "cell_type": "code",
   "execution_count": null,
   "metadata": {},
   "outputs": [],
   "source": [
    "print (df_clean.customer_name.cat.categories)#categories in the categorical variable"
   ]
  },
  {
   "cell_type": "code",
   "execution_count": null,
   "metadata": {},
   "outputs": [],
   "source": [
    "df_clean.customer_name.value_counts()  #Return counts of unique values"
   ]
  },
  {
   "cell_type": "code",
   "execution_count": null,
   "metadata": {},
   "outputs": [],
   "source": [
    "print(df_clean.customer_name.isnull().sum())  #Number of missing values in Customer_Name column"
   ]
  },
  {
   "cell_type": "markdown",
   "metadata": {},
   "source": [
    "### Findings\n",
    "This column records the customer name per sale transaction. The format the Customer Name is entered is as follows; the letter C (capital c) is entered as a prefix before a hyphen (‘-’), a unique number is then added followed by the customer name. There are 31,143 unique customer names. This means that for the January 2015–July 2019 period the business  had 31,143 unique customers. The customer who performed the most transactions is **C-10625 El Corte Ingles** at 35,481 sale transactions."
   ]
  },
  {
   "cell_type": "markdown",
   "metadata": {},
   "source": [
    "<a id='qi_Customer_Name'></a>\n",
    "**Quality Issue**\n",
    "\n",
    "For customers with different branches of their business, each branch is considered as a unique customer.\n",
    "The letter C (capital c) that is entered as a prefix before a hyphen (‘-’) and the unique number following is repeated for all branches.<br>\n",
    "For example;\n",
    "\n",
    "* 'C-10215 James Shoe Care Canada Place Limited',\n",
    "* 'C-10215| C-1 James Shoe Care Canada Place Limited : James Shoe Care Canada Place Limited : James Shoe Care Wharf',\n",
    "* 'C-10215| C-2 James Shoe Care Canada Place Limited : James Shoe Care Canada Place Limited : James Shoe Care Westfield',\n"
   ]
  },
  {
   "cell_type": "markdown",
   "metadata": {},
   "source": [
    "### combine similar branch stores sale transactions."
   ]
  },
  {
   "cell_type": "code",
   "execution_count": null,
   "metadata": {},
   "outputs": [],
   "source": [
    "#create new column that has first 7 characters of column 'customer_name' \n",
    "df_clean['customer_id'] = df_clean['customer_name'].str[:7]"
   ]
  },
  {
   "cell_type": "markdown",
   "metadata": {},
   "source": [
    "**Test**"
   ]
  },
  {
   "cell_type": "code",
   "execution_count": null,
   "metadata": {},
   "outputs": [],
   "source": [
    "df_clean.head()"
   ]
  },
  {
   "cell_type": "code",
   "execution_count": null,
   "metadata": {},
   "outputs": [],
   "source": [
    "df_clean = df_clean.astype({\"customer_id\":'category'})"
   ]
  },
  {
   "cell_type": "code",
   "execution_count": null,
   "metadata": {},
   "outputs": [],
   "source": [
    "df_clean.customer_id.describe()"
   ]
  },
  {
   "cell_type": "code",
   "execution_count": null,
   "metadata": {},
   "outputs": [],
   "source": [
    "df_clean.customer_id.value_counts()"
   ]
  },
  {
   "cell_type": "code",
   "execution_count": null,
   "metadata": {},
   "outputs": [],
   "source": [
    "df_clean.customer_id= df_clean.customer_id.astype('category')"
   ]
  },
  {
   "cell_type": "code",
   "execution_count": null,
   "metadata": {},
   "outputs": [],
   "source": [
    "df_clean.customer_id.cat.categories#categories in the categorical variable"
   ]
  },
  {
   "cell_type": "code",
   "execution_count": null,
   "metadata": {},
   "outputs": [],
   "source": [
    "df_clean.loc[df_clean['customer_id'] == 'C-6962|'].head()"
   ]
  },
  {
   "cell_type": "code",
   "execution_count": null,
   "metadata": {},
   "outputs": [],
   "source": [
    "df_clean.loc[df_clean['customer_id'] == 'C-6962'].head()"
   ]
  },
  {
   "cell_type": "code",
   "execution_count": null,
   "metadata": {},
   "outputs": [],
   "source": [
    "df_clean.customer_id = df_clean.customer_id.str.strip().str.replace('|', '')"
   ]
  },
  {
   "cell_type": "markdown",
   "metadata": {},
   "source": [
    "**Test**"
   ]
  },
  {
   "cell_type": "code",
   "execution_count": null,
   "metadata": {},
   "outputs": [],
   "source": [
    "df_clean.customer_id.describe()"
   ]
  },
  {
   "cell_type": "code",
   "execution_count": null,
   "metadata": {},
   "outputs": [],
   "source": [
    "df_clean.customer_id.value_counts()"
   ]
  },
  {
   "cell_type": "markdown",
   "metadata": {},
   "source": [
    "<a id='Customer_Category'></a>\n",
    "### VARIABLE  4: customer_category"
   ]
  },
  {
   "cell_type": "code",
   "execution_count": null,
   "metadata": {},
   "outputs": [],
   "source": [
    "df_clean.customer_category.describe()#overview of variable; count, unique, top,freq"
   ]
  },
  {
   "cell_type": "code",
   "execution_count": null,
   "metadata": {
    "scrolled": true
   },
   "outputs": [],
   "source": [
    "print (df_clean.customer_category.cat.categories)#categories in the categorical variable"
   ]
  },
  {
   "cell_type": "code",
   "execution_count": null,
   "metadata": {},
   "outputs": [],
   "source": [
    "df_clean.customer_category.value_counts() #Return counts of unique values"
   ]
  },
  {
   "cell_type": "code",
   "execution_count": null,
   "metadata": {},
   "outputs": [],
   "source": [
    "print(df_clean.customer_category.isnull().sum())  #Number of missing values in Customer_Name column"
   ]
  },
  {
   "cell_type": "markdown",
   "metadata": {},
   "source": [
    "### Findings\n",
    "\n",
    "'Customer Category' column has 47  unique categories and 5,415 missing values. Leather goods category has the highest frequency of sale transactions at 345,551."
   ]
  },
  {
   "cell_type": "markdown",
   "metadata": {},
   "source": [
    "<a id='Retailer_Role'></a>\n",
    "### VARIABLE  5: retailer_role"
   ]
  },
  {
   "cell_type": "code",
   "execution_count": null,
   "metadata": {},
   "outputs": [],
   "source": [
    "df_clean.retailer_role.describe()#overview of variable; count, unique, top,freq"
   ]
  },
  {
   "cell_type": "code",
   "execution_count": null,
   "metadata": {},
   "outputs": [],
   "source": [
    "print (df_clean.retailer_role.cat.categories)#categories in the categorical variable"
   ]
  },
  {
   "cell_type": "code",
   "execution_count": null,
   "metadata": {},
   "outputs": [],
   "source": [
    "df_clean.retailer_role.value_counts()#Return counts of unique values"
   ]
  },
  {
   "cell_type": "code",
   "execution_count": null,
   "metadata": {},
   "outputs": [],
   "source": [
    "print(df_clean.retailer_role.isnull().sum()) #Number of missing values in Retailer_Role column"
   ]
  },
  {
   "cell_type": "markdown",
   "metadata": {},
   "source": [
    "### Findings\n",
    "\n",
    "'Retailer Role' column has 4 unique categories and 1,563,539 missing values. This column has 97% missing values and is recommended to be dropped during cleaning."
   ]
  },
  {
   "cell_type": "markdown",
   "metadata": {},
   "source": [
    "<a id='qi_Retailer_Role'></a>\n",
    "### Quality Issues\n",
    "* 'Retailer Role' column : This column has 1,563,539 missing values. This column has 97% missing values and is recommended to be dropped"
   ]
  },
  {
   "cell_type": "code",
   "execution_count": null,
   "metadata": {},
   "outputs": [],
   "source": [
    "# Drop 'retailer_role' column with drop function\n",
    "df_clean.drop(['retailer_role'], axis=1)"
   ]
  },
  {
   "cell_type": "markdown",
   "metadata": {},
   "source": [
    "<a id='PIM_Category'></a>\n",
    "### VARIABLE 6 : pim_category"
   ]
  },
  {
   "cell_type": "code",
   "execution_count": null,
   "metadata": {},
   "outputs": [],
   "source": [
    "df_clean.pim_category.describe() #overview of variable; count, unique, top,freq"
   ]
  },
  {
   "cell_type": "code",
   "execution_count": null,
   "metadata": {},
   "outputs": [],
   "source": [
    "# Main categories of items sold\n",
    "# print categories in the categorical variable\n",
    "print (df_clean.pim_category.cat.categories)"
   ]
  },
  {
   "cell_type": "code",
   "execution_count": null,
   "metadata": {},
   "outputs": [],
   "source": [
    "df_clean.pim_category.value_counts() #Return counts of unique values"
   ]
  },
  {
   "cell_type": "code",
   "execution_count": null,
   "metadata": {},
   "outputs": [],
   "source": [
    "print(df_clean.pim_category.isnull().sum()) "
   ]
  },
  {
   "cell_type": "markdown",
   "metadata": {},
   "source": [
    "### Findings\n",
    "Over the January 2015–July 2019 period the product sold by the business are divided into six (6) distinct main categories.\n",
    "* Cardprotector\n",
    "* Cardslide\n",
    "* Miniwallet\n",
    "* Moneyband\n",
    "* Slimwallet\n",
    "* Twinwallet\n",
    "\n",
    "'PIM_Category' column has 6 unique categories and 1,040 missing values. **Miniwallet** category has the highest frequency of sale transactions at 901,668."
   ]
  },
  {
   "cell_type": "markdown",
   "metadata": {},
   "source": [
    "<a id='PIM_Colour'></a>\n",
    "### VARIABLE  7: pim_colour"
   ]
  },
  {
   "cell_type": "code",
   "execution_count": null,
   "metadata": {},
   "outputs": [],
   "source": [
    "df_clean.pim_colour.describe() #overview of variable; count, unique, top,freq"
   ]
  },
  {
   "cell_type": "code",
   "execution_count": null,
   "metadata": {},
   "outputs": [],
   "source": [
    "# Main categories in PIM Colour\n",
    "print (df_clean.pim_colour.cat.categories)"
   ]
  },
  {
   "cell_type": "code",
   "execution_count": null,
   "metadata": {},
   "outputs": [],
   "source": [
    "df_clean.pim_colour.value_counts() #Return counts of unique values"
   ]
  },
  {
   "cell_type": "code",
   "execution_count": null,
   "metadata": {},
   "outputs": [],
   "source": [
    "print(df_clean.pim_colour.isnull().sum()) "
   ]
  },
  {
   "cell_type": "markdown",
   "metadata": {},
   "source": [
    "### Findings\n",
    "\n",
    "This column indicates color of the product sold.'PIM Colour' column has 45 unique categories and 6,058 missing values. **Black** category has the highest frequency of sale transactions at 465,688.\n"
   ]
  },
  {
   "cell_type": "markdown",
   "metadata": {},
   "source": [
    "<a id='Item'></a>\n",
    "### VARIABLE 8: item"
   ]
  },
  {
   "cell_type": "code",
   "execution_count": null,
   "metadata": {},
   "outputs": [],
   "source": [
    "df_clean.item.describe() #overview of variable; count, unique, top,freq"
   ]
  },
  {
   "cell_type": "code",
   "execution_count": null,
   "metadata": {},
   "outputs": [],
   "source": [
    "# print categories in the categorical variable\n",
    "print (df_clean.item.cat.categories)"
   ]
  },
  {
   "cell_type": "code",
   "execution_count": null,
   "metadata": {},
   "outputs": [],
   "source": [
    "df_clean.item.value_counts() #Return counts of unique values"
   ]
  },
  {
   "cell_type": "code",
   "execution_count": null,
   "metadata": {},
   "outputs": [],
   "source": [
    "print(df_clean.item.isnull().sum()) "
   ]
  },
  {
   "cell_type": "markdown",
   "metadata": {},
   "source": [
    "### Findings\n",
    "\n",
    "Once the items are classified into a main category (PIM Category), they are later categorized into more detailed sub-categories based on the type of material the item is made of (Type of Material) and product color (PIM Colour). The initials of the PIM Category and Type of Material are combined as a prefix before a hyphen (‘-’) and the PIM Colour is added after the hyphen. \n",
    "\n",
    "'Item' column has 292 unique categories and no missing values. Unexpected numeric type categories are spotted.This type of entries will technically be considered as a missing values. **M-Black** category has the highest frequency of sale transactions at 65,720."
   ]
  },
  {
   "cell_type": "markdown",
   "metadata": {},
   "source": [
    "<a id='Display_Name'></a>\n",
    "### VARIABLE  9: display_name"
   ]
  },
  {
   "cell_type": "code",
   "execution_count": null,
   "metadata": {},
   "outputs": [],
   "source": [
    "df_clean.display_name.describe() #overview of variable; count, unique, top,freq"
   ]
  },
  {
   "cell_type": "code",
   "execution_count": null,
   "metadata": {},
   "outputs": [],
   "source": [
    "print (df_clean.display_name.unique()) "
   ]
  },
  {
   "cell_type": "code",
   "execution_count": null,
   "metadata": {},
   "outputs": [],
   "source": [
    "print (df_clean.display_name.cat.categories) #categories in the categorical variable"
   ]
  },
  {
   "cell_type": "code",
   "execution_count": null,
   "metadata": {},
   "outputs": [],
   "source": [
    "df_clean.display_name.value_counts()#Return counts of unique values"
   ]
  },
  {
   "cell_type": "code",
   "execution_count": null,
   "metadata": {},
   "outputs": [],
   "source": [
    "print(df_clean.display_name.isnull().sum()) #Number of missing values in Display_Name column"
   ]
  },
  {
   "cell_type": "markdown",
   "metadata": {},
   "source": [
    "### Findings\n",
    "'Display Name' like the Item column, gives a detailed description of the item sold. This column however, gives the full product name unlike the Item column entries. 'Display Name' column has 288 unique categories and no missing values. **Miniwallet Original Black** category has the highest frequency of sale transactions at 65,720."
   ]
  },
  {
   "cell_type": "markdown",
   "metadata": {},
   "source": [
    "<a id='Type_of_leather'></a>\n",
    "### VARIABLE 10 : type_of_material"
   ]
  },
  {
   "cell_type": "code",
   "execution_count": 17,
   "metadata": {},
   "outputs": [
    {
     "data": {
      "text/plain": [
       "count     1941770\n",
       "unique         29\n",
       "top       Vintage\n",
       "freq       569304\n",
       "Name: type_of_material, dtype: object"
      ]
     },
     "execution_count": 17,
     "metadata": {},
     "output_type": "execute_result"
    }
   ],
   "source": [
    "df_clean.type_of_material.describe() #overview of variable; count, unique, top,freq"
   ]
  },
  {
   "cell_type": "code",
   "execution_count": 18,
   "metadata": {},
   "outputs": [
    {
     "name": "stdout",
     "output_type": "stream",
     "text": [
      "Index(['Aluminium', 'Amazon', 'Cleo', 'Crisple', 'Cubic', 'Dash', 'Diamond',\n",
      "       'Dutch Martin', 'Elastic', 'Engraved Aluminium', 'Glamour', 'Indigo',\n",
      "       'Matte', 'Metallic', 'Nile', 'Optical', 'Original', 'Ornament',\n",
      "       'Perforated', 'Polished', 'Polycarbonate', 'Powder coated Aluminium',\n",
      "       'Prism', 'Rango', 'Recycled', 'Vegan', 'Vegetable Tanned',\n",
      "       'Vegetable Tanned Stitched', 'Vintage'],\n",
      "      dtype='object')\n"
     ]
    }
   ],
   "source": [
    "#Types of leather used in production\n",
    "print (df_clean.type_of_material.cat.categories) # Get list of categories in categorical variable"
   ]
  },
  {
   "cell_type": "code",
   "execution_count": 19,
   "metadata": {},
   "outputs": [
    {
     "data": {
      "text/plain": [
       "Vintage                      569304\n",
       "Original                     301510\n",
       "Aluminium                    273787\n",
       "Matte                        159531\n",
       "Crisple                      124691\n",
       "Dutch Martin                  72896\n",
       "Rango                         64007\n",
       "Elastic                       51398\n",
       "Nile                          45831\n",
       "Polycarbonate                 33187\n",
       "Recycled                      29897\n",
       "Cubic                         29678\n",
       "Metallic                      26825\n",
       "Indigo                        25513\n",
       "Vegetable Tanned              23342\n",
       "Engraved Aluminium            22600\n",
       "Prism                         21965\n",
       "Vegetable Tanned Stitched     19730\n",
       "Amazon                        12518\n",
       "Ornament                       6829\n",
       "Cleo                           4802\n",
       "Optical                        4679\n",
       "Diamond                        4392\n",
       "Dash                           4373\n",
       "Glamour                        3511\n",
       "Vegan                          3360\n",
       "Perforated                     1388\n",
       "Polished                        185\n",
       "Powder coated Aluminium          41\n",
       "Name: type_of_material, dtype: int64"
      ]
     },
     "execution_count": 19,
     "metadata": {},
     "output_type": "execute_result"
    }
   ],
   "source": [
    "df_clean.type_of_material.value_counts() #count per category"
   ]
  },
  {
   "cell_type": "code",
   "execution_count": 20,
   "metadata": {},
   "outputs": [
    {
     "name": "stdout",
     "output_type": "stream",
     "text": [
      "79700\n"
     ]
    }
   ],
   "source": [
    "print(df_clean.type_of_material.isnull().sum()) "
   ]
  },
  {
   "cell_type": "markdown",
   "metadata": {},
   "source": [
    "### Findings\n",
    "This column indicates the type of material used in creating the product.\n",
    "The business uses 29 unique types of material. This column has 1,040 missing values.It is noted that missing values in this column imply that the item is not made of leather.  **Vintage** category has the highest frequency of sale transactions at 483,982."
   ]
  },
  {
   "cell_type": "markdown",
   "metadata": {},
   "source": [
    "<a id='WSL'></a>\n",
    "### VARIABLE 11 : wsl"
   ]
  },
  {
   "cell_type": "code",
   "execution_count": null,
   "metadata": {},
   "outputs": [],
   "source": [
    "df_clean.wsl.describe() #overview of variable; count, unique, top,freq"
   ]
  },
  {
   "cell_type": "code",
   "execution_count": null,
   "metadata": {},
   "outputs": [],
   "source": [
    "# Get list of categories in categorical variable\n",
    "print (df_clean.wsl.unique())\n",
    "\n",
    "#or \n",
    "\n",
    "print (df_clean.wsl.cat.categories)"
   ]
  },
  {
   "cell_type": "code",
   "execution_count": null,
   "metadata": {},
   "outputs": [],
   "source": [
    "df_clean.wsl.value_counts() #Return counts of unique values"
   ]
  },
  {
   "cell_type": "code",
   "execution_count": null,
   "metadata": {},
   "outputs": [],
   "source": [
    "print(df_clean.wsl.isnull().sum()) "
   ]
  },
  {
   "cell_type": "markdown",
   "metadata": {},
   "source": [
    "### Findings\n",
    "This column enters either 'Yes' or 'No' if an Item is currently running out of stock and is no longer produced.\n",
    "This column has one constant entry which is ‘No’. This means that no item is currently running out of stock and is no longer being produced.\n",
    "It is recommended that the column be dropped during data cleaning.This column has no missing values."
   ]
  },
  {
   "cell_type": "markdown",
   "metadata": {},
   "source": [
    "<a id='While_stock_lasts'></a>\n",
    "### VARIABLE 12 : while_stock_lasts"
   ]
  },
  {
   "cell_type": "code",
   "execution_count": null,
   "metadata": {},
   "outputs": [],
   "source": [
    "df_clean.while_stock_lasts.describe()  #overview of variable; count, unique, top,freq"
   ]
  },
  {
   "cell_type": "code",
   "execution_count": null,
   "metadata": {},
   "outputs": [],
   "source": [
    "# Get list of categories in categorical variable\n",
    "print (df_clean.while_stock_lasts.cat.categories)"
   ]
  },
  {
   "cell_type": "code",
   "execution_count": null,
   "metadata": {},
   "outputs": [],
   "source": [
    "df_clean.while_stock_lasts.value_counts() #Return counts of unique values"
   ]
  },
  {
   "cell_type": "code",
   "execution_count": null,
   "metadata": {},
   "outputs": [],
   "source": [
    "print(df_clean.while_stock_lasts.isnull().sum()) "
   ]
  },
  {
   "cell_type": "markdown",
   "metadata": {},
   "source": [
    "### Findings\n",
    "This column enters either yes or no if an Item has been taken out of the collection, but the business still has the leather in stock at the business suppliers.  **No** category has the highest frequency of sale transactions at 1,378,556. "
   ]
  },
  {
   "cell_type": "markdown",
   "metadata": {},
   "source": [
    "<a id='shipping_country'></a>\n",
    "### VARIABLE  13: shipping_country"
   ]
  },
  {
   "cell_type": "code",
   "execution_count": null,
   "metadata": {},
   "outputs": [],
   "source": [
    "df_clean.shipping_country.describe()#overview of variable; count, unique, top,freq"
   ]
  },
  {
   "cell_type": "code",
   "execution_count": null,
   "metadata": {},
   "outputs": [],
   "source": [
    "df_clean = df_clean.astype({\"shipping_country\":'category'})"
   ]
  },
  {
   "cell_type": "code",
   "execution_count": null,
   "metadata": {},
   "outputs": [],
   "source": [
    "# List of countries the business shipped items to\n",
    "print (df_clean.shipping_country.cat.categories)# Get list of categories in categorical variable"
   ]
  },
  {
   "cell_type": "code",
   "execution_count": null,
   "metadata": {},
   "outputs": [],
   "source": [
    "# Total Sales transactions per country\n",
    "df_clean.shipping_country.value_counts() #count per category(Transactions per country)"
   ]
  },
  {
   "cell_type": "code",
   "execution_count": null,
   "metadata": {},
   "outputs": [],
   "source": [
    "print(df_clean.shipping_country.isnull().sum()) "
   ]
  },
  {
   "cell_type": "markdown",
   "metadata": {},
   "source": [
    "### Findings\n",
    "For every sale transaction, the country the item was shipped to is indicated in this column. \n",
    "This variable has 102 unique categories implying that for the January 2015–July 2019 period the business shipped items to 102 different countries. \n",
    "This column has 6,102 missing values.  **Netherlands** category has the highest frequency of sale transactions at 371,805. "
   ]
  },
  {
   "cell_type": "markdown",
   "metadata": {},
   "source": [
    "### Quality Issues\n",
    "* 'shipping_country' column : rename country category names to the appropriate official country names."
   ]
  },
  {
   "cell_type": "code",
   "execution_count": null,
   "metadata": {},
   "outputs": [],
   "source": [
    "# fix messy category names\n",
    "df_clean.shipping_country = df_clean.shipping_country.str.strip().str.replace(',', '').str.replace(\"'\", '')"
   ]
  },
  {
   "cell_type": "code",
   "execution_count": null,
   "metadata": {},
   "outputs": [],
   "source": [
    "#rename category names using .cat.rename_categories\n",
    "df_clean.shipping_country.cat.rename_categories({\"Croatia/Hrvatska\":'Republic of Croatia',\"Iran (Islamic Republic of)\":'Iran',\"Vanuatu\":'Republic of Vanuatu',\"Korea Democratic Peoples Republic\":\"Democratic People's Republic of Korea\",\"Korea Republic of\":'Republic of Korea'})"
   ]
  },
  {
   "cell_type": "markdown",
   "metadata": {},
   "source": [
    "<a id='date'></a>\n",
    "### VARIABLE 14 : Date"
   ]
  },
  {
   "cell_type": "code",
   "execution_count": null,
   "metadata": {},
   "outputs": [],
   "source": [
    "df_clean['year'] = df_clean.date.dt.year # create new column 'year' that registers year sale transaction was held.(helps with analysis)"
   ]
  },
  {
   "cell_type": "markdown",
   "metadata": {},
   "source": [
    "**Test**"
   ]
  },
  {
   "cell_type": "code",
   "execution_count": null,
   "metadata": {},
   "outputs": [],
   "source": [
    "df_clean.head()"
   ]
  },
  {
   "cell_type": "code",
   "execution_count": null,
   "metadata": {
    "scrolled": true
   },
   "outputs": [],
   "source": [
    "df_clean.year.value_counts().sort_index() # number of sale transactions per year"
   ]
  },
  {
   "cell_type": "markdown",
   "metadata": {},
   "source": [
    "<a id='quantity'></a>\n",
    "### VARIABLE 15 : quantity"
   ]
  },
  {
   "cell_type": "code",
   "execution_count": null,
   "metadata": {},
   "outputs": [],
   "source": [
    "# Maximum Quantity of items sold in a trasaction for 2015-2019\n",
    "df_clean.quantity.max()"
   ]
  },
  {
   "cell_type": "code",
   "execution_count": null,
   "metadata": {},
   "outputs": [],
   "source": [
    "# Minimum Quantity of items sold per day for 2015-2019\n",
    "df_clean.quantity.min()"
   ]
  },
  {
   "cell_type": "code",
   "execution_count": null,
   "metadata": {},
   "outputs": [],
   "source": [
    "# Plot the data\n",
    "plt.rcParams['figure.figsize']=(15,10)\n",
    "plt.plot_date(df_clean.index, df_clean.quantity,linestyle='solid')\n",
    "# Add a legend\n",
    "plt.legend(['Quantity of items sold per transaction'],fontsize=18)\n",
    "plt.xlabel('Date', fontsize=18)\n",
    "plt.ylabel('Quantity',fontsize=18)\n",
    "plt.title( 'QUANTITY OF ITEMS SOLD PER TRANSACTION OVER JAN,2015-JULY,2019',fontsize=20,y=1.03)\n",
    "plt.tick_params(labelsize=12)\n",
    "plt.tight_layout()\n",
    "plt.savefig('qty.png',type=\"png\",dpi=300)#Export graph as .png\n",
    "# Show the plot\n",
    "plt.show()"
   ]
  },
  {
   "cell_type": "markdown",
   "metadata": {},
   "source": [
    "### Findings\n",
    "From the figure above we note that there are negative Quantity entries. \n",
    "Quantity column indicates the number of items purchased in a transaction, it is therefore unexpected to find negative entries.\n",
    "\n",
    "The negative entries in the Quantity column are records of items that have been returned by the customer after purchase for one reason or another.\n",
    "\n",
    "The **overall totals and means will be brought down** if Quality data is assesed or analyzed as is. We shall therefore analyze the returned items (indicated as -ve Quantity) and those purchased but not returned (indicated as +ve Quantity) separately.\n"
   ]
  },
  {
   "cell_type": "markdown",
   "metadata": {},
   "source": [
    "### Quantity of Purchased items(not returned)"
   ]
  },
  {
   "cell_type": "code",
   "execution_count": null,
   "metadata": {},
   "outputs": [],
   "source": [
    "#Total quantity of items sold for 2015-2019 (not returned)\n",
    "sum(qty for qty in df_clean.quantity if qty > 0) #total sum of '+ve' quantity"
   ]
  },
  {
   "cell_type": "markdown",
   "metadata": {},
   "source": [
    "### Quantity of returned items upon purchase "
   ]
  },
  {
   "cell_type": "code",
   "execution_count": null,
   "metadata": {},
   "outputs": [],
   "source": [
    "# Dataframe of returned items\n",
    "qtynegative = df_clean[(df_clean['quantity']<0)]# Rows with negative values in Quantity column\n",
    "qtynegative.head()"
   ]
  },
  {
   "cell_type": "code",
   "execution_count": null,
   "metadata": {},
   "outputs": [],
   "source": [
    "qtynegative.info()"
   ]
  },
  {
   "cell_type": "code",
   "execution_count": null,
   "metadata": {},
   "outputs": [],
   "source": [
    "qtynegative.to_csv('qtynegative.csv', index=False)"
   ]
  },
  {
   "cell_type": "code",
   "execution_count": null,
   "metadata": {},
   "outputs": [],
   "source": [
    "# sale transactions where items were returned\n",
    "sum(qty < 0 for qty in df_clean.quantity)# Negative(-ve) entries in Quantity column"
   ]
  },
  {
   "cell_type": "code",
   "execution_count": null,
   "metadata": {},
   "outputs": [],
   "source": [
    "# Total Quantity of items that were returned by customers after purchase\n",
    "sum(qty for qty in df_clean.quantity if qty < 0)#sum the total (-ve) items "
   ]
  },
  {
   "cell_type": "markdown",
   "metadata": {},
   "source": [
    "## Findings\n",
    "The maximum quantity of items sold in a sale transaction for January 2015 – July 2019 period was 2,510 while the minimum was -1,000. \n",
    "Excluding the returned items upon purchase (negative quantity entries), the total quantity of products/ items sold over the January 2015 – July 2019 period is 5,548,484. \n"
   ]
  },
  {
   "cell_type": "markdown",
   "metadata": {},
   "source": [
    "<a id='amount'></a>\n",
    "### VARIABLE 16 : amount"
   ]
  },
  {
   "cell_type": "code",
   "execution_count": null,
   "metadata": {},
   "outputs": [],
   "source": [
    "# Maximum revenue generated in a sale trasaction for 2015-2019\n",
    "df_clean['amount'].max()"
   ]
  },
  {
   "cell_type": "code",
   "execution_count": null,
   "metadata": {},
   "outputs": [],
   "source": [
    "# Minimum revenue generated in a sale trasaction for 2015-2019\n",
    "df_clean['amount'].min()"
   ]
  },
  {
   "cell_type": "code",
   "execution_count": null,
   "metadata": {},
   "outputs": [],
   "source": [
    "# Plot the data\n",
    "plt.rcParams['figure.figsize']=(15,10)\n",
    "plt.plot_date(df_clean.index, df_clean.amount,linestyle='solid')\n",
    "# Add a legend\n",
    "plt.legend(['Revenue generated per transaction'], fontsize=18)\n",
    "plt.xlabel('Date', fontsize=18)\n",
    "plt.ylabel('Revenue Amount(EUR)', fontsize=18)\n",
    "plt.title( 'AMOUNT GENERATED PER TRANSACTION OVER JAN 2015-JULY 2019', fontsize=20)\n",
    "plt.tick_params(labelsize=18)\n",
    "plt.tight_layout()\n",
    "plt.savefig('amt.png',type=\"png\",dpi=300)#Export graph as .png\n",
    "# Show the plot\n",
    "plt.show()"
   ]
  },
  {
   "cell_type": "code",
   "execution_count": null,
   "metadata": {},
   "outputs": [],
   "source": [
    "# Dataframe of returned items\n",
    "amtpositive = df_clean[(df_clean['amount']>0)]# Rows with negative values in Quantity column\n",
    "amtpositive.head()"
   ]
  },
  {
   "cell_type": "code",
   "execution_count": null,
   "metadata": {},
   "outputs": [],
   "source": [
    "amtpositive.info()"
   ]
  },
  {
   "cell_type": "code",
   "execution_count": null,
   "metadata": {},
   "outputs": [],
   "source": [
    "amtpositive.to_csv('amtpositive.csv', index=False)"
   ]
  },
  {
   "cell_type": "code",
   "execution_count": null,
   "metadata": {},
   "outputs": [],
   "source": [
    "#Total revenue generated for January 2015-2019\n",
    "sum(amount for amount in df_clean.amount if amount > 0) #total sum of '+ve' quantity"
   ]
  },
  {
   "cell_type": "code",
   "execution_count": null,
   "metadata": {},
   "outputs": [],
   "source": [
    "#Sale transactions of reimbursed amount\n",
    "sum(amount < 0 for amount in df_clean.amount)# Negative entries in amount column"
   ]
  },
  {
   "cell_type": "code",
   "execution_count": null,
   "metadata": {},
   "outputs": [],
   "source": [
    "#sum total of reimbursed amount (revenue lost)\n",
    "sum(amount for amount in df_clean.amount if amount < 0)"
   ]
  },
  {
   "cell_type": "markdown",
   "metadata": {},
   "source": [
    "<a id='explore'></a>\n",
    "###  Explore: quantity and amount columns"
   ]
  },
  {
   "cell_type": "code",
   "execution_count": null,
   "metadata": {},
   "outputs": [],
   "source": [
    "# rows with positive values in Quantity column and Amount column\n",
    "dfrevenue = df_clean[(df_clean.amount>0) & (df_clean.quantity>0)]"
   ]
  },
  {
   "cell_type": "code",
   "execution_count": null,
   "metadata": {
    "scrolled": true
   },
   "outputs": [],
   "source": [
    "dfrevenue.head()"
   ]
  },
  {
   "cell_type": "code",
   "execution_count": null,
   "metadata": {},
   "outputs": [],
   "source": [
    "dfrevenue.to_csv('dfrevenue.csv', index=False)"
   ]
  },
  {
   "cell_type": "code",
   "execution_count": null,
   "metadata": {},
   "outputs": [],
   "source": [
    "dfrevenue.info()"
   ]
  },
  {
   "cell_type": "code",
   "execution_count": null,
   "metadata": {},
   "outputs": [],
   "source": [
    "dfrevenue.amount.max() #maximum revenue generated in a transaction"
   ]
  },
  {
   "cell_type": "code",
   "execution_count": null,
   "metadata": {},
   "outputs": [],
   "source": [
    "dfrevenue.amount.min() #minimum revenue generated in a transaction"
   ]
  },
  {
   "cell_type": "code",
   "execution_count": null,
   "metadata": {},
   "outputs": [],
   "source": [
    "dfrevenue.amount.mean() #average qamount of items bought per transaction"
   ]
  },
  {
   "cell_type": "code",
   "execution_count": null,
   "metadata": {},
   "outputs": [],
   "source": [
    "dfrevenue.amount.mode()"
   ]
  },
  {
   "cell_type": "code",
   "execution_count": null,
   "metadata": {},
   "outputs": [],
   "source": [
    "# Group the data frame by year and extract a number of stats per year\n",
    "revenuerank = dfrevenue.groupby(\n",
    "   ['year']\n",
    ").agg(\n",
    "    {\n",
    "         'amount':sum,    # Sum revenue per customer\n",
    "         'quantity': sum  # get the sum of items sold per year\n",
    "         \n",
    "    }\n",
    ")\n",
    "\n",
    "revenuerank.sort_values(by=['year'], inplace=True, ascending=True)"
   ]
  },
  {
   "cell_type": "code",
   "execution_count": null,
   "metadata": {
    "scrolled": true
   },
   "outputs": [],
   "source": [
    "revenuerank.head()"
   ]
  },
  {
   "cell_type": "code",
   "execution_count": null,
   "metadata": {},
   "outputs": [],
   "source": [
    "# rows with negative values in Quantity column and Amount column\n",
    "dfreimbursed  = df_clean[(df_clean.amount<0) & (df_clean.quantity<0)]"
   ]
  },
  {
   "cell_type": "code",
   "execution_count": null,
   "metadata": {},
   "outputs": [],
   "source": [
    "dfreimbursed.head()"
   ]
  },
  {
   "cell_type": "code",
   "execution_count": null,
   "metadata": {},
   "outputs": [],
   "source": [
    "dfreimbursed.to_csv('dfreimbursed.csv', index=False)"
   ]
  },
  {
   "cell_type": "code",
   "execution_count": null,
   "metadata": {},
   "outputs": [],
   "source": [
    "dfreimbursed.info()"
   ]
  },
  {
   "cell_type": "code",
   "execution_count": null,
   "metadata": {},
   "outputs": [],
   "source": [
    "reimbursedrank = dfreimbursed.groupby(\n",
    "   ['year']\n",
    ").agg(\n",
    "    {\n",
    "         'amount':sum,    # Sum revenue per customer\n",
    "         'quantity': sum  # get the sum of items sold per year\n",
    "         \n",
    "    }\n",
    ")\n",
    "\n",
    "reimbursedrank.sort_values(by=['year'], inplace=True, ascending=True)"
   ]
  },
  {
   "cell_type": "code",
   "execution_count": null,
   "metadata": {},
   "outputs": [],
   "source": [
    "reimbursedrank.head()"
   ]
  },
  {
   "cell_type": "code",
   "execution_count": null,
   "metadata": {},
   "outputs": [],
   "source": [
    "#zero quantity and zero revenue rows (9 rows)\n",
    "zerorevenue = df_clean[(df_clean.amount == 0) & (df_clean.quantity == 0)]"
   ]
  },
  {
   "cell_type": "code",
   "execution_count": null,
   "metadata": {},
   "outputs": [],
   "source": [
    "zerorevenue.to_csv('zerorevenue.csv', index=False)"
   ]
  },
  {
   "cell_type": "code",
   "execution_count": null,
   "metadata": {},
   "outputs": [],
   "source": [
    "zerorevenue.head(9)"
   ]
  },
  {
   "cell_type": "code",
   "execution_count": null,
   "metadata": {},
   "outputs": [],
   "source": [
    "zerorevenue.info()"
   ]
  },
  {
   "cell_type": "code",
   "execution_count": null,
   "metadata": {},
   "outputs": [],
   "source": [
    "zerorevenuerank = zerorevenue.groupby(\n",
    "   ['year']\n",
    ").agg(\n",
    "    {\n",
    "         'amount':sum,    \n",
    "         'quantity': sum  \n",
    "         \n",
    "    }\n",
    ")\n",
    "\n",
    "zerorevenuerank.sort_index(inplace=True)"
   ]
  },
  {
   "cell_type": "code",
   "execution_count": null,
   "metadata": {},
   "outputs": [],
   "source": [
    "zerorevenuerank"
   ]
  },
  {
   "cell_type": "code",
   "execution_count": null,
   "metadata": {},
   "outputs": [],
   "source": [
    "#Negative quantity and zero revenue (or +ve) (749 rows)\n",
    "notreimbursed = df_clean[(df_clean.amount >= 0) & (df_clean.quantity < 0)]"
   ]
  },
  {
   "cell_type": "code",
   "execution_count": null,
   "metadata": {},
   "outputs": [],
   "source": [
    "notreimbursed.head(5)"
   ]
  },
  {
   "cell_type": "code",
   "execution_count": null,
   "metadata": {},
   "outputs": [],
   "source": [
    "notreimbursed.to_csv('notreimbursed.csv', index=False)"
   ]
  },
  {
   "cell_type": "code",
   "execution_count": null,
   "metadata": {
    "scrolled": true
   },
   "outputs": [],
   "source": [
    "notreimbursed.info()"
   ]
  },
  {
   "cell_type": "code",
   "execution_count": null,
   "metadata": {},
   "outputs": [],
   "source": [
    "notreimbursedrank = notreimbursed.groupby(\n",
    "   ['year']\n",
    ").agg(\n",
    "    {\n",
    "         'amount':sum,    # Sum revenue per customer\n",
    "         'quantity': sum  # get the sum of items sold per year\n",
    "         \n",
    "    }\n",
    ")\n",
    "notreimbursedrank.sort_index(inplace=True)"
   ]
  },
  {
   "cell_type": "code",
   "execution_count": null,
   "metadata": {},
   "outputs": [],
   "source": [
    "notreimbursedrank"
   ]
  },
  {
   "cell_type": "code",
   "execution_count": null,
   "metadata": {},
   "outputs": [],
   "source": [
    "#zero (or -ve) revenue rows but +ve quantity (unpaid goods)(8,356 rows)\n",
    "unpaidrevenue = df_clean[(df_clean.amount <= 0) & (df_clean.quantity > 0)]"
   ]
  },
  {
   "cell_type": "code",
   "execution_count": null,
   "metadata": {},
   "outputs": [],
   "source": [
    "unpaidrevenue.head()"
   ]
  },
  {
   "cell_type": "code",
   "execution_count": null,
   "metadata": {},
   "outputs": [],
   "source": [
    "unpaidrevenue.to_csv('unpaidrevenue.csv', index=False)"
   ]
  },
  {
   "cell_type": "code",
   "execution_count": null,
   "metadata": {},
   "outputs": [],
   "source": [
    "unpaidrevenue.tail()"
   ]
  },
  {
   "cell_type": "code",
   "execution_count": null,
   "metadata": {},
   "outputs": [],
   "source": [
    "unpaidrevenue.info()"
   ]
  },
  {
   "cell_type": "code",
   "execution_count": null,
   "metadata": {},
   "outputs": [],
   "source": [
    "unpaidrevenuerank = unpaidrevenue.groupby(\n",
    "   ['year']\n",
    ").agg(\n",
    "    {\n",
    "         'amount':sum,    # Sum revenue per customer\n",
    "         'quantity': sum  # get the sum of items sold per year\n",
    "         \n",
    "    }\n",
    ")\n",
    "\n",
    "unpaidrevenuerank.sort_index(inplace=True)"
   ]
  },
  {
   "cell_type": "code",
   "execution_count": null,
   "metadata": {
    "scrolled": true
   },
   "outputs": [],
   "source": [
    "unpaidrevenuerank"
   ]
  },
  {
   "cell_type": "markdown",
   "metadata": {},
   "source": [
    "## Quality Issues\n",
    "\n",
    "* 'Item' column : Unexpected numeric type categories are spotted.This type of entries will technically be considered as a missing values.\n",
    "\n",
    "* 'quantity' and 'amount' columns: \n",
    "    * Filter out zero quantity and zero revenue rows\n"
   ]
  },
  {
   "cell_type": "markdown",
   "metadata": {},
   "source": [
    "## DATA CLEANING"
   ]
  },
  {
   "cell_type": "code",
   "execution_count": null,
   "metadata": {},
   "outputs": [],
   "source": []
  },
  {
   "cell_type": "markdown",
   "metadata": {},
   "source": [
    "## EXPLARATORY DATA ANALYSIS"
   ]
  },
  {
   "cell_type": "code",
   "execution_count": null,
   "metadata": {},
   "outputs": [],
   "source": [
    "# rows with positive values in Quantity column and Amount column\n",
    "dfrevenue = df_clean[(df_clean.amount>=9.95) & (df_clean.quantity>0)]"
   ]
  },
  {
   "cell_type": "code",
   "execution_count": null,
   "metadata": {},
   "outputs": [],
   "source": [
    "netherlandsrevenue =dfrevenue[(dfrevenue.shipping_country == 'Netherlands')]"
   ]
  },
  {
   "cell_type": "code",
   "execution_count": null,
   "metadata": {},
   "outputs": [],
   "source": [
    "netherlandsrevenue.info()"
   ]
  },
  {
   "cell_type": "code",
   "execution_count": null,
   "metadata": {},
   "outputs": [],
   "source": [
    "netherlandsrevenue.amount.max() #maximum revenue generated in a transaction"
   ]
  },
  {
   "cell_type": "code",
   "execution_count": null,
   "metadata": {},
   "outputs": [],
   "source": [
    "netherlandsrevenue.amount.min() "
   ]
  },
  {
   "cell_type": "code",
   "execution_count": null,
   "metadata": {},
   "outputs": [],
   "source": [
    "netherlandsrevenuerank = netherlandsrevenue.groupby(\n",
    "   ['year']\n",
    ").agg(\n",
    "    {\n",
    "         'amount':sum,    # Sum revenue per customer\n",
    "         'quantity': sum  # get the sum of items sold per year\n",
    "         \n",
    "    }\n",
    ")\n",
    "\n",
    "netherlandsrevenuerank.sort_values(by=['year'], inplace=True, ascending=True)"
   ]
  },
  {
   "cell_type": "code",
   "execution_count": null,
   "metadata": {},
   "outputs": [],
   "source": [
    "netherlandsrevenuerank"
   ]
  },
  {
   "cell_type": "code",
   "execution_count": null,
   "metadata": {},
   "outputs": [],
   "source": [
    "customerrank = dfrevenue.groupby(\n",
    "   ['year', 'customer_name', 'customer_category']\n",
    ").agg(\n",
    "    {\n",
    "         'amount':sum,    # Sum revenue per customer\n",
    "         'quantity': sum  # get the sum of items sold per year\n",
    "         \n",
    "    }\n",
    ")\n",
    "\n",
    "customerrank.sort_values(by=['amount'], inplace=True, ascending=False)"
   ]
  },
  {
   "cell_type": "code",
   "execution_count": null,
   "metadata": {},
   "outputs": [],
   "source": [
    "customerrank"
   ]
  },
  {
   "cell_type": "markdown",
   "metadata": {},
   "source": [
    "## TIME SERIES ANALYSIS"
   ]
  },
  {
   "cell_type": "code",
   "execution_count": 24,
   "metadata": {},
   "outputs": [],
   "source": [
    "# CREATE TIME SERIES\n",
    "df_clean.set_index('date', inplace=True) #set 'date' column as dataframe index"
   ]
  },
  {
   "cell_type": "markdown",
   "metadata": {},
   "source": [
    "**Test**"
   ]
  },
  {
   "cell_type": "code",
   "execution_count": null,
   "metadata": {},
   "outputs": [],
   "source": [
    "df_clean.index"
   ]
  },
  {
   "cell_type": "markdown",
   "metadata": {},
   "source": [
    "## MINIWALLET"
   ]
  },
  {
   "cell_type": "code",
   "execution_count": null,
   "metadata": {},
   "outputs": [],
   "source": [
    "miniwalletdf =df_clean[(df_clean.pim_category == 'Miniwallet')]"
   ]
  },
  {
   "cell_type": "code",
   "execution_count": null,
   "metadata": {
    "scrolled": true
   },
   "outputs": [],
   "source": [
    "miniwalletdf.head() #preview first five rows"
   ]
  },
  {
   "cell_type": "code",
   "execution_count": null,
   "metadata": {},
   "outputs": [],
   "source": [
    "timelessdesign= miniwalletdf.groupby(\n",
    "   ['type_of_material']\n",
    ").agg(\n",
    "    {\n",
    "         'amount':sum,    # Sum revenue per customer\n",
    "         'quantity': sum  # get the sum of items sold per year\n",
    "         \n",
    "    }\n",
    ")\n",
    "\n",
    "timelessdesign.sort_values(by=['amount'], inplace=True, ascending=False)"
   ]
  }
 ],
 "metadata": {
  "kernelspec": {
   "display_name": "Python 3",
   "language": "python",
   "name": "python3"
  },
  "language_info": {
   "codemirror_mode": {
    "name": "ipython",
    "version": 3
   },
   "file_extension": ".py",
   "mimetype": "text/x-python",
   "name": "python",
   "nbconvert_exporter": "python",
   "pygments_lexer": "ipython3",
   "version": "3.7.4"
  }
 },
 "nbformat": 4,
 "nbformat_minor": 4
}
